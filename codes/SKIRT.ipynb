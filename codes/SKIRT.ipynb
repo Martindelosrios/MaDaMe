{
 "cells": [
  {
   "cell_type": "code",
   "execution_count": 1,
   "id": "8fd2998c-ba36-430e-8150-073e42847c93",
   "metadata": {},
   "outputs": [],
   "source": [
    "import numpy as np\n",
    "import os\n",
    "import h5py\n",
    "import matplotlib.pyplot as plt\n",
    "import matplotlib.image as mpimg\n",
    "#import warnings\n",
    "#import astropy.units as U\n",
    "#import astropy.constants as C\n",
    "#from scipy.spatial.transform import Rotation as R\n",
    "\n",
    "\n",
    "G     = 4.3e-6 # Grav. constant [kPc/M_{sun} (km/s)^2]\n",
    "H0    = 67.74 # Hubble Constant [km/s / Mpc]\n",
    "h     = H0 / 100 \n",
    "rho_c = 3*(H0**2)/(8*np.pi*G*1e-3) # Critical density [M_{sun}/Mpc**3]\n",
    "rho_c = rho_c * (1e-3 ** 3) #2.7754 * 1e2 * (H0/100)**2 # Critical density [M_{sun}/Kpc**3]\n",
    "Nfields = 9\n",
    "M_dm    = 7.5e6 # M_sun"
   ]
  },
  {
   "cell_type": "code",
   "execution_count": 2,
   "id": "1c0919ea-1467-4d82-b343-f0c91d07ada1",
   "metadata": {},
   "outputs": [],
   "source": [
    "#import illustris_python as il\n",
    "import pts.simulation as sm\n",
    "import pts.utils as ut\n",
    "import pts.visual as vis\n",
    "import pts.band as bd\n",
    "import pts.do"
   ]
  },
  {
   "cell_type": "code",
   "execution_count": 3,
   "id": "5c411bbb-952b-44f8-bbb5-45ae0ad5681c",
   "metadata": {},
   "outputs": [
    {
     "name": "stdout",
     "output_type": "stream",
     "text": [
      "halo_31_gasCoord.txt\t       subhalo_165727_starsHsml.txt\n",
      "halo_31_gasHsml.txt\t       subhalo_165727_starsInitMass.txt\n",
      "halo_31_gasMasses.txt\t       subhalo_165727_starsMasses.txt\n",
      "halo_31_gasMetal.txt\t       subhalo_165727_starsMetal.txt\n",
      "halo_31_gasVels.txt\t       subhalo_165727_starsSFT.txt\n",
      "halo_31_starsCoord.txt\t       subhalo_165727_starsVels.txt\n",
      "halo_31_starsHsml.txt\t       subhalo_165728_gasCoord.txt\n",
      "halo_31_starsInitMass.txt      subhalo_165728_gasDens.txt\n",
      "halo_31_starsMasses.txt        subhalo_165728_gasHsml.txt\n",
      "halo_31_starsMetal.txt\t       subhalo_165728_gasMasses.txt\n",
      "halo_31_starsSFT.txt\t       subhalo_165728_gasMetal.txt\n",
      "halo_31_starsVels.txt\t       subhalo_165728_gasVels.txt\n",
      "subhalo_165727_gasCoord.txt    subhalo_165728_starsCoord.txt\n",
      "subhalo_165727_gasDens.txt     subhalo_165728_starsHsml.txt\n",
      "subhalo_165727_gasHsml.txt     subhalo_165728_starsInitMass.txt\n",
      "subhalo_165727_gasMasses.txt   subhalo_165728_starsMasses.txt\n",
      "subhalo_165727_gasMetal.txt    subhalo_165728_starsMetal.txt\n",
      "subhalo_165727_gasVels.txt     subhalo_165728_starsSFT.txt\n",
      "subhalo_165727_starsCoord.txt  subhalo_165728_starsVels.txt\n"
     ]
    }
   ],
   "source": [
    "!ls ../data/particles/"
   ]
  },
  {
   "cell_type": "code",
   "execution_count": 4,
   "id": "80b92949-6a02-4e76-9a7f-dae6b8578caf",
   "metadata": {},
   "outputs": [],
   "source": [
    "subID = 165727\n",
    "try:\n",
    "    folder = '../data/TNGgalaxies/' + str(subID)\n",
    "    os.mkdir(folder)\n",
    "except:\n",
    "    pass"
   ]
  },
  {
   "cell_type": "code",
   "execution_count": 5,
   "id": "db6a4fbe-4863-409a-a986-342885096fae",
   "metadata": {},
   "outputs": [
    {
     "name": "stderr",
     "output_type": "stream",
     "text": [
      "/tmp/ipykernel_1723165/2606003752.py:18: RuntimeWarning: invalid value encountered in power\n",
      "  stars_t0 = 13.8 * (1. - stars_SFT**1.5) + 1e-6\n"
     ]
    }
   ],
   "source": [
    "particles = np.loadtxt('../data/particles/subhalo_' + str(subID) + '_starsCoord.txt') / h # [kPc]\n",
    "npart = len(particles)\n",
    "\n",
    "aux = np.loadtxt('../data/particles/subhalo_' + str(subID) + '_starsHsml.txt') / h # Hsml [kPc]\n",
    "particles = np.hstack((particles, aux.reshape(npart, 1)))\n",
    "\n",
    "aux = np.loadtxt('../data/particles/subhalo_' + str(subID) + '_starsVels.txt') # Vels [km sqrt(a)/s]\n",
    "particles = np.hstack((particles, aux))\n",
    "\n",
    "aux = np.loadtxt('../data/particles/subhalo_' + str(subID) + '_starsInitMass.txt') * (1e10) / h # [Msun]\n",
    "particles = np.hstack((particles, aux.reshape(npart, 1)))\n",
    "\n",
    "aux = np.loadtxt('../data/particles/subhalo_' + str(subID) + '_starsMetal.txt')\n",
    "particles = np.hstack((particles, aux.reshape(npart, 1)))\n",
    "\n",
    "stars_SFT = np.loadtxt('../data/particles/subhalo_' + str(subID) + '_starsSFT.txt')\n",
    "\n",
    "stars_t0 = 13.8 * (1. - stars_SFT**1.5) + 1e-6\n",
    "\n",
    "particles = np.hstack((particles, stars_t0.reshape(npart, 1)))"
   ]
  },
  {
   "cell_type": "code",
   "execution_count": 6,
   "id": "b898e70d-4ba1-417f-946e-c258379ca433",
   "metadata": {},
   "outputs": [
    {
     "data": {
      "text/plain": [
       "(683121, 10)"
      ]
     },
     "execution_count": 6,
     "metadata": {},
     "output_type": "execute_result"
    }
   ],
   "source": [
    "particles.shape"
   ]
  },
  {
   "cell_type": "code",
   "execution_count": 7,
   "id": "dad03e96-1ddc-4d0a-873f-3789ebe5152a",
   "metadata": {},
   "outputs": [],
   "source": [
    "# Discard wind particles (definition from illustris documentation: \n",
    "#      https://www.tng-project.org/data/docs/specifications/#parttype0\n",
    "\n",
    "ind_wind = np.where(stars_SFT <= 0)[0]\n",
    "if len(ind_wind) > 0:\n",
    "    particles = np.delete(particles, ind_wind, axis=0)\n",
    "\n",
    "# Transform data to be center on the Center of Mass of the cluster, and rotate to be edge-on\n",
    "#.\n",
    "#.\n",
    "#.\n",
    "#.\n",
    "\n",
    "# Discard particles outside certain radii\n",
    "#.\n",
    "#.\n",
    "#.\n",
    "#.\n",
    "\n",
    "# Separare old from young stars:\n",
    "\n",
    "# from where do we get this formula???\n",
    "\n",
    "# from where do we get this condition???\n",
    "\n",
    "ind_old = np.where(particles[:,9] > 1e-2)[0]\n",
    "ind_new = np.where(particles[:,9] <= 1e-2)[0]\n",
    "\n",
    "particles_old = particles[ind_old]\n",
    "particles = particles[ind_new]\n",
    "\n",
    "if len(ind_old) > 0:\n",
    "    stars_old_header = ' Stellar particles for IllustrisTNG 100-1 subhaloID=' + str(subID) + ' \\n SKIRT 9 import format for a particle source with the Bruzual Charlot SED family \\n Column 1: x-coordinate (kpc) \\n Column 2: y-coordinate (kpc) \\n Column 3: z-coordinate (kpc) \\n Column 4: particle smoothing length (kpc) \\n Column 5: x-velocity (km/s) \\n Column 6: y-velocity (km/s) \\n Column 7: z-velocity (km/s) \\n Column 8: initial mass (Msun) \\n Column 9: metallicity (1) \\n Column 10: age (Gyr) \\n'\n",
    "    #stars_old_header = ' Stellar particles for IllustrisTNG 100-1 subhaloID=' + str(subID) +  \\\n",
    "    #                   ' \\n SKIRT 9 import format for a particle source with the Bruzual Charlot SED family' + \\\n",
    "    #                   '\\n Column 1: x-coordinate (kpc) \\n Column 2: y-coordinate (kpc) \\n Column 3: z-coordinate (kpc)' + \\\n",
    "    #                   '\\n Column 4: particle smoothing length (kpc)' +  \\\n",
    "    #                   '\\n Column 8: initial mass (Msun) \\n Column 9: metallicity (1) \\n Column 10: age (Gyr) \\n'\n",
    "    np.savetxt(folder + '/stars_old_v.txt', particles_old, header = stars_old_header)\n",
    "    \n",
    "if len(ind_new) > 0:\n",
    "    log10C = np.repeat(5, len(ind_new)).reshape(len(ind_new),1)\n",
    "    P = np.repeat(0.1, len(ind_new)).reshape(len(ind_new),1)\n",
    "    ccf = np.repeat(0.2, len(ind_new)).reshape(len(ind_new),1)\n",
    "    particles[:,7] = particles[:,7] / particles[:,9] * 1e9 # I dont know why we do this\n",
    "    \n",
    "    particles = np.hstack((particles, log10C, P, ccf))\n",
    "    stars_sb_header = ' Stellar particles for IllustrisTNG 100-1 subhaloID=' + str(subID) + ' \\n SKIRT 9 import format for a particle source with the Bruzual Charlot SED family \\n Column 1: x-coordinate (kpc) \\n Column 2: y-coordinate (kpc) \\n Column 3: z-coordinate (kpc) \\n Column 4: particle smoothing length (kpc) \\n Column 5: x-velocity (km/s) \\n Column 6: y-velocity (km/s) \\n Column 7: z-velocity (km/s) \\n Column 8: star formation rate (Msun/yr) \\n Column 9: metallicity (1) \\n Column 10: compactness (1) \\n Column 11: pressure (K/m3) \\n Column 12: cloud covering fraction (1) \\n'\n",
    "\n",
    "    np.savetxt(folder + '/stars_sb_v.txt', particles, header = stars_sb_header)"
   ]
  },
  {
   "cell_type": "code",
   "execution_count": 8,
   "id": "61beb823-f4ad-47e2-8424-e4df6fc92a21",
   "metadata": {},
   "outputs": [],
   "source": [
    "particles = np.loadtxt('../data/particles/subhalo_' + str(subID) + '_gasCoord.txt') / h # [kPc]\n",
    "npart = len(particles)\n",
    "\n",
    "aux = np.loadtxt('../data/particles/subhalo_' + str(subID) + '_gasDens.txt') * (1e10) * (h**2) # [Msun / kPc^3]\n",
    "particles = np.hstack((particles, aux.reshape(npart, 1)))\n",
    "\n",
    "aux = np.loadtxt('../data/particles/subhalo_' + str(subID) + '_gasMetal.txt')\n",
    "particles = np.hstack((particles, aux.reshape(npart, 1)))\n",
    "\n",
    "aux = np.loadtxt('../data/particles/subhalo_' + str(subID) + '_gasVels.txt') # Vels [km sqrt(a)/s]\n",
    "particles = np.hstack((particles, aux))\n",
    "\n",
    "#stars_SFT = np.loadtxt('../data/particles/subhalo_' + str(subID) + '_gasSFT.txt')\n",
    "\n",
    "#aux = np.loadtxt('../data/particles/subhalo_' + str(subID) + '_gasHsml.txt') / h # Hsml [kPc]\n",
    "#particles = np.hstack((particles, aux.reshape(npart, 1)))\n",
    "\n",
    "# Let's save the data\n",
    "particles[:,3] = particles[:,3] * 1e-9 # Convert to [M_sun / Pc^3]\n",
    "gas_header = ' Gas particles for IllustrisTNG 100-1 subhaloID=' + str(subID) + ' \\n SKIRT 9 import format for a medium source using M_dust = f_dust x Z x M_gas \\n Column 1: x-coordinate (kpc) \\n Column 2: y-coordinate (kpc) \\n Column 3: z-coordinate (kpc) \\n Column 4: gas mass volume density (Msun/pc3) \\n Column 5: metallicity (1) \\n Column 6: x-velocity (km/s) \\n Column 7: y-velocity (km/s) \\n Column 8: z-velocity (km/s) \\n '\n",
    "np.savetxt(folder + '/gas_v.txt', particles, header = gas_header)\n",
    "  "
   ]
  },
  {
   "cell_type": "code",
   "execution_count": 9,
   "id": "e00f9408-5c97-49c2-ac5c-4c25e8782a5b",
   "metadata": {},
   "outputs": [
    {
     "name": "stdout",
     "output_type": "stream",
     "text": [
      "Rmax:  9\n"
     ]
    }
   ],
   "source": [
    "n_px = 50\n",
    "D = 5\n",
    "px_s = 16.11\n",
    "Rmax = int(0.5 * n_px * D * 1e3 * px_s * 4.848e-6)\n",
    "print(\"Rmax: \", Rmax)\n",
    "#self.get_data(subID, snapID, rot, folder, Rmax)\n",
    "Rframe = Rmax * 1e3\n",
    "Rsource1 = 0.5 * Rframe\n",
    "Rsource2 = 0.1 * Rframe\n",
    "Rmedium = 0.5 * Rframe *1e6\n",
    "Rgrid = 0.5 * Rframe\n",
    "#print(Rmax)\n",
    "#Rmax = 14.961969356639141\n",
    "#Rmax = 0.5 * Rframe\n",
    "#Rsource1 = Rmax\n",
    "#Rsource2 = Rmax\n",
    "#Rmedium = Rmax\n",
    "#Rgrid = Rmax\n",
    "\n",
    "skifile = sm.SkiFile('template.ski')\n",
    "#skifile = sm.SkiFile('template_sb-sph.ski')\n",
    "##skifile.setStringAttribute('.//VoronoiMeshSource', 'minX', str(-Rsource1) + ' pc')\n",
    "##skifile.setStringAttribute('.//VoronoiMeshSource', 'maxX', str(Rsource1) + ' pc')\n",
    "##skifile.setStringAttribute('.//VoronoiMeshSource', 'minY', str(-Rsource1) + ' pc')\n",
    "##skifile.setStringAttribute('.//VoronoiMeshSource', 'maxY', str(Rsource1) + ' pc')\n",
    "##skifile.setStringAttribute('.//VoronoiMeshSource', 'minZ', str(-Rsource1) + ' pc')\n",
    "##skifile.setStringAttribute('.//VoronoiMeshSource', 'maxZ', str(Rsource1) + ' pc')\n",
    "\n",
    "#skifile.setStringAttribute('(.//VoronoiMeshSource)[1]', 'minX', str(-Rsource1) + ' pc')\n",
    "#skifile.setStringAttribute('(.//VoronoiMeshSource)[1]', 'maxX', str(Rsource1) + ' pc')\n",
    "#skifile.setStringAttribute('(.//VoronoiMeshSource)[1]', 'minY', str(-Rsource1) + ' pc')\n",
    "#skifile.setStringAttribute('(.//VoronoiMeshSource)[1]', 'maxY', str(Rsource1) + ' pc')\n",
    "#skifile.setStringAttribute('(.//VoronoiMeshSource)[1]', 'minZ', str(-Rsource1) + ' pc')\n",
    "#skifile.setStringAttribute('(.//VoronoiMeshSource)[1]', 'maxZ', str(Rsource1) + ' pc')\n",
    "\n",
    "#skifile.setStringAttribute('(.//VoronoiMeshSource)[2]', 'minX', str(-Rsource2) + ' pc')\n",
    "#skifile.setStringAttribute('(.//VoronoiMeshSource)[2]', 'maxX', str(Rsource2) + ' pc')\n",
    "#skifile.setStringAttribute('(.//VoronoiMeshSource)[2]', 'minY', str(-Rsource2) + ' pc')\n",
    "#skifile.setStringAttribute('(.//VoronoiMeshSource)[2]', 'maxY', str(Rsource2) + ' pc')\n",
    "#skifile.setStringAttribute('(.//VoronoiMeshSource)[2]', 'minZ', str(-Rsource2) + ' pc')\n",
    "#skifile.setStringAttribute('(.//VoronoiMeshSource)[2]', 'maxZ', str(Rsource2) + ' pc')\n",
    "\n",
    "skifile.setStringAttribute('.//ParticleSource', 'filename', 'stars_old_v.txt')\n",
    "skifile.setStringAttribute('.//VoronoiMeshMedium', 'filename', 'gas_v.txt')\n",
    "\n",
    "skifile.setStringAttribute('.//VoronoiMeshMedium', 'minX', str(-Rmedium) + ' pc')\n",
    "skifile.setStringAttribute('.//VoronoiMeshMedium', 'maxX', str(Rmedium) + ' pc')\n",
    "skifile.setStringAttribute('.//VoronoiMeshMedium', 'minY', str(-Rmedium) + ' pc')\n",
    "skifile.setStringAttribute('.//VoronoiMeshMedium', 'maxY', str(Rmedium) + ' pc')\n",
    "skifile.setStringAttribute('.//VoronoiMeshMedium', 'minZ', str(-Rmedium) + ' pc')\n",
    "skifile.setStringAttribute('.//VoronoiMeshMedium', 'maxZ', str(Rmedium) + ' pc')\n",
    "\n",
    "#skifile.setStringAttribute('.//VoronoiMeshSpatialGrid', 'minX', str(-Rgrid) + ' pc')\n",
    "#skifile.setStringAttribute('.//VoronoiMeshSpatialGrid', 'maxX', str(Rgrid) + ' pc')\n",
    "#skifile.setStringAttribute('.//VoronoiMeshSpatialGrid', 'minY', str(-Rgrid) + ' pc')\n",
    "#skifile.setStringAttribute('.//VoronoiMeshSpatialGrid', 'maxY', str(Rgrid) + ' pc')\n",
    "#skifile.setStringAttribute('.//VoronoiMeshSpatialGrid', 'minZ', str(-Rgrid) + ' pc')\n",
    "#skifile.setStringAttribute('.//VoronoiMeshSpatialGrid', 'maxZ', str(Rgrid) + ' pc')\n",
    "\n",
    "skifile.setNumPrimaryPackets(2e7)\n",
    "skifile.setStringAttribute('.//FrameInstrument', 'distance', str(D) + ' Mpc')\n",
    "skifile.setStringAttribute('.//FrameInstrument', 'inclination', '90 deg')\n",
    "skifile.setStringAttribute('.//FrameInstrument', 'azimuth', '180 deg')\n",
    "skifile.setStringAttribute('.//FrameInstrument', 'numPixelsX', str(n_px))\n",
    "skifile.setStringAttribute('.//FrameInstrument', 'numPixelsY', str(n_px))\n",
    "skifile.setStringAttribute('.//FrameInstrument', 'fieldOfViewX', str(Rframe) + ' pc')\n",
    "skifile.setStringAttribute('.//FrameInstrument', 'fieldOfViewY', str(Rframe) + ' pc')\n",
    "\n",
    "skifile.saveTo(folder + '/galaxy.ski')"
   ]
  },
  {
   "cell_type": "code",
   "execution_count": 16,
   "id": "04085a29-22b8-43e1-94e0-19286b0e4a1c",
   "metadata": {},
   "outputs": [
    {
     "name": "stdout",
     "output_type": "stream",
     "text": [
      "28/10/2024 15:15:20.693   Welcome to SKIRT v9.0 (git 8765014 built on 23/10/2024 at 17:15:30)\n",
      "28/10/2024 15:15:20.693   Running on coglians.phys.sissa.it for mdelosri\n",
      "28/10/2024 15:15:20.695   Constructing a simulation from ski file '/u/m/mdelosri/MaDaMe/data/TNGgalaxies/165727/galaxy.ski'...\n",
      "Vertex memory scaled up to 512\n",
      "Order 3 vertex memory scaled up to 512\n",
      "Vertex memory scaled up to 512\n",
      "Order 3 vertex memory scaled up to 512\n",
      "Vertex memory scaled up to 512\n",
      "Order 3 vertex memory scaled up to 512\n",
      "Vertex memory scaled up to 1024\n",
      "Order 3 vertex memory scaled up to 1024\n",
      "Vertex memory scaled up to 512\n",
      "Order 3 vertex memory scaled up to 512\n",
      "Vertex memory scaled up to 1024\n",
      "Order 3 vertex memory scaled up to 1024\n",
      "Vertex memory scaled up to 512\n",
      "Order 3 vertex memory scaled up to 512\n",
      "Vertex memory scaled up to 1024\n",
      "Order 3 vertex memory scaled up to 1024\n",
      "Vertex memory scaled up to 512\n",
      "Order 3 vertex memory scaled up to 512\n",
      "Vertex memory scaled up to 1024\n",
      "Order 3 vertex memory scaled up to 1024\n",
      "Vertex memory scaled up to 512\n",
      "Order 3 vertex memory scaled up to 512\n",
      "Vertex memory scaled up to 1024\n",
      "Order 3 vertex memory scaled up to 1024\n",
      "Vertex memory scaled up to 512\n",
      "Order 3 vertex memory scaled up to 512\n",
      "Vertex memory scaled up to 1024\n",
      "Order 3 vertex memory scaled up to 1024\n",
      "Vertex memory scaled up to 512\n",
      "Order 3 vertex memory scaled up to 512\n",
      "Vertex memory scaled up to 1024\n",
      "Order 3 vertex memory scaled up to 1024\n",
      "Vertex memory scaled up to 512\n",
      "Order 3 vertex memory scaled up to 512\n",
      "Vertex memory scaled up to 1024\n",
      "Order 3 vertex memory scaled up to 1024\n",
      "Vertex memory scaled up to 512\n",
      "Order 3 vertex memory scaled up to 512\n",
      "Vertex memory scaled up to 1024\n",
      "Order 3 vertex memory scaled up to 1024\n",
      "Vertex memory scaled up to 512\n",
      "Order 3 vertex memory scaled up to 512\n",
      "Vertex memory scaled up to 1024\n",
      "Order 3 vertex memory scaled up to 1024\n",
      "Vertex memory scaled up to 512\n",
      "Order 3 vertex memory scaled up to 512\n",
      "Vertex memory scaled up to 1024\n",
      "Order 3 vertex memory scaled up to 1024\n",
      "Vertex memory scaled up to 512\n",
      "Order 3 vertex memory scaled up to 512\n",
      "Vertex memory scaled up to 1024\n",
      "Order 3 vertex memory scaled up to 1024\n",
      "Vertex memory scaled up to 512\n",
      "Order 3 vertex memory scaled up to 512\n",
      "Vertex memory scaled up to 1024\n",
      "Order 3 vertex memory scaled up to 1024\n",
      "Vertex memory scaled up to 512\n",
      "Order 3 vertex memory scaled up to 512\n",
      "Vertex memory scaled up to 1024\n",
      "Order 3 vertex memory scaled up to 1024\n",
      "Vertex memory scaled up to 512\n",
      "Order 3 vertex memory scaled up to 512\n",
      "Vertex memory scaled up to 1024\n",
      "Order 3 vertex memory scaled up to 1024\n",
      "Vertex memory scaled up to 512\n",
      "Order 3 vertex memory scaled up to 512\n",
      "Vertex memory scaled up to 1024\n",
      "Order 3 vertex memory scaled up to 1024\n",
      "Vertex memory scaled up to 512\n",
      "Order 3 vertex memory scaled up to 512\n",
      "Vertex memory scaled up to 1024\n",
      "Order 3 vertex memory scaled up to 1024\n",
      "Vertex memory scaled up to 512\n",
      "Order 3 vertex memory scaled up to 512\n",
      "Vertex memory scaled up to 1024\n",
      "Order 3 vertex memory scaled up to 1024\n",
      "Vertex memory scaled up to 512\n",
      "Order 3 vertex memory scaled up to 512\n",
      "Vertex memory scaled up to 1024\n",
      "Order 3 vertex memory scaled up to 1024\n",
      "Vertex memory scaled up to 512\n",
      "Order 3 vertex memory scaled up to 512\n",
      "Vertex memory scaled up to 1024\n",
      "Order 3 vertex memory scaled up to 1024\n",
      "Vertex memory scaled up to 512\n",
      "Order 3 vertex memory scaled up to 512\n",
      "Vertex memory scaled up to 1024\n",
      "Order 3 vertex memory scaled up to 1024\n",
      "Vertex memory scaled up to 512\n",
      "Order 3 vertex memory scaled up to 512\n",
      "Vertex memory scaled up to 1024\n",
      "Order 3 vertex memory scaled up to 1024\n",
      "Vertex memory scaled up to 512\n",
      "Order 3 vertex memory scaled up to 512\n",
      "Vertex memory scaled up to 1024\n",
      "Order 3 vertex memory scaled up to 1024\n",
      "Vertex memory scaled up to 512\n",
      "Order 3 vertex memory scaled up to 512\n",
      "Vertex memory scaled up to 1024\n",
      "Order 3 vertex memory scaled up to 1024\n",
      "Vertex memory scaled up to 512\n",
      "Order 3 vertex memory scaled up to 512\n",
      "Vertex memory scaled up to 1024\n",
      "Order 3 vertex memory scaled up to 1024\n",
      "Vertex memory scaled up to 512\n",
      "Order 3 vertex memory scaled up to 512\n",
      "Vertex memory scaled up to 1024\n",
      "Order 3 vertex memory scaled up to 1024\n",
      "Vertex memory scaled up to 512\n",
      "Order 3 vertex memory scaled up to 512\n",
      "Vertex memory scaled up to 1024\n",
      "Order 3 vertex memory scaled up to 1024\n",
      "Vertex memory scaled up to 512\n",
      "Order 3 vertex memory scaled up to 512\n",
      "Vertex memory scaled up to 1024\n",
      "Order 3 vertex memory scaled up to 1024\n",
      "Vertex memory scaled up to 512\n",
      "Order 3 vertex memory scaled up to 512\n",
      "Vertex memory scaled up to 1024\n",
      "Order 3 vertex memory scaled up to 1024\n",
      "Vertex memory scaled up to 512\n",
      "Order 3 vertex memory scaled up to 512\n",
      "Vertex memory scaled up to 1024\n",
      "Order 3 vertex memory scaled up to 1024\n",
      "\u001b[32m28/10/2024 16:02:41.601 - Finished setup in 2841 s (47m 21s).\n",
      "\u001b[0m\u001b[32m28/10/2024 16:02:41.601 - Finished setup output in 0.0 s.\n",
      "\u001b[0m\u001b[32m28/10/2024 16:03:32.253 - Finished primary emission in 50.7 s.\n",
      "\u001b[0m\u001b[32m28/10/2024 16:03:39.100 - Finished secondary emission in 6.8 s.\n",
      "\u001b[0m\u001b[32m28/10/2024 16:03:39.100 - Finished the run in 57.5 s.\n",
      "\u001b[0m\u001b[32m28/10/2024 16:03:39.924 - Finished final output in 0.8 s.\n",
      "\u001b[0m\u001b[32m28/10/2024 16:03:39.924 - Finished simulation galaxy using 4 threads and a single process in 2899 s (48m 19s).\n",
      "\u001b[0m28/10/2024 16:03:40.307   Available memory: 125 GB -- Peak memory usage: 460 MB (0.4%)\n"
     ]
    }
   ],
   "source": [
    "skirt = sm.Skirt()\n",
    "simulation = skirt.execute(folder + '/galaxy.ski', inDirPath=folder, outDirPath=folder, numThreadsPerProcess=4, console='brief') #brief"
   ]
  },
  {
   "cell_type": "code",
   "execution_count": 17,
   "id": "625041dc-4a9f-49bd-b55a-1beb3328abff",
   "metadata": {},
   "outputs": [],
   "source": [
    "SDSS_U = bd.BroadBand('/u/m/mdelosri/SKIRT/resources/SKIRT9_Resources_Core/Band/SLOAN_SDSS_U_BroadBand.stab')\n",
    "SDSS_G = bd.BroadBand('/u/m/mdelosri/SKIRT/resources/SKIRT9_Resources_Core/Band/SLOAN_SDSS_G_BroadBand.stab')\n",
    "SDSS_R = bd.BroadBand('/u/m/mdelosri/SKIRT/resources/SKIRT9_Resources_Core/Band/SLOAN_SDSS_R_BroadBand.stab')\n",
    "SDSS_I = bd.BroadBand('/u/m/mdelosri/SKIRT/resources/SKIRT9_Resources_Core/Band/SLOAN_SDSS_I_BroadBand.stab')\n",
    "SDSS_Z = bd.BroadBand('/u/m/mdelosri/SKIRT/resources/SKIRT9_Resources_Core/Band/SLOAN_SDSS_Z_BroadBand.stab')\n"
   ]
  },
  {
   "cell_type": "code",
   "execution_count": 18,
   "id": "1cb6adb8-6427-4565-aa7e-44202f172e71",
   "metadata": {},
   "outputs": [
    {
     "data": {
      "text/plain": [
       "(<Quantity 1.e-05 MJy / sr>, <Quantity 1000. MJy / sr>)"
      ]
     },
     "execution_count": 18,
     "metadata": {},
     "output_type": "execute_result"
    }
   ],
   "source": [
    "vis.makergbimages.makeConvolvedRGBImages(simulation, name='SDSS_U', contributions=[[SDSS_U, 1., 0, 0], [SDSS_U, 0, 1., 0],[SDSS_U, 0, 0, 1.]], fmin=1e-5, fmax=1e3)\n",
    "vis.makergbimages.makeConvolvedRGBImages(simulation, name='SDSS_G', contributions=[[SDSS_G, 1., 0, 0], [SDSS_G, 0, 1., 0],[SDSS_G, 0, 0, 1.]], fmin=1e-5, fmax=1e3)\n",
    "vis.makergbimages.makeConvolvedRGBImages(simulation, name='SDSS_R', contributions=[[SDSS_R, 1., 0, 0], [SDSS_R, 0, 1., 0],[SDSS_R, 0, 0, 1.]], fmin=1e-5, fmax=1e3)\n",
    "vis.makergbimages.makeConvolvedRGBImages(simulation, name='SDSS_I', contributions=[[SDSS_I, 1., 0, 0], [SDSS_I, 0, 1., 0],[SDSS_I, 0, 0, 1.]], fmin=1e-5, fmax=1e3)\n",
    "vis.makergbimages.makeConvolvedRGBImages(simulation, name='SDSS_Z', contributions=[[SDSS_Z, 1., 0, 0], [SDSS_Z, 0, 1., 0],[SDSS_Z, 0, 0, 1.]], fmin=1e-5, fmax=1e3)\n"
   ]
  },
  {
   "cell_type": "code",
   "execution_count": 19,
   "id": "b0646289-43b4-4516-9ba7-29a758956e68",
   "metadata": {},
   "outputs": [
    {
     "data": {
      "text/plain": [
       "<matplotlib.image.AxesImage at 0x7f0168891910>"
      ]
     },
     "execution_count": 19,
     "metadata": {},
     "output_type": "execute_result"
    },
    {
     "data": {
      "image/png": "[encoded data removed]",
      "text/plain": [
       "<Figure size 640x480 with 5 Axes>"
      ]
     },
     "metadata": {},
     "output_type": "display_data"
    }
   ],
   "source": [
    "# Load the image\n",
    "imgU = mpimg.imread(folder + \"/galaxy_cube_total_SDSS_U.png\")\n",
    "imgG = mpimg.imread(folder + \"/galaxy_cube_total_SDSS_G.png\")\n",
    "imgR = mpimg.imread(folder + \"/galaxy_cube_total_SDSS_R.png\")\n",
    "imgI = mpimg.imread(folder + \"/galaxy_cube_total_SDSS_I.png\")\n",
    "imgZ = mpimg.imread(folder + \"/galaxy_cube_total_SDSS_Z.png\")\n",
    "\n",
    "# Display the image\n",
    "fig,ax = plt.subplots(1,5)\n",
    "ax[0].imshow(imgU)\n",
    "ax[1].imshow(imgG)\n",
    "ax[2].imshow(imgR)\n",
    "ax[3].imshow(imgI)\n",
    "ax[4].imshow(imgZ)\n"
   ]
  },
  {
   "cell_type": "code",
   "execution_count": null,
   "id": "7c884e0c-654c-4266-81c0-603bde682612",
   "metadata": {},
   "outputs": [],
   "source": []
  }
 ],
 "metadata": {
  "kernelspec": {
   "display_name": "Python 3 (ipykernel)",
   "language": "python",
   "name": "python3"
  },
  "language_info": {
   "codemirror_mode": {
    "name": "ipython",
    "version": 3
   },
   "file_extension": ".py",
   "mimetype": "text/x-python",
   "name": "python",
   "nbconvert_exporter": "python",
   "pygments_lexer": "ipython3",
   "version": "3.8.19"
  }
 },
 "nbformat": 4,
 "nbformat_minor": 5
}
