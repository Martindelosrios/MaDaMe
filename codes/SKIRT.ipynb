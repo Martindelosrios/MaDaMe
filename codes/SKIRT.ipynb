{
 "cells": [
  {
   "cell_type": "code",
   "execution_count": 21,
   "id": "8fd2998c-ba36-430e-8150-073e42847c93",
   "metadata": {},
   "outputs": [],
   "source": [
    "import numpy as np\n",
    "import os\n",
    "import h5py\n",
    "import matplotlib.pyplot as plt\n",
    "import matplotlib.image as mpimg\n",
    "#import warnings\n",
    "import astropy.units as U\n",
    "import astropy.constants as C\n",
    "#from scipy.spatial.transform import Rotation as R\n",
    "from numpy.linalg import eig\n",
    "from numpy.linalg import eigh\n",
    "from scipy.optimize import curve_fit, root\n",
    "from scipy.spatial.transform import Rotation as R\n",
    "\n",
    "G     = 4.3e-6 # Grav. constant [kPc/M_{sun} (km/s)^2]\n",
    "H0    = 67.74 # Hubble Constant [km/s / Mpc]\n",
    "h     = H0 / 100 \n",
    "rho_c = 3*(H0**2)/(8*np.pi*G*1e-3) # Critical density [M_{sun}/Mpc**3]\n",
    "rho_c = rho_c * (1e-3 ** 3) #2.7754 * 1e2 * (H0/100)**2 # Critical density [M_{sun}/Kpc**3]\n",
    "Nfields = 9\n",
    "M_dm    = 7.5e6 # M_sun"
   ]
  },
  {
   "cell_type": "code",
   "execution_count": 2,
   "id": "b285289e-3b90-41df-9c16-7ab601d63008",
   "metadata": {},
   "outputs": [],
   "source": [
    "import argparse\n",
    "import requests"
   ]
  },
  {
   "cell_type": "code",
   "execution_count": 3,
   "id": "1c0919ea-1467-4d82-b343-f0c91d07ada1",
   "metadata": {},
   "outputs": [],
   "source": [
    "#import illustris_python as il\n",
    "import pts.simulation as sm\n",
    "import pts.utils as ut\n",
    "import pts.visual as vis\n",
    "import pts.band as bd\n",
    "import pts.do"
   ]
  },
  {
   "cell_type": "code",
   "execution_count": 4,
   "id": "120e7889-3a3f-4b94-89cc-24c8c94652b5",
   "metadata": {},
   "outputs": [],
   "source": [
    "def rotate(particles, velocities, theta = np.pi/2, rot_mat = None):\n",
    "    if rot_mat is None:\n",
    "        rot_mat = np.array([\n",
    "            [np.cos(theta), 0, np.sin(theta)],\n",
    "            [0, 1, 0],\n",
    "            [-np.sin(theta), 0, np.cos(theta)]\n",
    "        ])\n",
    "    particles_rot = particles @ rot_mat\n",
    "    velocities_rot = velocities @ rot_mat\n",
    "    return particles_rot, velocities_rot"
   ]
  },
  {
   "cell_type": "code",
   "execution_count": 5,
   "id": "ed0f7162-5dfe-4f87-99c1-09df7b96d2dc",
   "metadata": {},
   "outputs": [],
   "source": [
    "def compute_rot_mat_angMom(subhalo_pos, coordinates, velocities, masses, Rmin = 0, Rmax = 20):\n",
    "    \n",
    "    coordinates = coordinates - subhalo_pos # Let's center the particles\n",
    "    \n",
    "    dist = np.linalg.norm(coordinates, axis=1)\n",
    "    indices1 = np.argwhere(dist < Rmin)\n",
    "    indices2 = np.argwhere(dist > Rmax)\n",
    "    indices = np.concatenate((indices1, indices2))\n",
    "    distances = np.delete(dist, indices)\n",
    "    \n",
    "    coordinates = np.delete(coordinates, indices, axis = 0)\n",
    "    masses = np.delete(masses, indices)\n",
    "    velocities = np.delete(velocities, indices, axis = 0)\n",
    "    \n",
    "    L = (np.cross(coordinates, velocities).T * np.array(masses)).T\n",
    "    Lmean = np.mean(L, axis=0)\n",
    "    #print(Lmean / np.linalg.norm(Lmean))\n",
    "    \n",
    "    rot, _ = R.align_vectors([Lmean, np.cross(Lmean, [1,0,0])], [[0,0,1],[1,0,0]])\n",
    "    return rot.as_matrix(), Lmean"
   ]
  },
  {
   "cell_type": "code",
   "execution_count": 6,
   "id": "5c411bbb-952b-44f8-bbb5-45ae0ad5681c",
   "metadata": {
    "scrolled": true
   },
   "outputs": [
    {
     "name": "stdout",
     "output_type": "stream",
     "text": [
      "halo_0_subhalo_1_gasCoord.txt\t\t  subhalo_131058_gasMasses.txt\n",
      "halo_0_subhalo_1_gasDens.txt\t\t  subhalo_131058_gasMetal.txt\n",
      "halo_0_subhalo_1_gasHsml.txt\t\t  subhalo_131058_gasVels.txt\n",
      "halo_0_subhalo_1_gasMasses.txt\t\t  subhalo_131058_starsCoord.txt\n",
      "halo_0_subhalo_1_gasMetal.txt\t\t  subhalo_131058_starsHsml.txt\n",
      "halo_0_subhalo_1_gasVels.txt\t\t  subhalo_131058_starsInitMass.txt\n",
      "halo_0_subhalo_1_starsCoord.txt\t\t  subhalo_131058_starsMasses.txt\n",
      "halo_0_subhalo_1_starsHsml.txt\t\t  subhalo_131058_starsMetal.txt\n",
      "halo_0_subhalo_1_starsInitMass.txt\t  subhalo_131058_starsSFT.txt\n",
      "halo_0_subhalo_1_starsMasses.txt\t  subhalo_131058_starsVels.txt\n",
      "halo_0_subhalo_1_starsMetal.txt\t\t  subhalo_134847_gasCoord.txt\n",
      "halo_0_subhalo_1_starsSFT.txt\t\t  subhalo_134847_gasDens.txt\n",
      "halo_0_subhalo_1_starsVels.txt\t\t  subhalo_134847_gasHsml.txt\n",
      "halo_0_subhalo_2_gasCoord.txt\t\t  subhalo_134847_gasMasses.txt\n",
      "halo_0_subhalo_2_gasDens.txt\t\t  subhalo_134847_gasMetal.txt\n",
      "halo_0_subhalo_2_gasHsml.txt\t\t  subhalo_134847_gasVels.txt\n",
      "halo_0_subhalo_2_gasMasses.txt\t\t  subhalo_134847_starsCoord.txt\n",
      "halo_0_subhalo_2_gasMetal.txt\t\t  subhalo_134847_starsHsml.txt\n",
      "halo_0_subhalo_2_gasVels.txt\t\t  subhalo_134847_starsInitMass.txt\n",
      "halo_0_subhalo_2_starsCoord.txt\t\t  subhalo_134847_starsMasses.txt\n",
      "halo_0_subhalo_2_starsHsml.txt\t\t  subhalo_134847_starsMetal.txt\n",
      "halo_0_subhalo_2_starsInitMass.txt\t  subhalo_134847_starsSFT.txt\n",
      "halo_0_subhalo_2_starsMasses.txt\t  subhalo_134847_starsVels.txt\n",
      "halo_0_subhalo_2_starsMetal.txt\t\t  subhalo_134852_gasCoord.txt\n",
      "halo_0_subhalo_2_starsSFT.txt\t\t  subhalo_134852_gasDens.txt\n",
      "halo_0_subhalo_2_starsVels.txt\t\t  subhalo_134852_gasHsml.txt\n",
      "halo_0_subhalo_32_gasCoord.txt\t\t  subhalo_134852_gasMasses.txt\n",
      "halo_0_subhalo_32_gasDens.txt\t\t  subhalo_134852_gasMetal.txt\n",
      "halo_0_subhalo_32_gasHsml.txt\t\t  subhalo_134852_gasVels.txt\n",
      "halo_0_subhalo_32_gasMasses.txt\t\t  subhalo_134852_starsCoord.txt\n",
      "halo_0_subhalo_32_gasMetal.txt\t\t  subhalo_134852_starsHsml.txt\n",
      "halo_0_subhalo_32_gasVels.txt\t\t  subhalo_134852_starsInitMass.txt\n",
      "halo_0_subhalo_32_starsCoord.txt\t  subhalo_134852_starsMasses.txt\n",
      "halo_0_subhalo_32_starsHsml.txt\t\t  subhalo_134852_starsMetal.txt\n",
      "halo_0_subhalo_32_starsInitMass.txt\t  subhalo_134852_starsSFT.txt\n",
      "halo_0_subhalo_32_starsMasses.txt\t  subhalo_134852_starsVels.txt\n",
      "halo_0_subhalo_32_starsMetal.txt\t  subhalo_17186_gasCoord.txt\n",
      "halo_0_subhalo_32_starsSFT.txt\t\t  subhalo_17186_gasDens.txt\n",
      "halo_0_subhalo_32_starsVels.txt\t\t  subhalo_17186_gasHsml.txt\n",
      "halo_0_subhalo_36_gasCoord.txt\t\t  subhalo_17186_gasMasses.txt\n",
      "halo_0_subhalo_36_gasDens.txt\t\t  subhalo_17186_gasMetal.txt\n",
      "halo_0_subhalo_36_gasHsml.txt\t\t  subhalo_17186_gasVels.txt\n",
      "halo_0_subhalo_36_gasMasses.txt\t\t  subhalo_17186_starsCoord.txt\n",
      "halo_0_subhalo_36_gasMetal.txt\t\t  subhalo_17186_starsHsml.txt\n",
      "halo_0_subhalo_36_gasVels.txt\t\t  subhalo_17186_starsInitMass.txt\n",
      "halo_0_subhalo_36_starsCoord.txt\t  subhalo_17186_starsMasses.txt\n",
      "halo_0_subhalo_36_starsHsml.txt\t\t  subhalo_17186_starsMetal.txt\n",
      "halo_0_subhalo_36_starsInitMass.txt\t  subhalo_17186_starsSFT.txt\n",
      "halo_0_subhalo_36_starsMasses.txt\t  subhalo_17186_starsVels.txt\n",
      "halo_0_subhalo_36_starsMetal.txt\t  subhalo_17187_gasCoord.txt\n",
      "halo_0_subhalo_36_starsSFT.txt\t\t  subhalo_17187_gasDens.txt\n",
      "halo_0_subhalo_36_starsVels.txt\t\t  subhalo_17187_gasHsml.txt\n",
      "halo_0_subhalo_38_gasCoord.txt\t\t  subhalo_17187_gasMasses.txt\n",
      "halo_0_subhalo_38_gasDens.txt\t\t  subhalo_17187_gasMetal.txt\n",
      "halo_0_subhalo_38_gasHsml.txt\t\t  subhalo_17187_gasVels.txt\n",
      "halo_0_subhalo_38_gasMasses.txt\t\t  subhalo_17187_starsCoord.txt\n",
      "halo_0_subhalo_38_gasMetal.txt\t\t  subhalo_17187_starsHsml.txt\n",
      "halo_0_subhalo_38_gasVels.txt\t\t  subhalo_17187_starsInitMass.txt\n",
      "halo_0_subhalo_38_starsCoord.txt\t  subhalo_17187_starsMasses.txt\n",
      "halo_0_subhalo_38_starsHsml.txt\t\t  subhalo_17187_starsMetal.txt\n",
      "halo_0_subhalo_38_starsInitMass.txt\t  subhalo_17187_starsSFT.txt\n",
      "halo_0_subhalo_38_starsMasses.txt\t  subhalo_17187_starsVels.txt\n",
      "halo_0_subhalo_38_starsMetal.txt\t  subhalo_17189_gasCoord.txt\n",
      "halo_0_subhalo_38_starsSFT.txt\t\t  subhalo_17189_gasDens.txt\n",
      "halo_0_subhalo_38_starsVels.txt\t\t  subhalo_17189_gasHsml.txt\n",
      "halo_0_subhalo_3_gasCoord.txt\t\t  subhalo_17189_gasMasses.txt\n",
      "halo_0_subhalo_3_gasDens.txt\t\t  subhalo_17189_gasMetal.txt\n",
      "halo_0_subhalo_3_gasHsml.txt\t\t  subhalo_17189_gasVels.txt\n",
      "halo_0_subhalo_3_gasMasses.txt\t\t  subhalo_17189_starsCoord.txt\n",
      "halo_0_subhalo_3_gasMetal.txt\t\t  subhalo_17189_starsHsml.txt\n",
      "halo_0_subhalo_3_gasVels.txt\t\t  subhalo_17189_starsInitMass.txt\n",
      "halo_0_subhalo_3_starsCoord.txt\t\t  subhalo_17189_starsMasses.txt\n",
      "halo_0_subhalo_3_starsHsml.txt\t\t  subhalo_17189_starsMetal.txt\n",
      "halo_0_subhalo_3_starsInitMass.txt\t  subhalo_17189_starsSFT.txt\n",
      "halo_0_subhalo_3_starsMasses.txt\t  subhalo_17189_starsVels.txt\n",
      "halo_0_subhalo_3_starsMetal.txt\t\t  subhalo_17191_gasCoord.txt\n",
      "halo_0_subhalo_3_starsSFT.txt\t\t  subhalo_17191_gasDens.txt\n",
      "halo_0_subhalo_3_starsVels.txt\t\t  subhalo_17191_gasHsml.txt\n",
      "halo_0_subhalo_4_gasCoord.txt\t\t  subhalo_17191_gasMasses.txt\n",
      "halo_0_subhalo_4_gasDens.txt\t\t  subhalo_17191_gasMetal.txt\n",
      "halo_0_subhalo_4_gasHsml.txt\t\t  subhalo_17191_gasVels.txt\n",
      "halo_0_subhalo_4_gasMasses.txt\t\t  subhalo_17191_starsCoord.txt\n",
      "halo_0_subhalo_4_gasMetal.txt\t\t  subhalo_17191_starsHsml.txt\n",
      "halo_0_subhalo_4_gasVels.txt\t\t  subhalo_17191_starsInitMass.txt\n",
      "halo_0_subhalo_4_starsCoord.txt\t\t  subhalo_17191_starsMasses.txt\n",
      "halo_0_subhalo_4_starsHsml.txt\t\t  subhalo_17191_starsMetal.txt\n",
      "halo_0_subhalo_4_starsInitMass.txt\t  subhalo_17191_starsSFT.txt\n",
      "halo_0_subhalo_4_starsMasses.txt\t  subhalo_17191_starsVels.txt\n",
      "halo_0_subhalo_4_starsMetal.txt\t\t  subhalo_17214_gasCoord.txt\n",
      "halo_0_subhalo_4_starsSFT.txt\t\t  subhalo_17214_gasDens.txt\n",
      "halo_0_subhalo_4_starsVels.txt\t\t  subhalo_17214_gasHsml.txt\n",
      "halo_0_subhalo_52_gasCoord.txt\t\t  subhalo_17214_gasMasses.txt\n",
      "halo_0_subhalo_52_gasDens.txt\t\t  subhalo_17214_gasMetal.txt\n",
      "halo_0_subhalo_52_gasHsml.txt\t\t  subhalo_17214_gasVels.txt\n",
      "halo_0_subhalo_52_gasMasses.txt\t\t  subhalo_17214_starsCoord.txt\n",
      "halo_0_subhalo_52_gasMetal.txt\t\t  subhalo_17214_starsHsml.txt\n",
      "halo_0_subhalo_52_gasVels.txt\t\t  subhalo_17214_starsInitMass.txt\n",
      "halo_0_subhalo_52_starsCoord.txt\t  subhalo_17214_starsMasses.txt\n",
      "halo_0_subhalo_52_starsHsml.txt\t\t  subhalo_17214_starsMetal.txt\n",
      "halo_0_subhalo_52_starsInitMass.txt\t  subhalo_17214_starsSFT.txt\n",
      "halo_0_subhalo_52_starsMasses.txt\t  subhalo_17214_starsVels.txt\n",
      "halo_0_subhalo_52_starsMetal.txt\t  subhalo_17216_gasCoord.txt\n",
      "halo_0_subhalo_52_starsSFT.txt\t\t  subhalo_17216_gasDens.txt\n",
      "halo_0_subhalo_52_starsVels.txt\t\t  subhalo_17216_gasHsml.txt\n",
      "halo_0_subhalo_5_gasCoord.txt\t\t  subhalo_17216_gasMasses.txt\n",
      "halo_0_subhalo_5_gasDens.txt\t\t  subhalo_17216_gasMetal.txt\n",
      "halo_0_subhalo_5_gasHsml.txt\t\t  subhalo_17216_gasVels.txt\n",
      "halo_0_subhalo_5_gasMasses.txt\t\t  subhalo_17216_starsCoord.txt\n",
      "halo_0_subhalo_5_gasMetal.txt\t\t  subhalo_17216_starsHsml.txt\n",
      "halo_0_subhalo_5_gasVels.txt\t\t  subhalo_17216_starsInitMass.txt\n",
      "halo_0_subhalo_5_starsCoord.txt\t\t  subhalo_17216_starsMasses.txt\n",
      "halo_0_subhalo_5_starsHsml.txt\t\t  subhalo_17216_starsMetal.txt\n",
      "halo_0_subhalo_5_starsInitMass.txt\t  subhalo_17216_starsSFT.txt\n",
      "halo_0_subhalo_5_starsMasses.txt\t  subhalo_17216_starsVels.txt\n",
      "halo_0_subhalo_5_starsMetal.txt\t\t  subhalo_1_gasCoord.txt\n",
      "halo_0_subhalo_5_starsSFT.txt\t\t  subhalo_1_gasDens.txt\n",
      "halo_0_subhalo_5_starsVels.txt\t\t  subhalo_1_gasHsml.txt\n",
      "halo_18_subhalo_131058_gasCoord.txt\t  subhalo_1_gasMasses.txt\n",
      "halo_18_subhalo_131058_gasDens.txt\t  subhalo_1_gasMetal.txt\n",
      "halo_18_subhalo_131058_gasHsml.txt\t  subhalo_1_gasVels.txt\n",
      "halo_18_subhalo_131058_gasMasses.txt\t  subhalo_1_starsCoord.txt\n",
      "halo_18_subhalo_131058_gasMetal.txt\t  subhalo_1_starsHsml.txt\n",
      "halo_18_subhalo_131058_gasVels.txt\t  subhalo_1_starsInitMass.txt\n",
      "halo_18_subhalo_131058_starsCoord.txt\t  subhalo_1_starsMasses.txt\n",
      "halo_18_subhalo_131058_starsHsml.txt\t  subhalo_1_starsMetal.txt\n",
      "halo_18_subhalo_131058_starsInitMass.txt  subhalo_1_starsSFT.txt\n",
      "halo_18_subhalo_131058_starsMasses.txt\t  subhalo_1_starsVels.txt\n",
      "halo_18_subhalo_131058_starsMetal.txt\t  subhalo_2_gasCoord.txt\n",
      "halo_18_subhalo_131058_starsSFT.txt\t  subhalo_2_gasDens.txt\n",
      "halo_18_subhalo_131058_starsVels.txt\t  subhalo_2_gasHsml.txt\n",
      "halo_19_subhalo_134847_gasCoord.txt\t  subhalo_2_gasMasses.txt\n",
      "halo_19_subhalo_134847_gasDens.txt\t  subhalo_2_gasMetal.txt\n",
      "halo_19_subhalo_134847_gasHsml.txt\t  subhalo_2_gasVels.txt\n",
      "halo_19_subhalo_134847_gasMasses.txt\t  subhalo_2_starsCoord.txt\n",
      "halo_19_subhalo_134847_gasMetal.txt\t  subhalo_2_starsHsml.txt\n",
      "halo_19_subhalo_134847_gasVels.txt\t  subhalo_2_starsInitMass.txt\n",
      "halo_19_subhalo_134847_starsCoord.txt\t  subhalo_2_starsMasses.txt\n",
      "halo_19_subhalo_134847_starsHsml.txt\t  subhalo_2_starsMetal.txt\n",
      "halo_19_subhalo_134847_starsInitMass.txt  subhalo_2_starsSFT.txt\n",
      "halo_19_subhalo_134847_starsMasses.txt\t  subhalo_2_starsVels.txt\n",
      "halo_19_subhalo_134847_starsMetal.txt\t  subhalo_32_gasCoord.txt\n",
      "halo_19_subhalo_134847_starsSFT.txt\t  subhalo_32_gasDens.txt\n",
      "halo_19_subhalo_134847_starsVels.txt\t  subhalo_32_gasHsml.txt\n",
      "halo_19_subhalo_134852_gasCoord.txt\t  subhalo_32_gasMasses.txt\n",
      "halo_19_subhalo_134852_gasDens.txt\t  subhalo_32_gasMetal.txt\n",
      "halo_19_subhalo_134852_gasHsml.txt\t  subhalo_32_gasVels.txt\n",
      "halo_19_subhalo_134852_gasMasses.txt\t  subhalo_32_starsCoord.txt\n",
      "halo_19_subhalo_134852_gasMetal.txt\t  subhalo_32_starsHsml.txt\n",
      "halo_19_subhalo_134852_gasVels.txt\t  subhalo_32_starsInitMass.txt\n",
      "halo_19_subhalo_134852_starsCoord.txt\t  subhalo_32_starsMasses.txt\n",
      "halo_19_subhalo_134852_starsHsml.txt\t  subhalo_32_starsMetal.txt\n",
      "halo_19_subhalo_134852_starsInitMass.txt  subhalo_32_starsSFT.txt\n",
      "halo_19_subhalo_134852_starsMasses.txt\t  subhalo_32_starsVels.txt\n",
      "halo_19_subhalo_134852_starsMetal.txt\t  subhalo_36_gasCoord.txt\n",
      "halo_19_subhalo_134852_starsSFT.txt\t  subhalo_36_gasDens.txt\n",
      "halo_19_subhalo_134852_starsVels.txt\t  subhalo_36_gasHsml.txt\n",
      "halo_1_subhalo_17186_gasCoord.txt\t  subhalo_36_gasMasses.txt\n",
      "halo_1_subhalo_17186_gasDens.txt\t  subhalo_36_gasMetal.txt\n",
      "halo_1_subhalo_17186_gasHsml.txt\t  subhalo_36_gasVels.txt\n",
      "halo_1_subhalo_17186_gasMasses.txt\t  subhalo_36_starsCoord.txt\n",
      "halo_1_subhalo_17186_gasMetal.txt\t  subhalo_36_starsHsml.txt\n",
      "halo_1_subhalo_17186_gasVels.txt\t  subhalo_36_starsInitMass.txt\n",
      "halo_1_subhalo_17186_starsCoord.txt\t  subhalo_36_starsMasses.txt\n",
      "halo_1_subhalo_17186_starsHsml.txt\t  subhalo_36_starsMetal.txt\n",
      "halo_1_subhalo_17186_starsInitMass.txt\t  subhalo_36_starsSFT.txt\n",
      "halo_1_subhalo_17186_starsMasses.txt\t  subhalo_36_starsVels.txt\n",
      "halo_1_subhalo_17186_starsMetal.txt\t  subhalo_38_gasCoord.txt\n",
      "halo_1_subhalo_17186_starsSFT.txt\t  subhalo_38_gasDens.txt\n",
      "halo_1_subhalo_17186_starsVels.txt\t  subhalo_38_gasHsml.txt\n",
      "halo_1_subhalo_17187_gasCoord.txt\t  subhalo_38_gasMasses.txt\n",
      "halo_1_subhalo_17187_gasDens.txt\t  subhalo_38_gasMetal.txt\n",
      "halo_1_subhalo_17187_gasHsml.txt\t  subhalo_38_gasVels.txt\n",
      "halo_1_subhalo_17187_gasMasses.txt\t  subhalo_38_starsCoord.txt\n",
      "halo_1_subhalo_17187_gasMetal.txt\t  subhalo_38_starsHsml.txt\n",
      "halo_1_subhalo_17187_gasVels.txt\t  subhalo_38_starsInitMass.txt\n",
      "halo_1_subhalo_17187_starsCoord.txt\t  subhalo_38_starsMasses.txt\n",
      "halo_1_subhalo_17187_starsHsml.txt\t  subhalo_38_starsMetal.txt\n",
      "halo_1_subhalo_17187_starsInitMass.txt\t  subhalo_38_starsSFT.txt\n",
      "halo_1_subhalo_17187_starsMasses.txt\t  subhalo_38_starsVels.txt\n",
      "halo_1_subhalo_17187_starsMetal.txt\t  subhalo_3_gasCoord.txt\n",
      "halo_1_subhalo_17187_starsSFT.txt\t  subhalo_3_gasDens.txt\n",
      "halo_1_subhalo_17187_starsVels.txt\t  subhalo_3_gasHsml.txt\n",
      "halo_1_subhalo_17189_gasCoord.txt\t  subhalo_3_gasMasses.txt\n",
      "halo_1_subhalo_17189_gasDens.txt\t  subhalo_3_gasMetal.txt\n",
      "halo_1_subhalo_17189_gasHsml.txt\t  subhalo_3_gasVels.txt\n",
      "halo_1_subhalo_17189_gasMasses.txt\t  subhalo_3_starsCoord.txt\n",
      "halo_1_subhalo_17189_gasMetal.txt\t  subhalo_3_starsHsml.txt\n",
      "halo_1_subhalo_17189_gasVels.txt\t  subhalo_3_starsInitMass.txt\n",
      "halo_1_subhalo_17189_starsCoord.txt\t  subhalo_3_starsMasses.txt\n",
      "halo_1_subhalo_17189_starsHsml.txt\t  subhalo_3_starsMetal.txt\n",
      "halo_1_subhalo_17189_starsInitMass.txt\t  subhalo_3_starsSFT.txt\n",
      "halo_1_subhalo_17189_starsMasses.txt\t  subhalo_3_starsVels.txt\n",
      "halo_1_subhalo_17189_starsMetal.txt\t  subhalo_41583_gasCoord.txt\n",
      "halo_1_subhalo_17189_starsSFT.txt\t  subhalo_41583_gasDens.txt\n",
      "halo_1_subhalo_17189_starsVels.txt\t  subhalo_41583_gasHsml.txt\n",
      "halo_1_subhalo_17191_gasCoord.txt\t  subhalo_41583_gasMasses.txt\n",
      "halo_1_subhalo_17191_gasDens.txt\t  subhalo_41583_gasMetal.txt\n",
      "halo_1_subhalo_17191_gasHsml.txt\t  subhalo_41583_gasVels.txt\n",
      "halo_1_subhalo_17191_gasMasses.txt\t  subhalo_41583_starsCoord.txt\n",
      "halo_1_subhalo_17191_gasMetal.txt\t  subhalo_41583_starsHsml.txt\n",
      "halo_1_subhalo_17191_gasVels.txt\t  subhalo_41583_starsInitMass.txt\n",
      "halo_1_subhalo_17191_starsCoord.txt\t  subhalo_41583_starsMasses.txt\n",
      "halo_1_subhalo_17191_starsHsml.txt\t  subhalo_41583_starsMetal.txt\n",
      "halo_1_subhalo_17191_starsInitMass.txt\t  subhalo_41583_starsSFT.txt\n",
      "halo_1_subhalo_17191_starsMasses.txt\t  subhalo_41583_starsVels.txt\n",
      "halo_1_subhalo_17191_starsMetal.txt\t  subhalo_41584_gasCoord.txt\n",
      "halo_1_subhalo_17191_starsSFT.txt\t  subhalo_41584_gasDens.txt\n",
      "halo_1_subhalo_17191_starsVels.txt\t  subhalo_41584_gasHsml.txt\n",
      "halo_1_subhalo_17214_gasCoord.txt\t  subhalo_41584_gasMasses.txt\n",
      "halo_1_subhalo_17214_gasDens.txt\t  subhalo_41584_gasMetal.txt\n",
      "halo_1_subhalo_17214_gasHsml.txt\t  subhalo_41584_gasVels.txt\n",
      "halo_1_subhalo_17214_gasMasses.txt\t  subhalo_41584_starsCoord.txt\n",
      "halo_1_subhalo_17214_gasMetal.txt\t  subhalo_41584_starsHsml.txt\n",
      "halo_1_subhalo_17214_gasVels.txt\t  subhalo_41584_starsInitMass.txt\n",
      "halo_1_subhalo_17214_starsCoord.txt\t  subhalo_41584_starsMasses.txt\n",
      "halo_1_subhalo_17214_starsHsml.txt\t  subhalo_41584_starsMetal.txt\n",
      "halo_1_subhalo_17214_starsInitMass.txt\t  subhalo_41584_starsSFT.txt\n",
      "halo_1_subhalo_17214_starsMasses.txt\t  subhalo_41584_starsVels.txt\n",
      "halo_1_subhalo_17214_starsMetal.txt\t  subhalo_41585_gasCoord.txt\n",
      "halo_1_subhalo_17214_starsSFT.txt\t  subhalo_41585_gasDens.txt\n",
      "halo_1_subhalo_17214_starsVels.txt\t  subhalo_41585_gasHsml.txt\n",
      "halo_1_subhalo_17216_gasCoord.txt\t  subhalo_41585_gasMasses.txt\n",
      "halo_1_subhalo_17216_gasDens.txt\t  subhalo_41585_gasMetal.txt\n",
      "halo_1_subhalo_17216_gasHsml.txt\t  subhalo_41585_gasVels.txt\n",
      "halo_1_subhalo_17216_gasMasses.txt\t  subhalo_41585_starsCoord.txt\n",
      "halo_1_subhalo_17216_gasMetal.txt\t  subhalo_41585_starsHsml.txt\n",
      "halo_1_subhalo_17216_gasVels.txt\t  subhalo_41585_starsInitMass.txt\n",
      "halo_1_subhalo_17216_starsCoord.txt\t  subhalo_41585_starsMasses.txt\n",
      "halo_1_subhalo_17216_starsHsml.txt\t  subhalo_41585_starsMetal.txt\n",
      "halo_1_subhalo_17216_starsInitMass.txt\t  subhalo_41585_starsSFT.txt\n",
      "halo_1_subhalo_17216_starsMasses.txt\t  subhalo_41585_starsVels.txt\n",
      "halo_1_subhalo_17216_starsMetal.txt\t  subhalo_41587_gasCoord.txt\n",
      "halo_1_subhalo_17216_starsSFT.txt\t  subhalo_41587_gasDens.txt\n",
      "halo_1_subhalo_17216_starsVels.txt\t  subhalo_41587_gasHsml.txt\n",
      "halo_3_subhalo_41583_gasCoord.txt\t  subhalo_41587_gasMasses.txt\n",
      "halo_3_subhalo_41583_gasDens.txt\t  subhalo_41587_gasMetal.txt\n",
      "halo_3_subhalo_41583_gasHsml.txt\t  subhalo_41587_gasVels.txt\n",
      "halo_3_subhalo_41583_gasMasses.txt\t  subhalo_41587_starsCoord.txt\n",
      "halo_3_subhalo_41583_gasMetal.txt\t  subhalo_41587_starsHsml.txt\n",
      "halo_3_subhalo_41583_gasVels.txt\t  subhalo_41587_starsInitMass.txt\n",
      "halo_3_subhalo_41583_starsCoord.txt\t  subhalo_41587_starsMasses.txt\n",
      "halo_3_subhalo_41583_starsHsml.txt\t  subhalo_41587_starsMetal.txt\n",
      "halo_3_subhalo_41583_starsInitMass.txt\t  subhalo_41587_starsSFT.txt\n",
      "halo_3_subhalo_41583_starsMasses.txt\t  subhalo_41587_starsVels.txt\n",
      "halo_3_subhalo_41583_starsMetal.txt\t  subhalo_41588_gasCoord.txt\n",
      "halo_3_subhalo_41583_starsSFT.txt\t  subhalo_41588_gasDens.txt\n",
      "halo_3_subhalo_41583_starsVels.txt\t  subhalo_41588_gasHsml.txt\n",
      "halo_3_subhalo_41584_gasCoord.txt\t  subhalo_41588_gasMasses.txt\n",
      "halo_3_subhalo_41584_gasDens.txt\t  subhalo_41588_gasMetal.txt\n",
      "halo_3_subhalo_41584_gasHsml.txt\t  subhalo_41588_gasVels.txt\n",
      "halo_3_subhalo_41584_gasMasses.txt\t  subhalo_41588_starsCoord.txt\n",
      "halo_3_subhalo_41584_gasMetal.txt\t  subhalo_41588_starsHsml.txt\n",
      "halo_3_subhalo_41584_gasVels.txt\t  subhalo_41588_starsInitMass.txt\n",
      "halo_3_subhalo_41584_starsCoord.txt\t  subhalo_41588_starsMasses.txt\n",
      "halo_3_subhalo_41584_starsHsml.txt\t  subhalo_41588_starsMetal.txt\n",
      "halo_3_subhalo_41584_starsInitMass.txt\t  subhalo_41588_starsSFT.txt\n",
      "halo_3_subhalo_41584_starsMasses.txt\t  subhalo_41588_starsVels.txt\n",
      "halo_3_subhalo_41584_starsMetal.txt\t  subhalo_41600_gasCoord.txt\n",
      "halo_3_subhalo_41584_starsSFT.txt\t  subhalo_41600_gasDens.txt\n",
      "halo_3_subhalo_41584_starsVels.txt\t  subhalo_41600_gasHsml.txt\n",
      "halo_3_subhalo_41585_gasCoord.txt\t  subhalo_41600_gasMasses.txt\n",
      "halo_3_subhalo_41585_gasDens.txt\t  subhalo_41600_gasMetal.txt\n",
      "halo_3_subhalo_41585_gasHsml.txt\t  subhalo_41600_gasVels.txt\n",
      "halo_3_subhalo_41585_gasMasses.txt\t  subhalo_41600_starsCoord.txt\n",
      "halo_3_subhalo_41585_gasMetal.txt\t  subhalo_41600_starsHsml.txt\n",
      "halo_3_subhalo_41585_gasVels.txt\t  subhalo_41600_starsInitMass.txt\n",
      "halo_3_subhalo_41585_starsCoord.txt\t  subhalo_41600_starsMasses.txt\n",
      "halo_3_subhalo_41585_starsHsml.txt\t  subhalo_41600_starsMetal.txt\n",
      "halo_3_subhalo_41585_starsInitMass.txt\t  subhalo_41600_starsSFT.txt\n",
      "halo_3_subhalo_41585_starsMasses.txt\t  subhalo_41600_starsVels.txt\n",
      "halo_3_subhalo_41585_starsMetal.txt\t  subhalo_41604_gasCoord.txt\n",
      "halo_3_subhalo_41585_starsSFT.txt\t  subhalo_41604_gasDens.txt\n",
      "halo_3_subhalo_41585_starsVels.txt\t  subhalo_41604_gasHsml.txt\n",
      "halo_3_subhalo_41587_gasCoord.txt\t  subhalo_41604_gasMasses.txt\n",
      "halo_3_subhalo_41587_gasDens.txt\t  subhalo_41604_gasMetal.txt\n",
      "halo_3_subhalo_41587_gasHsml.txt\t  subhalo_41604_gasVels.txt\n",
      "halo_3_subhalo_41587_gasMasses.txt\t  subhalo_41604_starsCoord.txt\n",
      "halo_3_subhalo_41587_gasMetal.txt\t  subhalo_41604_starsHsml.txt\n",
      "halo_3_subhalo_41587_gasVels.txt\t  subhalo_41604_starsInitMass.txt\n",
      "halo_3_subhalo_41587_starsCoord.txt\t  subhalo_41604_starsMasses.txt\n",
      "halo_3_subhalo_41587_starsHsml.txt\t  subhalo_41604_starsMetal.txt\n",
      "halo_3_subhalo_41587_starsInitMass.txt\t  subhalo_41604_starsSFT.txt\n",
      "halo_3_subhalo_41587_starsMasses.txt\t  subhalo_41604_starsVels.txt\n",
      "halo_3_subhalo_41587_starsMetal.txt\t  subhalo_41616_gasCoord.txt\n",
      "halo_3_subhalo_41587_starsSFT.txt\t  subhalo_41616_gasDens.txt\n",
      "halo_3_subhalo_41587_starsVels.txt\t  subhalo_41616_gasHsml.txt\n",
      "halo_3_subhalo_41588_gasCoord.txt\t  subhalo_41616_gasMasses.txt\n",
      "halo_3_subhalo_41588_gasDens.txt\t  subhalo_41616_gasMetal.txt\n",
      "halo_3_subhalo_41588_gasHsml.txt\t  subhalo_41616_gasVels.txt\n",
      "halo_3_subhalo_41588_gasMasses.txt\t  subhalo_41616_starsCoord.txt\n",
      "halo_3_subhalo_41588_gasMetal.txt\t  subhalo_41616_starsHsml.txt\n",
      "halo_3_subhalo_41588_gasVels.txt\t  subhalo_41616_starsInitMass.txt\n",
      "halo_3_subhalo_41588_starsCoord.txt\t  subhalo_41616_starsMasses.txt\n",
      "halo_3_subhalo_41588_starsHsml.txt\t  subhalo_41616_starsMetal.txt\n",
      "halo_3_subhalo_41588_starsInitMass.txt\t  subhalo_41616_starsSFT.txt\n",
      "halo_3_subhalo_41588_starsMasses.txt\t  subhalo_41616_starsVels.txt\n",
      "halo_3_subhalo_41588_starsMetal.txt\t  subhalo_4_gasCoord.txt\n",
      "halo_3_subhalo_41588_starsSFT.txt\t  subhalo_4_gasDens.txt\n",
      "halo_3_subhalo_41588_starsVels.txt\t  subhalo_4_gasHsml.txt\n",
      "halo_3_subhalo_41600_gasCoord.txt\t  subhalo_4_gasMasses.txt\n",
      "halo_3_subhalo_41600_gasDens.txt\t  subhalo_4_gasMetal.txt\n",
      "halo_3_subhalo_41600_gasHsml.txt\t  subhalo_4_gasVels.txt\n",
      "halo_3_subhalo_41600_gasMasses.txt\t  subhalo_4_starsCoord.txt\n",
      "halo_3_subhalo_41600_gasMetal.txt\t  subhalo_4_starsHsml.txt\n",
      "halo_3_subhalo_41600_gasVels.txt\t  subhalo_4_starsInitMass.txt\n",
      "halo_3_subhalo_41600_starsCoord.txt\t  subhalo_4_starsMasses.txt\n",
      "halo_3_subhalo_41600_starsHsml.txt\t  subhalo_4_starsMetal.txt\n",
      "halo_3_subhalo_41600_starsInitMass.txt\t  subhalo_4_starsSFT.txt\n",
      "halo_3_subhalo_41600_starsMasses.txt\t  subhalo_4_starsVels.txt\n",
      "halo_3_subhalo_41600_starsMetal.txt\t  subhalo_52618_gasCoord.txt\n",
      "halo_3_subhalo_41600_starsSFT.txt\t  subhalo_52618_gasDens.txt\n",
      "halo_3_subhalo_41600_starsVels.txt\t  subhalo_52618_gasHsml.txt\n",
      "halo_3_subhalo_41604_gasCoord.txt\t  subhalo_52618_gasMasses.txt\n",
      "halo_3_subhalo_41604_gasDens.txt\t  subhalo_52618_gasMetal.txt\n",
      "halo_3_subhalo_41604_gasHsml.txt\t  subhalo_52618_gasVels.txt\n",
      "halo_3_subhalo_41604_gasMasses.txt\t  subhalo_52618_starsCoord.txt\n",
      "halo_3_subhalo_41604_gasMetal.txt\t  subhalo_52618_starsHsml.txt\n",
      "halo_3_subhalo_41604_gasVels.txt\t  subhalo_52618_starsInitMass.txt\n",
      "halo_3_subhalo_41604_starsCoord.txt\t  subhalo_52618_starsMasses.txt\n",
      "halo_3_subhalo_41604_starsHsml.txt\t  subhalo_52618_starsMetal.txt\n",
      "halo_3_subhalo_41604_starsInitMass.txt\t  subhalo_52618_starsSFT.txt\n",
      "halo_3_subhalo_41604_starsMasses.txt\t  subhalo_52618_starsVels.txt\n",
      "halo_3_subhalo_41604_starsMetal.txt\t  subhalo_52_gasCoord.txt\n",
      "halo_3_subhalo_41604_starsSFT.txt\t  subhalo_52_gasDens.txt\n",
      "halo_3_subhalo_41604_starsVels.txt\t  subhalo_52_gasHsml.txt\n",
      "halo_3_subhalo_41616_gasCoord.txt\t  subhalo_52_gasMasses.txt\n",
      "halo_3_subhalo_41616_gasDens.txt\t  subhalo_52_gasMetal.txt\n",
      "halo_3_subhalo_41616_gasHsml.txt\t  subhalo_52_gasVels.txt\n",
      "halo_3_subhalo_41616_gasMasses.txt\t  subhalo_52_starsCoord.txt\n",
      "halo_3_subhalo_41616_gasMetal.txt\t  subhalo_52_starsHsml.txt\n",
      "halo_3_subhalo_41616_gasVels.txt\t  subhalo_52_starsInitMass.txt\n",
      "halo_3_subhalo_41616_starsCoord.txt\t  subhalo_52_starsMasses.txt\n",
      "halo_3_subhalo_41616_starsHsml.txt\t  subhalo_52_starsMetal.txt\n",
      "halo_3_subhalo_41616_starsInitMass.txt\t  subhalo_52_starsSFT.txt\n",
      "halo_3_subhalo_41616_starsMasses.txt\t  subhalo_52_starsVels.txt\n",
      "halo_3_subhalo_41616_starsMetal.txt\t  subhalo_5_gasCoord.txt\n",
      "halo_3_subhalo_41616_starsSFT.txt\t  subhalo_5_gasDens.txt\n",
      "halo_3_subhalo_41616_starsVels.txt\t  subhalo_5_gasHsml.txt\n",
      "halo_4_subhalo_52618_gasCoord.txt\t  subhalo_5_gasMasses.txt\n",
      "halo_4_subhalo_52618_starsCoord.txt\t  subhalo_5_gasMetal.txt\n",
      "halo_4_subhalo_52618_starsHsml.txt\t  subhalo_5_gasVels.txt\n",
      "halo_4_subhalo_52618_starsInitMass.txt\t  subhalo_5_starsCoord.txt\n",
      "halo_4_subhalo_52618_starsMasses.txt\t  subhalo_5_starsHsml.txt\n",
      "halo_4_subhalo_52618_starsMetal.txt\t  subhalo_5_starsInitMass.txt\n",
      "halo_4_subhalo_52618_starsSFT.txt\t  subhalo_5_starsMasses.txt\n",
      "halo_4_subhalo_52618_starsVels.txt\t  subhalo_5_starsMetal.txt\n",
      "subhalo_131058_gasCoord.txt\t\t  subhalo_5_starsSFT.txt\n",
      "subhalo_131058_gasDens.txt\t\t  subhalo_5_starsVels.txt\n",
      "subhalo_131058_gasHsml.txt\n"
     ]
    }
   ],
   "source": [
    "!ls ../data/particles/"
   ]
  },
  {
   "cell_type": "code",
   "execution_count": 7,
   "id": "3eba37de-af57-4475-a579-3ce317ae3277",
   "metadata": {},
   "outputs": [],
   "source": [
    "data = h5py.File('../data/gals_properties.h5', 'a')"
   ]
  },
  {
   "cell_type": "code",
   "execution_count": 11,
   "id": "7fbdc353-d675-4237-b242-68b45a9824cb",
   "metadata": {},
   "outputs": [
    {
     "ename": "RuntimeError",
     "evalue": "Unable to get group info (bad symbol table node signature)",
     "output_type": "error",
     "traceback": [
      "\u001b[0;31m---------------------------------------------------------------------------\u001b[0m",
      "\u001b[0;31mRuntimeError\u001b[0m                              Traceback (most recent call last)",
      "File \u001b[0;32m~/miniconda3/envs/martini/lib/python3.9/site-packages/IPython/core/formatters.py:708\u001b[0m, in \u001b[0;36mPlainTextFormatter.__call__\u001b[0;34m(self, obj)\u001b[0m\n\u001b[1;32m    701\u001b[0m stream \u001b[38;5;241m=\u001b[39m StringIO()\n\u001b[1;32m    702\u001b[0m printer \u001b[38;5;241m=\u001b[39m pretty\u001b[38;5;241m.\u001b[39mRepresentationPrinter(stream, \u001b[38;5;28mself\u001b[39m\u001b[38;5;241m.\u001b[39mverbose,\n\u001b[1;32m    703\u001b[0m     \u001b[38;5;28mself\u001b[39m\u001b[38;5;241m.\u001b[39mmax_width, \u001b[38;5;28mself\u001b[39m\u001b[38;5;241m.\u001b[39mnewline,\n\u001b[1;32m    704\u001b[0m     max_seq_length\u001b[38;5;241m=\u001b[39m\u001b[38;5;28mself\u001b[39m\u001b[38;5;241m.\u001b[39mmax_seq_length,\n\u001b[1;32m    705\u001b[0m     singleton_pprinters\u001b[38;5;241m=\u001b[39m\u001b[38;5;28mself\u001b[39m\u001b[38;5;241m.\u001b[39msingleton_printers,\n\u001b[1;32m    706\u001b[0m     type_pprinters\u001b[38;5;241m=\u001b[39m\u001b[38;5;28mself\u001b[39m\u001b[38;5;241m.\u001b[39mtype_printers,\n\u001b[1;32m    707\u001b[0m     deferred_pprinters\u001b[38;5;241m=\u001b[39m\u001b[38;5;28mself\u001b[39m\u001b[38;5;241m.\u001b[39mdeferred_printers)\n\u001b[0;32m--> 708\u001b[0m \u001b[43mprinter\u001b[49m\u001b[38;5;241;43m.\u001b[39;49m\u001b[43mpretty\u001b[49m\u001b[43m(\u001b[49m\u001b[43mobj\u001b[49m\u001b[43m)\u001b[49m\n\u001b[1;32m    709\u001b[0m printer\u001b[38;5;241m.\u001b[39mflush()\n\u001b[1;32m    710\u001b[0m \u001b[38;5;28;01mreturn\u001b[39;00m stream\u001b[38;5;241m.\u001b[39mgetvalue()\n",
      "File \u001b[0;32m~/miniconda3/envs/martini/lib/python3.9/site-packages/IPython/lib/pretty.py:410\u001b[0m, in \u001b[0;36mRepresentationPrinter.pretty\u001b[0;34m(self, obj)\u001b[0m\n\u001b[1;32m    407\u001b[0m                         \u001b[38;5;28;01mreturn\u001b[39;00m meth(obj, \u001b[38;5;28mself\u001b[39m, cycle)\n\u001b[1;32m    408\u001b[0m                 \u001b[38;5;28;01mif\u001b[39;00m \u001b[38;5;28mcls\u001b[39m \u001b[38;5;129;01mis\u001b[39;00m \u001b[38;5;129;01mnot\u001b[39;00m \u001b[38;5;28mobject\u001b[39m \\\n\u001b[1;32m    409\u001b[0m                         \u001b[38;5;129;01mand\u001b[39;00m \u001b[38;5;28mcallable\u001b[39m(\u001b[38;5;28mcls\u001b[39m\u001b[38;5;241m.\u001b[39m\u001b[38;5;18m__dict__\u001b[39m\u001b[38;5;241m.\u001b[39mget(\u001b[38;5;124m'\u001b[39m\u001b[38;5;124m__repr__\u001b[39m\u001b[38;5;124m'\u001b[39m)):\n\u001b[0;32m--> 410\u001b[0m                     \u001b[38;5;28;01mreturn\u001b[39;00m \u001b[43m_repr_pprint\u001b[49m\u001b[43m(\u001b[49m\u001b[43mobj\u001b[49m\u001b[43m,\u001b[49m\u001b[43m \u001b[49m\u001b[38;5;28;43mself\u001b[39;49m\u001b[43m,\u001b[49m\u001b[43m \u001b[49m\u001b[43mcycle\u001b[49m\u001b[43m)\u001b[49m\n\u001b[1;32m    412\u001b[0m     \u001b[38;5;28;01mreturn\u001b[39;00m _default_pprint(obj, \u001b[38;5;28mself\u001b[39m, cycle)\n\u001b[1;32m    413\u001b[0m \u001b[38;5;28;01mfinally\u001b[39;00m:\n",
      "File \u001b[0;32m~/miniconda3/envs/martini/lib/python3.9/site-packages/IPython/lib/pretty.py:778\u001b[0m, in \u001b[0;36m_repr_pprint\u001b[0;34m(obj, p, cycle)\u001b[0m\n\u001b[1;32m    776\u001b[0m \u001b[38;5;250m\u001b[39m\u001b[38;5;124;03m\"\"\"A pprint that just redirects to the normal repr function.\"\"\"\u001b[39;00m\n\u001b[1;32m    777\u001b[0m \u001b[38;5;66;03m# Find newlines and replace them with p.break_()\u001b[39;00m\n\u001b[0;32m--> 778\u001b[0m output \u001b[38;5;241m=\u001b[39m \u001b[38;5;28;43mrepr\u001b[39;49m\u001b[43m(\u001b[49m\u001b[43mobj\u001b[49m\u001b[43m)\u001b[49m\n\u001b[1;32m    779\u001b[0m lines \u001b[38;5;241m=\u001b[39m output\u001b[38;5;241m.\u001b[39msplitlines()\n\u001b[1;32m    780\u001b[0m \u001b[38;5;28;01mwith\u001b[39;00m p\u001b[38;5;241m.\u001b[39mgroup():\n",
      "File \u001b[0;32m~/miniconda3/envs/martini/lib/python3.9/site-packages/h5py/_hl/base.py:384\u001b[0m, in \u001b[0;36mKeysViewHDF5.__str__\u001b[0;34m(self)\u001b[0m\n\u001b[1;32m    383\u001b[0m \u001b[38;5;28;01mdef\u001b[39;00m \u001b[38;5;21m__str__\u001b[39m(\u001b[38;5;28mself\u001b[39m):\n\u001b[0;32m--> 384\u001b[0m     \u001b[38;5;28;01mreturn\u001b[39;00m \u001b[38;5;124m\"\u001b[39m\u001b[38;5;124m<KeysViewHDF5 \u001b[39m\u001b[38;5;132;01m{}\u001b[39;00m\u001b[38;5;124m>\u001b[39m\u001b[38;5;124m\"\u001b[39m\u001b[38;5;241m.\u001b[39mformat(\u001b[38;5;28;43mlist\u001b[39;49m\u001b[43m(\u001b[49m\u001b[38;5;28;43mself\u001b[39;49m\u001b[43m)\u001b[49m)\n",
      "File \u001b[0;32m~/miniconda3/envs/martini/lib/python3.9/_collections_abc.py:806\u001b[0m, in \u001b[0;36mMappingView.__len__\u001b[0;34m(self)\u001b[0m\n\u001b[1;32m    805\u001b[0m \u001b[38;5;28;01mdef\u001b[39;00m \u001b[38;5;21m__len__\u001b[39m(\u001b[38;5;28mself\u001b[39m):\n\u001b[0;32m--> 806\u001b[0m     \u001b[38;5;28;01mreturn\u001b[39;00m \u001b[38;5;28;43mlen\u001b[39;49m\u001b[43m(\u001b[49m\u001b[38;5;28;43mself\u001b[39;49m\u001b[38;5;241;43m.\u001b[39;49m\u001b[43m_mapping\u001b[49m\u001b[43m)\u001b[49m\n",
      "File \u001b[0;32mh5py/_objects.pyx:54\u001b[0m, in \u001b[0;36mh5py._objects.with_phil.wrapper\u001b[0;34m()\u001b[0m\n",
      "File \u001b[0;32mh5py/_objects.pyx:55\u001b[0m, in \u001b[0;36mh5py._objects.with_phil.wrapper\u001b[0;34m()\u001b[0m\n",
      "File \u001b[0;32m~/miniconda3/envs/martini/lib/python3.9/site-packages/h5py/_hl/group.py:494\u001b[0m, in \u001b[0;36mGroup.__len__\u001b[0;34m(self)\u001b[0m\n\u001b[1;32m    491\u001b[0m \u001b[38;5;129m@with_phil\u001b[39m\n\u001b[1;32m    492\u001b[0m \u001b[38;5;28;01mdef\u001b[39;00m \u001b[38;5;21m__len__\u001b[39m(\u001b[38;5;28mself\u001b[39m):\n\u001b[1;32m    493\u001b[0m \u001b[38;5;250m    \u001b[39m\u001b[38;5;124;03m\"\"\" Number of members attached to this group \"\"\"\u001b[39;00m\n\u001b[0;32m--> 494\u001b[0m     \u001b[38;5;28;01mreturn\u001b[39;00m \u001b[38;5;28;43mself\u001b[39;49m\u001b[38;5;241;43m.\u001b[39;49m\u001b[43mid\u001b[49m\u001b[38;5;241;43m.\u001b[39;49m\u001b[43mget_num_objs\u001b[49m\u001b[43m(\u001b[49m\u001b[43m)\u001b[49m\n",
      "File \u001b[0;32mh5py/_objects.pyx:54\u001b[0m, in \u001b[0;36mh5py._objects.with_phil.wrapper\u001b[0;34m()\u001b[0m\n",
      "File \u001b[0;32mh5py/_objects.pyx:55\u001b[0m, in \u001b[0;36mh5py._objects.with_phil.wrapper\u001b[0;34m()\u001b[0m\n",
      "File \u001b[0;32mh5py/h5g.pyx:346\u001b[0m, in \u001b[0;36mh5py.h5g.GroupID.get_num_objs\u001b[0;34m()\u001b[0m\n",
      "\u001b[0;31mRuntimeError\u001b[0m: Unable to get group info (bad symbol table node signature)"
     ]
    }
   ],
   "source": [
    "data.keys()"
   ]
  },
  {
   "cell_type": "code",
   "execution_count": 10,
   "id": "18a95a1e-243b-4b24-ba13-b912456161c8",
   "metadata": {},
   "outputs": [
    {
     "ename": "KeyError",
     "evalue": "\"Unable to synchronously open object (object 'MainProps' doesn't exist)\"",
     "output_type": "error",
     "traceback": [
      "\u001b[0;31m---------------------------------------------------------------------------\u001b[0m",
      "\u001b[0;31mKeyError\u001b[0m                                  Traceback (most recent call last)",
      "Cell \u001b[0;32mIn[10], line 1\u001b[0m\n\u001b[0;32m----> 1\u001b[0m \u001b[43mdata\u001b[49m\u001b[43m[\u001b[49m\u001b[38;5;124;43m'\u001b[39;49m\u001b[38;5;124;43mMainProps\u001b[39;49m\u001b[38;5;124;43m'\u001b[39;49m\u001b[43m]\u001b[49m[()]\u001b[38;5;241m.\u001b[39mshape\n",
      "File \u001b[0;32mh5py/_objects.pyx:54\u001b[0m, in \u001b[0;36mh5py._objects.with_phil.wrapper\u001b[0;34m()\u001b[0m\n",
      "File \u001b[0;32mh5py/_objects.pyx:55\u001b[0m, in \u001b[0;36mh5py._objects.with_phil.wrapper\u001b[0;34m()\u001b[0m\n",
      "File \u001b[0;32m~/miniconda3/envs/martini/lib/python3.9/site-packages/h5py/_hl/group.py:357\u001b[0m, in \u001b[0;36mGroup.__getitem__\u001b[0;34m(self, name)\u001b[0m\n\u001b[1;32m    355\u001b[0m         \u001b[38;5;28;01mraise\u001b[39;00m \u001b[38;5;167;01mValueError\u001b[39;00m(\u001b[38;5;124m\"\u001b[39m\u001b[38;5;124mInvalid HDF5 object reference\u001b[39m\u001b[38;5;124m\"\u001b[39m)\n\u001b[1;32m    356\u001b[0m \u001b[38;5;28;01melif\u001b[39;00m \u001b[38;5;28misinstance\u001b[39m(name, (\u001b[38;5;28mbytes\u001b[39m, \u001b[38;5;28mstr\u001b[39m)):\n\u001b[0;32m--> 357\u001b[0m     oid \u001b[38;5;241m=\u001b[39m \u001b[43mh5o\u001b[49m\u001b[38;5;241;43m.\u001b[39;49m\u001b[43mopen\u001b[49m\u001b[43m(\u001b[49m\u001b[38;5;28;43mself\u001b[39;49m\u001b[38;5;241;43m.\u001b[39;49m\u001b[43mid\u001b[49m\u001b[43m,\u001b[49m\u001b[43m \u001b[49m\u001b[38;5;28;43mself\u001b[39;49m\u001b[38;5;241;43m.\u001b[39;49m\u001b[43m_e\u001b[49m\u001b[43m(\u001b[49m\u001b[43mname\u001b[49m\u001b[43m)\u001b[49m\u001b[43m,\u001b[49m\u001b[43m \u001b[49m\u001b[43mlapl\u001b[49m\u001b[38;5;241;43m=\u001b[39;49m\u001b[38;5;28;43mself\u001b[39;49m\u001b[38;5;241;43m.\u001b[39;49m\u001b[43m_lapl\u001b[49m\u001b[43m)\u001b[49m\n\u001b[1;32m    358\u001b[0m \u001b[38;5;28;01melse\u001b[39;00m:\n\u001b[1;32m    359\u001b[0m     \u001b[38;5;28;01mraise\u001b[39;00m \u001b[38;5;167;01mTypeError\u001b[39;00m(\u001b[38;5;124m\"\u001b[39m\u001b[38;5;124mAccessing a group is done with bytes or str, \u001b[39m\u001b[38;5;124m\"\u001b[39m\n\u001b[1;32m    360\u001b[0m                     \u001b[38;5;124m\"\u001b[39m\u001b[38;5;124mnot \u001b[39m\u001b[38;5;132;01m{}\u001b[39;00m\u001b[38;5;124m\"\u001b[39m\u001b[38;5;241m.\u001b[39mformat(\u001b[38;5;28mtype\u001b[39m(name)))\n",
      "File \u001b[0;32mh5py/_objects.pyx:54\u001b[0m, in \u001b[0;36mh5py._objects.with_phil.wrapper\u001b[0;34m()\u001b[0m\n",
      "File \u001b[0;32mh5py/_objects.pyx:55\u001b[0m, in \u001b[0;36mh5py._objects.with_phil.wrapper\u001b[0;34m()\u001b[0m\n",
      "File \u001b[0;32mh5py/h5o.pyx:257\u001b[0m, in \u001b[0;36mh5py.h5o.open\u001b[0;34m()\u001b[0m\n",
      "\u001b[0;31mKeyError\u001b[0m: \"Unable to synchronously open object (object 'MainProps' doesn't exist)\""
     ]
    }
   ],
   "source": [
    "data['MainProps'][()].shape"
   ]
  },
  {
   "cell_type": "code",
   "execution_count": 13,
   "id": "65671860-fae3-4514-aa34-85019afd281e",
   "metadata": {},
   "outputs": [],
   "source": [
    "subIds = list(data.keys())[1:]"
   ]
  },
  {
   "cell_type": "code",
   "execution_count": 14,
   "id": "57e0eb1b-7f65-46a8-a4ac-782e27492bfa",
   "metadata": {},
   "outputs": [
    {
     "data": {
      "text/plain": [
       "['SubID_1',\n",
       " 'SubID_17186',\n",
       " 'SubID_2',\n",
       " 'SubID_3',\n",
       " 'SubID_32',\n",
       " 'SubID_36',\n",
       " 'SubID_38',\n",
       " 'SubID_4',\n",
       " 'SubID_5',\n",
       " 'SubID_52']"
      ]
     },
     "execution_count": 14,
     "metadata": {},
     "output_type": "execute_result"
    }
   ],
   "source": [
    "subIds"
   ]
  },
  {
   "cell_type": "code",
   "execution_count": 12,
   "id": "80b92949-6a02-4e76-9a7f-dae6b8578caf",
   "metadata": {},
   "outputs": [],
   "source": [
    "subID = 5#subIds[8][6:]\n",
    "try:\n",
    "    folder = '../data/TNGgalaxies/' + str(subID)\n",
    "    os.mkdir(folder)\n",
    "except:\n",
    "    pass"
   ]
  },
  {
   "cell_type": "code",
   "execution_count": 16,
   "id": "079fb537-afb5-407e-9c84-01e64ed95e07",
   "metadata": {},
   "outputs": [
    {
     "data": {
      "text/plain": [
       "5"
      ]
     },
     "execution_count": 16,
     "metadata": {},
     "output_type": "execute_result"
    }
   ],
   "source": [
    "int(subID)"
   ]
  },
  {
   "cell_type": "code",
   "execution_count": 13,
   "id": "8b44e160-80b6-4b30-b440-ca9ac9803930",
   "metadata": {},
   "outputs": [
    {
     "ename": "KeyError",
     "evalue": "'Unable to synchronously open object (component not found)'",
     "output_type": "error",
     "traceback": [
      "\u001b[0;31m---------------------------------------------------------------------------\u001b[0m",
      "\u001b[0;31mKeyError\u001b[0m                                  Traceback (most recent call last)",
      "Cell \u001b[0;32mIn[13], line 1\u001b[0m\n\u001b[0;32m----> 1\u001b[0m \u001b[43mdata\u001b[49m\u001b[43m[\u001b[49m\u001b[38;5;124;43m'\u001b[39;49m\u001b[38;5;124;43mSubID_\u001b[39;49m\u001b[38;5;124;43m'\u001b[39;49m\u001b[43m \u001b[49m\u001b[38;5;241;43m+\u001b[39;49m\u001b[43m \u001b[49m\u001b[38;5;28;43mstr\u001b[39;49m\u001b[43m(\u001b[49m\u001b[43msubID\u001b[49m\u001b[43m)\u001b[49m\u001b[43m \u001b[49m\u001b[38;5;241;43m+\u001b[39;49m\u001b[43m \u001b[49m\u001b[38;5;124;43m'\u001b[39;49m\u001b[38;5;124;43m/Props\u001b[39;49m\u001b[38;5;124;43m'\u001b[39;49m\u001b[43m]\u001b[49m[()]\n",
      "File \u001b[0;32mh5py/_objects.pyx:54\u001b[0m, in \u001b[0;36mh5py._objects.with_phil.wrapper\u001b[0;34m()\u001b[0m\n",
      "File \u001b[0;32mh5py/_objects.pyx:55\u001b[0m, in \u001b[0;36mh5py._objects.with_phil.wrapper\u001b[0;34m()\u001b[0m\n",
      "File \u001b[0;32m~/miniconda3/envs/martini/lib/python3.9/site-packages/h5py/_hl/group.py:357\u001b[0m, in \u001b[0;36mGroup.__getitem__\u001b[0;34m(self, name)\u001b[0m\n\u001b[1;32m    355\u001b[0m         \u001b[38;5;28;01mraise\u001b[39;00m \u001b[38;5;167;01mValueError\u001b[39;00m(\u001b[38;5;124m\"\u001b[39m\u001b[38;5;124mInvalid HDF5 object reference\u001b[39m\u001b[38;5;124m\"\u001b[39m)\n\u001b[1;32m    356\u001b[0m \u001b[38;5;28;01melif\u001b[39;00m \u001b[38;5;28misinstance\u001b[39m(name, (\u001b[38;5;28mbytes\u001b[39m, \u001b[38;5;28mstr\u001b[39m)):\n\u001b[0;32m--> 357\u001b[0m     oid \u001b[38;5;241m=\u001b[39m \u001b[43mh5o\u001b[49m\u001b[38;5;241;43m.\u001b[39;49m\u001b[43mopen\u001b[49m\u001b[43m(\u001b[49m\u001b[38;5;28;43mself\u001b[39;49m\u001b[38;5;241;43m.\u001b[39;49m\u001b[43mid\u001b[49m\u001b[43m,\u001b[49m\u001b[43m \u001b[49m\u001b[38;5;28;43mself\u001b[39;49m\u001b[38;5;241;43m.\u001b[39;49m\u001b[43m_e\u001b[49m\u001b[43m(\u001b[49m\u001b[43mname\u001b[49m\u001b[43m)\u001b[49m\u001b[43m,\u001b[49m\u001b[43m \u001b[49m\u001b[43mlapl\u001b[49m\u001b[38;5;241;43m=\u001b[39;49m\u001b[38;5;28;43mself\u001b[39;49m\u001b[38;5;241;43m.\u001b[39;49m\u001b[43m_lapl\u001b[49m\u001b[43m)\u001b[49m\n\u001b[1;32m    358\u001b[0m \u001b[38;5;28;01melse\u001b[39;00m:\n\u001b[1;32m    359\u001b[0m     \u001b[38;5;28;01mraise\u001b[39;00m \u001b[38;5;167;01mTypeError\u001b[39;00m(\u001b[38;5;124m\"\u001b[39m\u001b[38;5;124mAccessing a group is done with bytes or str, \u001b[39m\u001b[38;5;124m\"\u001b[39m\n\u001b[1;32m    360\u001b[0m                     \u001b[38;5;124m\"\u001b[39m\u001b[38;5;124mnot \u001b[39m\u001b[38;5;132;01m{}\u001b[39;00m\u001b[38;5;124m\"\u001b[39m\u001b[38;5;241m.\u001b[39mformat(\u001b[38;5;28mtype\u001b[39m(name)))\n",
      "File \u001b[0;32mh5py/_objects.pyx:54\u001b[0m, in \u001b[0;36mh5py._objects.with_phil.wrapper\u001b[0;34m()\u001b[0m\n",
      "File \u001b[0;32mh5py/_objects.pyx:55\u001b[0m, in \u001b[0;36mh5py._objects.with_phil.wrapper\u001b[0;34m()\u001b[0m\n",
      "File \u001b[0;32mh5py/h5o.pyx:257\u001b[0m, in \u001b[0;36mh5py.h5o.open\u001b[0;34m()\u001b[0m\n",
      "\u001b[0;31mKeyError\u001b[0m: 'Unable to synchronously open object (component not found)'"
     ]
    }
   ],
   "source": [
    "data['SubID_' + str(subID) + '/Props'][()]"
   ]
  },
  {
   "cell_type": "code",
   "execution_count": 14,
   "id": "db6a4fbe-4863-409a-a986-342885096fae",
   "metadata": {},
   "outputs": [],
   "source": [
    "particles = np.loadtxt('../data/particles/subhalo_' + str(subID) + '_starsCoord.txt') / h # [kPc]\n",
    "npart = len(particles)\n",
    "\n",
    "aux = np.loadtxt('../data/particles/subhalo_' + str(subID) + '_starsHsml.txt') / h # Hsml [kPc]\n",
    "particles = np.hstack((particles, aux.reshape(npart, 1)))\n",
    "\n",
    "aux = np.loadtxt('../data/particles/subhalo_' + str(subID) + '_starsVels.txt') # Vels [km sqrt(a)/s]\n",
    "particles = np.hstack((particles, aux))\n",
    "\n",
    "aux = np.loadtxt('../data/particles/subhalo_' + str(subID) + '_starsInitMass.txt') * (1e10) / h # [Msun]\n",
    "particles = np.hstack((particles, aux.reshape(npart, 1)))\n",
    "\n",
    "aux = np.loadtxt('../data/particles/subhalo_' + str(subID) + '_starsMetal.txt')\n",
    "particles = np.hstack((particles, aux.reshape(npart, 1)))\n",
    "\n",
    "stars_SFT = np.loadtxt('../data/particles/subhalo_' + str(subID) + '_starsSFT.txt')\n",
    "\n",
    "stars_t0 = 13.8 * (1. - stars_SFT**1.5) + 1e-6\n",
    "\n",
    "particles = np.hstack((particles, stars_t0.reshape(npart, 1)))"
   ]
  },
  {
   "cell_type": "code",
   "execution_count": 15,
   "id": "d363a6d4-e457-40a6-a8d0-5c97057dea45",
   "metadata": {},
   "outputs": [
    {
     "data": {
      "text/plain": [
       "(206355, 10)"
      ]
     },
     "execution_count": 15,
     "metadata": {},
     "output_type": "execute_result"
    }
   ],
   "source": [
    "particles.shape"
   ]
  },
  {
   "cell_type": "code",
   "execution_count": 16,
   "id": "dad03e96-1ddc-4d0a-873f-3789ebe5152a",
   "metadata": {},
   "outputs": [],
   "source": [
    "# Discard wind particles (definition from illustris documentation: \n",
    "#      https://www.tng-project.org/data/docs/specifications/#parttype0\n",
    "rot_mat_AM, L_AM = compute_rot_mat_angMom(np.zeros(3), particles[:,0:3], particles[:,4:7], particles[:,8], Rmax = 200)\n",
    "\n",
    "ind_wind = np.where(stars_SFT <= 0)[0]\n",
    "if len(ind_wind) > 0:\n",
    "    particles = np.delete(particles, ind_wind, axis=0)\n",
    "\n",
    "# Rotate to be edge-on: (SKIRT is obseving from z axis, i.e, it observe the plane x-y)\n",
    "\n",
    "theta = np.pi/2\n",
    "particles[:,0:3], particles[:,4:7] = rotate(particles = particles[:,0:3], velocities = particles[:,4:7], \n",
    "                                            theta = theta, rot_mat = rot_mat_AM) # This put the AM in the z-axis\n",
    "particles[:,0:3], particles[:,4:7] = rotate(particles = particles[:,0:3], velocities = particles[:,4:7], \n",
    "                                            theta = theta)\n",
    "\n",
    "# Separare old from young stars:\n",
    "\n",
    "# from where do we get this formula???\n",
    "\n",
    "# from where do we get this condition???\n",
    "\n",
    "ind_old = np.where(particles[:,9] > 1e-2)[0]\n",
    "ind_new = np.where(particles[:,9] <= 1e-2)[0]\n",
    "\n",
    "particles_old = particles[ind_old]\n",
    "particles = particles[ind_new]\n",
    "\n",
    "if len(ind_old) > 0:\n",
    "    stars_old_header = ' Stellar particles for IllustrisTNG 100-1 subhaloID=' + str(subID) + ' \\n SKIRT 9 import format for a particle source with the Bruzual Charlot SED family \\n Column 1: x-coordinate (kpc) \\n Column 2: y-coordinate (kpc) \\n Column 3: z-coordinate (kpc) \\n Column 4: particle smoothing length (kpc) \\n Column 5: x-velocity (km/s) \\n Column 6: y-velocity (km/s) \\n Column 7: z-velocity (km/s) \\n Column 8: initial mass (Msun) \\n Column 9: metallicity (1) \\n Column 10: age (Gyr) \\n'\n",
    "    #stars_old_header = ' Stellar particles for IllustrisTNG 100-1 subhaloID=' + str(subID) +  \\\n",
    "    #                   ' \\n SKIRT 9 import format for a particle source with the Bruzual Charlot SED family' + \\\n",
    "    #                   '\\n Column 1: x-coordinate (kpc) \\n Column 2: y-coordinate (kpc) \\n Column 3: z-coordinate (kpc)' + \\\n",
    "    #                   '\\n Column 4: particle smoothing length (kpc)' +  \\\n",
    "    #                   '\\n Column 8: initial mass (Msun) \\n Column 9: metallicity (1) \\n Column 10: age (Gyr) \\n'\n",
    "    np.savetxt(folder + '/stars_old_v.txt', particles_old, header = stars_old_header)\n",
    "    \n",
    "if len(ind_new) > 0:\n",
    "    log10C = np.repeat(5, len(ind_new)).reshape(len(ind_new),1)\n",
    "    P = np.repeat(0.1, len(ind_new)).reshape(len(ind_new),1)\n",
    "    ccf = np.repeat(0.2, len(ind_new)).reshape(len(ind_new),1)\n",
    "    particles[:,7] = particles[:,7] / particles[:,9] * 1e9 # I dont know why we do this\n",
    "    \n",
    "    particles = np.hstack((particles, log10C, P, ccf))\n",
    "    stars_sb_header = ' Stellar particles for IllustrisTNG 100-1 subhaloID=' + str(subID) + ' \\n SKIRT 9 import format for a particle source with the Bruzual Charlot SED family \\n Column 1: x-coordinate (kpc) \\n Column 2: y-coordinate (kpc) \\n Column 3: z-coordinate (kpc) \\n Column 4: particle smoothing length (kpc) \\n Column 5: x-velocity (km/s) \\n Column 6: y-velocity (km/s) \\n Column 7: z-velocity (km/s) \\n Column 8: star formation rate (Msun/yr) \\n Column 9: metallicity (1) \\n Column 10: compactness (1) \\n Column 11: pressure (K/m3) \\n Column 12: cloud covering fraction (1) \\n'\n",
    "\n",
    "    np.savetxt(folder + '/stars_sb_v.txt', particles, header = stars_sb_header)"
   ]
  },
  {
   "cell_type": "code",
   "execution_count": 23,
   "id": "61beb823-f4ad-47e2-8424-e4df6fc92a21",
   "metadata": {},
   "outputs": [],
   "source": [
    "particles = np.loadtxt('../data/particles/subhalo_' + str(subID) + '_gasCoord.txt') / h # [kPc]\n",
    "npart = len(particles)\n",
    "\n",
    "aux = np.loadtxt('../data/particles/subhalo_' + str(subID) + '_gasDens.txt') * (1e10) * (h**2) # [Msun / kPc^3]\n",
    "particles = np.hstack((particles, aux.reshape(npart, 1)))\n",
    "\n",
    "aux = np.loadtxt('../data/particles/subhalo_' + str(subID) + '_gasMetal.txt')\n",
    "particles = np.hstack((particles, aux.reshape(npart, 1)))\n",
    "\n",
    "aux = np.loadtxt('../data/particles/subhalo_' + str(subID) + '_gasVels.txt') # Vels [km sqrt(a)/s]\n",
    "particles = np.hstack((particles, aux))\n",
    "\n",
    "#stars_SFT = np.loadtxt('../data/particles/subhalo_' + str(subID) + '_gasSFT.txt')\n",
    "\n",
    "#aux = np.loadtxt('../data/particles/subhalo_' + str(subID) + '_gasHsml.txt') / h # Hsml [kPc]\n",
    "#particles = np.hstack((particles, aux.reshape(npart, 1)))\n",
    "\n",
    "# Rotate data to be edge-on\n",
    "particles[:,0:3], particles[:,5:8] = rotate(particles = particles[:,0:3], velocities = particles[:,5:8], \n",
    "                                            theta = theta, rot_mat = rot_mat_AM) # This put the AM in the z-axis\n",
    "particles[:,0:3], particles[:,5:8] = rotate(particles = particles[:,0:3], velocities = particles[:,5:8], \n",
    "                                            theta = theta)\n",
    "\n",
    "# Let's save the data\n",
    "particles[:,3] = particles[:,3] * 1e-9 # Convert to [M_sun / Pc^3]\n",
    "gas_header = ' Gas particles for IllustrisTNG 100-1 subhaloID=' + str(subID) + ' \\n SKIRT 9 import format for a medium source using M_dust = f_dust x Z x M_gas \\n Column 1: x-coordinate (kpc) \\n Column 2: y-coordinate (kpc) \\n Column 3: z-coordinate (kpc) \\n Column 4: gas mass volume density (Msun/pc3) \\n Column 5: metallicity (1) \\n Column 6: x-velocity (km/s) \\n Column 7: y-velocity (km/s) \\n Column 8: z-velocity (km/s) \\n '\n",
    "np.savetxt(folder + '/gas_v.txt', particles, header = gas_header)\n",
    "  "
   ]
  },
  {
   "cell_type": "code",
   "execution_count": 18,
   "id": "e00f9408-5c97-49c2-ac5c-4c25e8782a5b",
   "metadata": {},
   "outputs": [
    {
     "name": "stdout",
     "output_type": "stream",
     "text": [
      "Rmax:  0\n"
     ]
    }
   ],
   "source": [
    "n_px = 128 # Number of pixels\n",
    "D = 15 # Distance to galaxy [Mpc]\n",
    "FoV = 17.2 # Field of view [minutes]\n",
    "px_s = 17.2 / n_px # Pixel size [minutes] \n",
    "FoV_phys = FoV * (1/60) * (np.pi / 180) * D * 1e6 # physical distance at observer [Pc]\n",
    "Rmax = int(0.5 * n_px * D * 1e3 * px_s * 4.848e-6)\n",
    "print(\"Rmax: \", Rmax)\n",
    "#self.get_data(subID, snapID, rot, folder, Rmax)\n",
    "Rframe = Rmax * 1e3 # [Pc]\n",
    "#Rsource1 = 0.5 * Rframe\n",
    "#Rsource2 = 0.1 * Rframe\n",
    "Rmedium = FoV_phys#0.5 * Rframe * 1e6 # pc\n",
    "Rgrid = 0.5 * Rframe\n",
    "#print(Rmax)\n",
    "#Rmax = 14.961969356639141\n",
    "#Rmax = 0.5 * Rframe\n",
    "#Rsource1 = Rmax\n",
    "#Rsource2 = Rmax\n",
    "#Rmedium = Rmax\n",
    "#Rgrid = Rmax\n",
    "\n",
    "skifile = sm.SkiFile('template.ski')\n",
    "#skifile = sm.SkiFile('template_sb-sph.ski')\n",
    "##skifile.setStringAttribute('.//VoronoiMeshSource', 'minX', str(-Rsource1) + ' pc')\n",
    "##skifile.setStringAttribute('.//VoronoiMeshSource', 'maxX', str(Rsource1) + ' pc')\n",
    "##skifile.setStringAttribute('.//VoronoiMeshSource', 'minY', str(-Rsource1) + ' pc')\n",
    "##skifile.setStringAttribute('.//VoronoiMeshSource', 'maxY', str(Rsource1) + ' pc')\n",
    "##skifile.setStringAttribute('.//VoronoiMeshSource', 'minZ', str(-Rsource1) + ' pc')\n",
    "##skifile.setStringAttribute('.//VoronoiMeshSource', 'maxZ', str(Rsource1) + ' pc')\n",
    "\n",
    "#skifile.setStringAttribute('(.//VoronoiMeshSource)[1]', 'minX', str(-Rsource1) + ' pc')\n",
    "#skifile.setStringAttribute('(.//VoronoiMeshSource)[1]', 'maxX', str(Rsource1) + ' pc')\n",
    "#skifile.setStringAttribute('(.//VoronoiMeshSource)[1]', 'minY', str(-Rsource1) + ' pc')\n",
    "#skifile.setStringAttribute('(.//VoronoiMeshSource)[1]', 'maxY', str(Rsource1) + ' pc')\n",
    "#skifile.setStringAttribute('(.//VoronoiMeshSource)[1]', 'minZ', str(-Rsource1) + ' pc')\n",
    "#skifile.setStringAttribute('(.//VoronoiMeshSource)[1]', 'maxZ', str(Rsource1) + ' pc')\n",
    "\n",
    "#skifile.setStringAttribute('(.//VoronoiMeshSource)[2]', 'minX', str(-Rsource2) + ' pc')\n",
    "#skifile.setStringAttribute('(.//VoronoiMeshSource)[2]', 'maxX', str(Rsource2) + ' pc')\n",
    "#skifile.setStringAttribute('(.//VoronoiMeshSource)[2]', 'minY', str(-Rsource2) + ' pc')\n",
    "#skifile.setStringAttribute('(.//VoronoiMeshSource)[2]', 'maxY', str(Rsource2) + ' pc')\n",
    "#skifile.setStringAttribute('(.//VoronoiMeshSource)[2]', 'minZ', str(-Rsource2) + ' pc')\n",
    "#skifile.setStringAttribute('(.//VoronoiMeshSource)[2]', 'maxZ', str(Rsource2) + ' pc')\n",
    "\n",
    "skifile.setStringAttribute('.//ParticleSource', 'filename', 'stars_old_v.txt')\n",
    "skifile.setStringAttribute('.//VoronoiMeshMedium', 'filename', 'gas_v.txt')\n",
    "\n",
    "skifile.setStringAttribute('.//VoronoiMeshMedium', 'minX', str(-Rmedium) + ' pc')\n",
    "skifile.setStringAttribute('.//VoronoiMeshMedium', 'maxX', str(Rmedium) + ' pc')\n",
    "skifile.setStringAttribute('.//VoronoiMeshMedium', 'minY', str(-Rmedium) + ' pc')\n",
    "skifile.setStringAttribute('.//VoronoiMeshMedium', 'maxY', str(Rmedium) + ' pc')\n",
    "skifile.setStringAttribute('.//VoronoiMeshMedium', 'minZ', str(-Rmedium) + ' pc')\n",
    "skifile.setStringAttribute('.//VoronoiMeshMedium', 'maxZ', str(Rmedium) + ' pc')\n",
    "\n",
    "#skifile.setStringAttribute('.//VoronoiMeshSpatialGrid', 'minX', str(-Rgrid) + ' pc')\n",
    "#skifile.setStringAttribute('.//VoronoiMeshSpatialGrid', 'maxX', str(Rgrid) + ' pc')\n",
    "#skifile.setStringAttribute('.//VoronoiMeshSpatialGrid', 'minY', str(-Rgrid) + ' pc')\n",
    "#skifile.setStringAttribute('.//VoronoiMeshSpatialGrid', 'maxY', str(Rgrid) + ' pc')\n",
    "#skifile.setStringAttribute('.//VoronoiMeshSpatialGrid', 'minZ', str(-Rgrid) + ' pc')\n",
    "#skifile.setStringAttribute('.//VoronoiMeshSpatialGrid', 'maxZ', str(Rgrid) + ' pc')\n",
    "\n",
    "skifile.setNumPrimaryPackets(2e7)\n",
    "skifile.setStringAttribute('.//FrameInstrument', 'distance', str(D) + ' Mpc')\n",
    "#skifile.setStringAttribute('.//FrameInstrument', 'inclination', '90 deg')\n",
    "#skifile.setStringAttribute('.//FrameInstrument', 'azimuth', '180 deg')\n",
    "skifile.setStringAttribute('.//FrameInstrument', 'numPixelsX', str(n_px))\n",
    "skifile.setStringAttribute('.//FrameInstrument', 'numPixelsY', str(n_px))\n",
    "skifile.setStringAttribute('.//FrameInstrument', 'fieldOfViewX', str(100000) + ' pc')\n",
    "skifile.setStringAttribute('.//FrameInstrument', 'fieldOfViewY', str(100000) + ' pc')\n",
    "\n",
    "skifile.saveTo(folder + '/galaxy.ski')"
   ]
  },
  {
   "cell_type": "code",
   "execution_count": 36,
   "id": "04085a29-22b8-43e1-94e0-19286b0e4a1c",
   "metadata": {},
   "outputs": [
    {
     "name": "stdout",
     "output_type": "stream",
     "text": [
      "04/11/2024 15:03:29.470   Welcome to SKIRT v9.0 (git 8765014 built on 23/10/2024 at 17:15:30)\n",
      "04/11/2024 15:03:29.470   Running on coglians.phys.sissa.it for mdelosri\n",
      "04/11/2024 15:03:29.472   Constructing a simulation from ski file '/u/m/mdelosri/MaDaMe/data/TNGgalaxies/5/galaxy.ski'...\n",
      "\u001b[32m04/11/2024 15:03:54.068 - Finished setup in 24.4 s.\n",
      "\u001b[0m\u001b[32m04/11/2024 15:03:54.068 - Finished setup output in 0.0 s.\n",
      "\u001b[0m\u001b[32m04/11/2024 15:04:13.280 - Finished primary emission in 19.2 s.\n",
      "\u001b[0m\u001b[32m04/11/2024 15:04:20.516 - Finished secondary emission in 7.2 s.\n",
      "\u001b[0m\u001b[32m04/11/2024 15:04:20.516 - Finished the run in 26.4 s.\n",
      "\u001b[0m\u001b[32m04/11/2024 15:04:25.097 - Finished final output in 4.6 s.\n",
      "\u001b[0m\u001b[32m04/11/2024 15:04:25.097 - Finished simulation galaxy using 4 threads and a single process in 55.4 s.\n",
      "\u001b[0m04/11/2024 15:04:25.131   Available memory: 125 GB -- Peak memory usage: 931 MB (0.7%)\n"
     ]
    }
   ],
   "source": [
    "skirt = sm.Skirt()\n",
    "simulation = skirt.execute(folder + '/galaxy.ski', inDirPath=folder, outDirPath=folder, numThreadsPerProcess=4, console='brief') #brief"
   ]
  },
  {
   "cell_type": "code",
   "execution_count": 37,
   "id": "625041dc-4a9f-49bd-b55a-1beb3328abff",
   "metadata": {},
   "outputs": [],
   "source": [
    "SDSS_U = bd.BroadBand('/u/m/mdelosri/SKIRT/resources/SKIRT9_Resources_Core/Band/SLOAN_SDSS_U_BroadBand.stab')\n",
    "SDSS_G = bd.BroadBand('/u/m/mdelosri/SKIRT/resources/SKIRT9_Resources_Core/Band/SLOAN_SDSS_G_BroadBand.stab')\n",
    "SDSS_R = bd.BroadBand('/u/m/mdelosri/SKIRT/resources/SKIRT9_Resources_Core/Band/SLOAN_SDSS_R_BroadBand.stab')\n",
    "SDSS_I = bd.BroadBand('/u/m/mdelosri/SKIRT/resources/SKIRT9_Resources_Core/Band/SLOAN_SDSS_I_BroadBand.stab')\n",
    "SDSS_Z = bd.BroadBand('/u/m/mdelosri/SKIRT/resources/SKIRT9_Resources_Core/Band/SLOAN_SDSS_Z_BroadBand.stab')\n"
   ]
  },
  {
   "cell_type": "code",
   "execution_count": 38,
   "id": "1cb6adb8-6427-4565-aa7e-44202f172e71",
   "metadata": {},
   "outputs": [
    {
     "data": {
      "text/plain": [
       "(<Quantity 1.e-05 MJy / sr>, <Quantity 1000. MJy / sr>)"
      ]
     },
     "execution_count": 38,
     "metadata": {},
     "output_type": "execute_result"
    }
   ],
   "source": [
    "vis.makergbimages.makeConvolvedRGBImages(simulation, name='SDSS_U', contributions=[[SDSS_U, 1., 0, 0], [SDSS_U, 0, 1., 0],[SDSS_U, 0, 0, 1.]], fmin=1e-5, fmax=1e3)\n",
    "vis.makergbimages.makeConvolvedRGBImages(simulation, name='SDSS_G', contributions=[[SDSS_G, 1., 0, 0], [SDSS_G, 0, 1., 0],[SDSS_G, 0, 0, 1.]], fmin=1e-5, fmax=1e3)\n",
    "vis.makergbimages.makeConvolvedRGBImages(simulation, name='SDSS_R', contributions=[[SDSS_R, 1., 0, 0], [SDSS_R, 0, 1., 0],[SDSS_R, 0, 0, 1.]], fmin=1e-5, fmax=1e3)\n",
    "vis.makergbimages.makeConvolvedRGBImages(simulation, name='SDSS_I', contributions=[[SDSS_I, 1., 0, 0], [SDSS_I, 0, 1., 0],[SDSS_I, 0, 0, 1.]], fmin=1e-5, fmax=1e3)\n",
    "vis.makergbimages.makeConvolvedRGBImages(simulation, name='SDSS_Z', contributions=[[SDSS_Z, 1., 0, 0], [SDSS_Z, 0, 1., 0],[SDSS_Z, 0, 0, 1.]], fmin=1e-5, fmax=1e3)\n"
   ]
  },
  {
   "cell_type": "code",
   "execution_count": 30,
   "id": "990a78db-6eec-4c53-8354-35c73fb60bae",
   "metadata": {},
   "outputs": [
    {
     "data": {
      "text/plain": [
       "'../data/TNGgalaxies/5'"
      ]
     },
     "execution_count": 30,
     "metadata": {},
     "output_type": "execute_result"
    }
   ],
   "source": [
    "folder"
   ]
  },
  {
   "cell_type": "code",
   "execution_count": 39,
   "id": "54b9a9df-0cf6-4e96-b06d-58961ca6205b",
   "metadata": {},
   "outputs": [
    {
     "data": {
      "text/plain": [
       "<matplotlib.image.AxesImage at 0x7ff0a5ddbd60>"
      ]
     },
     "execution_count": 39,
     "metadata": {},
     "output_type": "execute_result"
    },
    {
     "data": {
      "image/png": "[encoded data removed]",
      "text/plain": [
       "<Figure size 640x480 with 5 Axes>"
      ]
     },
     "metadata": {},
     "output_type": "display_data"
    }
   ],
   "source": [
    "# Load the image\n",
    "imgU = mpimg.imread(folder + \"/galaxy_cube_total_SDSS_U.png\")\n",
    "imgG = mpimg.imread(folder + \"/galaxy_cube_total_SDSS_G.png\")\n",
    "imgR = mpimg.imread(folder + \"/galaxy_cube_total_SDSS_R.png\")\n",
    "imgI = mpimg.imread(folder + \"/galaxy_cube_total_SDSS_I.png\")\n",
    "imgZ = mpimg.imread(folder + \"/galaxy_cube_total_SDSS_Z.png\")\n",
    "\n",
    "# Display the image\n",
    "fig,ax = plt.subplots(1,5)\n",
    "ax[0].imshow(imgU)\n",
    "ax[1].imshow(imgG)\n",
    "ax[2].imshow(imgR)\n",
    "ax[3].imshow(imgI)\n",
    "ax[4].imshow(imgZ)"
   ]
  },
  {
   "cell_type": "code",
   "execution_count": 40,
   "id": "816f5de1-ddaf-48ae-9444-5d06be41af49",
   "metadata": {},
   "outputs": [],
   "source": [
    "import martini"
   ]
  },
  {
   "cell_type": "code",
   "execution_count": 24,
   "id": "e9cd8e0d-79e6-43d0-9d31-57928db7f856",
   "metadata": {},
   "outputs": [],
   "source": [
    "from martini.sources import TNGSource, SPHSource\n",
    "from martini import DataCube, Martini\n",
    "from martini.beams import GaussianBeam\n",
    "from martini.noise import GaussianNoise\n",
    "from martini.spectral_models import GaussianSpectrum\n",
    "from martini.sph_kernels import CubicSplineKernel, find_fwhm\n",
    "import astropy.units as U\n",
    "from Hdecompose.atomic_frac import atomic_frac"
   ]
  },
  {
   "cell_type": "code",
   "execution_count": 22,
   "id": "674d9e23-b3e5-4b74-a10c-86e032c08f80",
   "metadata": {},
   "outputs": [],
   "source": [
    "from martini import demo_source\n",
    "\n",
    "source = demo_source(N=20000)"
   ]
  },
  {
   "cell_type": "code",
   "execution_count": 20,
   "id": "5e467ee4-d31d-4ec5-9a5d-98bae646fc8a",
   "metadata": {},
   "outputs": [
    {
     "data": {
      "text/plain": [
       "(19042, 8)"
      ]
     },
     "execution_count": 20,
     "metadata": {},
     "output_type": "execute_result"
    }
   ],
   "source": [
    "particles.shape"
   ]
  },
  {
   "cell_type": "code",
   "execution_count": null,
   "id": "3fd0fc05-b620-4a4c-8a5f-48f0496bf08f",
   "metadata": {},
   "outputs": [],
   "source": [
    "a = 1 #data_header[\"Time\"]\n",
    "z = 0 #data_header[\"Redshift\"]\n",
    "#h = data_header[\"HubbleParam\"]\n",
    "xe_g = data_g[\"ElectronAbundance\"]\n",
    "rho_g = particles[:,3] * U.Msun * np.power(U.kpc, -3) #data_g[\"Density\"] * 1e10 / h * U.Msun * np.power(a / h * U.kpc, -3)\n",
    "u_g = data_g[\"InternalEnergy\"]  # unit conversion handled in T_g\n",
    "X_H_g = particles[:,5] # GFM_Metals\n",
    "mu_g = 4 / (1 + 3 * X_H_g + 4 * X_H_g * xe_g)\n",
    "gamma = 5.0 / 3.0  # see http://www.tng-project.org/data/docs/faq/#gen4\n",
    "T_g = (\n",
    "    (gamma - 1)\n",
    "    * u_g\n",
    "    / C.k_B.to_value(U.erg / U.K)\n",
    "    * 1e10\n",
    "    * mu_g\n",
    "    * C.m_p.to_value(U.g)\n",
    "    * U.K\n",
    ")\n",
    "m_g = data_g[\"Masses\"] * 1e10 / h * U.Msun\n",
    "            # cast to float64 to avoid underflow error\n",
    "nH_g = U.Quantity(rho_g * X_H_g / mu_g, dtype=np.float64) / C.m_p\n",
    "            # In TNG_corrections I set f_neutral = 1 for particles with density\n",
    "            # > .1cm^-3. Might be possible to do a bit better here, but HI & H2\n",
    "            # tables for TNG will be available soon anyway.\n",
    "fatomic_g = atomic_frac(\n",
    "    z,\n",
    "    nH_g,\n",
    "    T_g,\n",
    "    rho_g,\n",
    "    X_H_g,\n",
    "    mu=mu_g,\n",
    "    onlyA1=True,\n",
    "    TNG_corrections=True,\n",
    ")\n",
    "mHI_g = m_g * X_H_g * fatomic_g\n",
    "\n",
    "xyz_g = particles[:,0:3] * U.kpc\n",
    "vxyz_g = particles[:5:8] * U.km / U.s\n",
    "V_cell = (\n",
    "    data_g[\"Masses\"] / data_g[\"Density\"] * np.power(a / h * U.kpc, 3)\n",
    ")  # Voronoi cell volume\n",
    "r_cell = np.power(3.0 * V_cell / 4.0 / np.pi, 1.0 / 3.0).to(U.kpc)\n",
    "# hsm_g has in mind a cubic spline that =0 at r=h, I think\n",
    "hsm_g = 2.5 * r_cell * find_fwhm(_CubicSplineKernel().kernel)\n",
    "\n",
    "source = SPHSource(\n",
    "            distance=distance,\n",
    "            vpeculiar=vpeculiar,\n",
    "            rotation=rotation,\n",
    "            ra=ra,\n",
    "            dec=dec,\n",
    "            h=h,\n",
    "            T_g=T_g,\n",
    "            mHI_g=mHI_g,\n",
    "            xyz_g=xyz_g,\n",
    "            vxyz_g=vxyz_g,\n",
    "            hsm_g=hsm_g,\n",
    "        )"
   ]
  },
  {
   "cell_type": "code",
   "execution_count": null,
   "id": "b4b9bb6f-1cb5-43a4-acce-4eeb63824771",
   "metadata": {},
   "outputs": [],
   "source": [
    "source = SPHSource(\n",
    "            distance=distance, #Source distance, also used to set the velocity offset via Hubble's law.\n",
    "            vpeculiar=vpeculiar, # Source peculiar velocity along the direction to the source centre (Default: ``0 * U.km * U.s**-1``)\n",
    "            rotation=rotation, # Note that the 'y-z' plane will be the one eventually placed in the plane of the \"sky\"\n",
    "            ra=ra, # Right ascension for the source centroid. (Default: ``0 * U.deg``)\n",
    "            dec=dec, # Declination for the source centroid. (Default: ``0 * U.deg``)\n",
    "            h=h, # data_header[\"HubbleParam\"]\n",
    "            T_g=T_g, # gas temperature\n",
    "            mHI_g=mHI_g, # HI mass\n",
    "            xyz_g=xyz_g, # gas coordiantes\n",
    "            vxyz_g=vxyz_g, # gas velocities\n",
    "            hsm_g=hsm_g) # smoothing lenght"
   ]
  },
  {
   "cell_type": "code",
   "execution_count": 23,
   "id": "8c0d937c-5b93-45f9-9d1d-60f0873cb793",
   "metadata": {},
   "outputs": [
    {
     "data": {
      "text/plain": [
       "['T_g',\n",
       " '__class__',\n",
       " '__delattr__',\n",
       " '__dict__',\n",
       " '__dir__',\n",
       " '__doc__',\n",
       " '__eq__',\n",
       " '__format__',\n",
       " '__ge__',\n",
       " '__getattribute__',\n",
       " '__gt__',\n",
       " '__hash__',\n",
       " '__init__',\n",
       " '__init_subclass__',\n",
       " '__le__',\n",
       " '__lt__',\n",
       " '__module__',\n",
       " '__ne__',\n",
       " '__new__',\n",
       " '__reduce__',\n",
       " '__reduce_ex__',\n",
       " '__repr__',\n",
       " '__setattr__',\n",
       " '__sizeof__',\n",
       " '__str__',\n",
       " '__subclasshook__',\n",
       " '__weakref__',\n",
       " '_init_pixcoords',\n",
       " '_init_skycoords',\n",
       " 'apply_mask',\n",
       " 'boost',\n",
       " 'coordinate_frame',\n",
       " 'coordinates_g',\n",
       " 'current_rotation',\n",
       " 'dec',\n",
       " 'distance',\n",
       " 'h',\n",
       " 'hsm_g',\n",
       " 'input_mass',\n",
       " 'mHI_g',\n",
       " 'npart',\n",
       " 'pixcoords',\n",
       " 'preview',\n",
       " 'ra',\n",
       " 'rotate',\n",
       " 'save_current_rotation',\n",
       " 'skycoords',\n",
       " 'spectralcoords',\n",
       " 'translate',\n",
       " 'vhubble',\n",
       " 'vpeculiar',\n",
       " 'vsys']"
      ]
     },
     "execution_count": 23,
     "metadata": {},
     "output_type": "execute_result"
    }
   ],
   "source": [
    "dir(source)"
   ]
  },
  {
   "cell_type": "code",
   "execution_count": 20,
   "id": "27195b5d-2305-4c5f-9d8b-29e907f4edf1",
   "metadata": {},
   "outputs": [],
   "source": [
    "grnr_file = 'temp.npy'"
   ]
  },
  {
   "cell_type": "code",
   "execution_count": 26,
   "id": "4d9f4b35-d389-4651-9fc9-0691dfdb654c",
   "metadata": {},
   "outputs": [
    {
     "name": "stdout",
     "output_type": "stream",
     "text": [
      "No cutout_dir provided, cutout will be downloaded.\n",
      "No local cutout found, cutout will be downloaded.\n"
     ]
    },
    {
     "ename": "UnboundLocalError",
     "evalue": "local variable 'grnr_file' referenced before assignment",
     "output_type": "error",
     "traceback": [
      "\u001b[0;31m---------------------------------------------------------------------------\u001b[0m",
      "\u001b[0;31mUnboundLocalError\u001b[0m                         Traceback (most recent call last)",
      "Cell \u001b[0;32mIn[26], line 1\u001b[0m\n\u001b[0;32m----> 1\u001b[0m tng_source \u001b[38;5;241m=\u001b[39m \u001b[43mTNGSource\u001b[49m\u001b[43m(\u001b[49m\n\u001b[1;32m      2\u001b[0m \u001b[43m    \u001b[49m\u001b[38;5;124;43m\"\u001b[39;49m\u001b[38;5;124;43mTNG50-1\u001b[39;49m\u001b[38;5;124;43m\"\u001b[39;49m\u001b[43m,\u001b[49m\n\u001b[1;32m      3\u001b[0m \u001b[43m    \u001b[49m\u001b[38;5;241;43m99\u001b[39;49m\u001b[43m,\u001b[49m\n\u001b[1;32m      4\u001b[0m \u001b[43m    \u001b[49m\u001b[38;5;241;43m572840\u001b[39;49m\u001b[43m,\u001b[49m\n\u001b[1;32m      5\u001b[0m \u001b[43m    \u001b[49m\u001b[43mapi_key\u001b[49m\u001b[38;5;241;43m=\u001b[39;49m\u001b[38;5;124;43m\"\u001b[39;49m\u001b[38;5;124;43m81b7c70637fa8b110e6b9f236ea07c37\u001b[39;49m\u001b[38;5;124;43m\"\u001b[39;49m\u001b[43m,\u001b[49m\n\u001b[1;32m      6\u001b[0m \u001b[43m)\u001b[49m\n\u001b[1;32m      7\u001b[0m tng_source\u001b[38;5;241m.\u001b[39mpreview(fig\u001b[38;5;241m=\u001b[39m\u001b[38;5;241m5\u001b[39m)\n",
      "File \u001b[0;32m~/miniconda3/envs/martini/lib/python3.9/site-packages/martini/sources/tng_source.py:255\u001b[0m, in \u001b[0;36mTNGSource.__init__\u001b[0;34m(self, simulation, snapNum, subID, api_key, cutout_dir, distance, vpeculiar, rotation, ra, dec, coordinate_frame)\u001b[0m\n\u001b[1;32m    253\u001b[0m sub \u001b[38;5;241m=\u001b[39m api_get(sub_api_path, api_key\u001b[38;5;241m=\u001b[39mapi_key)\n\u001b[1;32m    254\u001b[0m haloID \u001b[38;5;241m=\u001b[39m sub[\u001b[38;5;124m\"\u001b[39m\u001b[38;5;124mgrnr\u001b[39m\u001b[38;5;124m\"\u001b[39m]\n\u001b[0;32m--> 255\u001b[0m np\u001b[38;5;241m.\u001b[39msave(\u001b[43mgrnr_file\u001b[49m, haloID)\n\u001b[1;32m    256\u001b[0m data_sub[\u001b[38;5;124m\"\u001b[39m\u001b[38;5;124mSubhaloPos\u001b[39m\u001b[38;5;124m\"\u001b[39m] \u001b[38;5;241m=\u001b[39m np\u001b[38;5;241m.\u001b[39marray([sub[\u001b[38;5;124mf\u001b[39m\u001b[38;5;124m\"\u001b[39m\u001b[38;5;124mpos_\u001b[39m\u001b[38;5;132;01m{\u001b[39;00max\u001b[38;5;132;01m}\u001b[39;00m\u001b[38;5;124m\"\u001b[39m] \u001b[38;5;28;01mfor\u001b[39;00m ax \u001b[38;5;129;01min\u001b[39;00m \u001b[38;5;124m\"\u001b[39m\u001b[38;5;124mxyz\u001b[39m\u001b[38;5;124m\"\u001b[39m])\n\u001b[1;32m    257\u001b[0m data_sub[\u001b[38;5;124m\"\u001b[39m\u001b[38;5;124mSubhaloVel\u001b[39m\u001b[38;5;124m\"\u001b[39m] \u001b[38;5;241m=\u001b[39m np\u001b[38;5;241m.\u001b[39marray([sub[\u001b[38;5;124mf\u001b[39m\u001b[38;5;124m\"\u001b[39m\u001b[38;5;124mvel_\u001b[39m\u001b[38;5;132;01m{\u001b[39;00max\u001b[38;5;132;01m}\u001b[39;00m\u001b[38;5;124m\"\u001b[39m] \u001b[38;5;28;01mfor\u001b[39;00m ax \u001b[38;5;129;01min\u001b[39;00m \u001b[38;5;124m\"\u001b[39m\u001b[38;5;124mxyz\u001b[39m\u001b[38;5;124m\"\u001b[39m])\n",
      "\u001b[0;31mUnboundLocalError\u001b[0m: local variable 'grnr_file' referenced before assignment"
     ]
    }
   ],
   "source": [
    "tng_source = TNGSource(\n",
    "    \"TNG50-1\",\n",
    "    99,\n",
    "    572840,\n",
    "    api_key=\"81b7c70637fa8b110e6b9f236ea07c37\",\n",
    ")\n",
    "tng_source.preview(fig=5)"
   ]
  },
  {
   "cell_type": "code",
   "execution_count": 25,
   "id": "4bda289e-3c20-4265-9d03-f798cb13ea4a",
   "metadata": {},
   "outputs": [
    {
     "ename": "NameError",
     "evalue": "name 'rot_mat_AM' is not defined",
     "output_type": "error",
     "traceback": [
      "\u001b[0;31m---------------------------------------------------------------------------\u001b[0m",
      "\u001b[0;31mNameError\u001b[0m                                 Traceback (most recent call last)",
      "Cell \u001b[0;32mIn[25], line 7\u001b[0m\n\u001b[1;32m      1\u001b[0m source \u001b[38;5;241m=\u001b[39m TNGSource(\n\u001b[1;32m      2\u001b[0m     \u001b[38;5;124m'\u001b[39m\u001b[38;5;124mTNG100-1\u001b[39m\u001b[38;5;124m'\u001b[39m,\n\u001b[1;32m      3\u001b[0m     \u001b[38;5;241m99\u001b[39m,\n\u001b[1;32m      4\u001b[0m     \u001b[38;5;28mint\u001b[39m(subID),\n\u001b[1;32m      5\u001b[0m     api_key\u001b[38;5;241m=\u001b[39m\u001b[38;5;124m'\u001b[39m\u001b[38;5;124m81b7c70637fa8b110e6b9f236ea07c37\u001b[39m\u001b[38;5;124m'\u001b[39m,\n\u001b[1;32m      6\u001b[0m     distance\u001b[38;5;241m=\u001b[39m\u001b[38;5;241m15\u001b[39m \u001b[38;5;241m*\u001b[39m U\u001b[38;5;241m.\u001b[39mMpc,\n\u001b[0;32m----> 7\u001b[0m     rotation\u001b[38;5;241m=\u001b[39m{\u001b[38;5;124m\"\u001b[39m\u001b[38;5;124mrotmat\u001b[39m\u001b[38;5;124m\"\u001b[39m: \u001b[43mrot_mat_AM\u001b[49m},\n\u001b[1;32m      8\u001b[0m     ra\u001b[38;5;241m=\u001b[39m\u001b[38;5;241m0.0\u001b[39m \u001b[38;5;241m*\u001b[39m U\u001b[38;5;241m.\u001b[39mdeg,\n\u001b[1;32m      9\u001b[0m     dec\u001b[38;5;241m=\u001b[39m\u001b[38;5;241m0.0\u001b[39m \u001b[38;5;241m*\u001b[39m U\u001b[38;5;241m.\u001b[39mdeg,\n\u001b[1;32m     10\u001b[0m )\n",
      "\u001b[0;31mNameError\u001b[0m: name 'rot_mat_AM' is not defined"
     ]
    }
   ],
   "source": [
    "source = TNGSource(\n",
    "    'TNG100-1',\n",
    "    99,\n",
    "    int(subID),\n",
    "    api_key='81b7c70637fa8b110e6b9f236ea07c37',\n",
    "    distance=15 * U.Mpc,\n",
    "    rotation={\"rotmat\": rot_mat_AM},\n",
    "    ra=0.0 * U.deg,\n",
    "    dec=0.0 * U.deg,\n",
    ")"
   ]
  },
  {
   "cell_type": "code",
   "execution_count": null,
   "id": "5e17e01c-1f00-461a-a543-58d8a782d853",
   "metadata": {},
   "outputs": [],
   "source": []
  }
 ],
 "metadata": {
  "kernelspec": {
   "display_name": "Python 3 (ipykernel)",
   "language": "python",
   "name": "python3"
  },
  "language_info": {
   "codemirror_mode": {
    "name": "ipython",
    "version": 3
   },
   "file_extension": ".py",
   "mimetype": "text/x-python",
   "name": "python",
   "nbconvert_exporter": "python",
   "pygments_lexer": "ipython3",
   "version": "3.9.20"
  }
 },
 "nbformat": 4,
 "nbformat_minor": 5
}
