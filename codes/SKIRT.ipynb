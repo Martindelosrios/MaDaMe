{
 "cells": [
  {
   "cell_type": "code",
   "execution_count": 1,
   "id": "8fd2998c-ba36-430e-8150-073e42847c93",
   "metadata": {},
   "outputs": [],
   "source": [
    "import numpy as np\n",
    "import os\n",
    "import h5py\n",
    "import matplotlib.pyplot as plt\n",
    "import matplotlib.image as mpimg\n",
    "#import warnings\n",
    "#import astropy.units as U\n",
    "#import astropy.constants as C\n",
    "#from scipy.spatial.transform import Rotation as R\n",
    "\n",
    "\n",
    "G     = 4.3e-6 # Grav. constant [kPc/M_{sun} (km/s)^2]\n",
    "H0    = 67.74 # Hubble Constant [km/s / Mpc]\n",
    "h     = H0 / 100 \n",
    "rho_c = 3*(H0**2)/(8*np.pi*G*1e-3) # Critical density [M_{sun}/Mpc**3]\n",
    "rho_c = rho_c * (1e-3 ** 3) #2.7754 * 1e2 * (H0/100)**2 # Critical density [M_{sun}/Kpc**3]\n",
    "Nfields = 9\n",
    "M_dm    = 7.5e6 # M_sun"
   ]
  },
  {
   "cell_type": "code",
   "execution_count": 2,
   "id": "1c0919ea-1467-4d82-b343-f0c91d07ada1",
   "metadata": {},
   "outputs": [],
   "source": [
    "#import illustris_python as il\n",
    "import pts.simulation as sm\n",
    "import pts.utils as ut\n",
    "import pts.visual as vis\n",
    "import pts.band as bd\n",
    "import pts.do"
   ]
  },
  {
   "cell_type": "code",
   "execution_count": 3,
   "id": "5c411bbb-952b-44f8-bbb5-45ae0ad5681c",
   "metadata": {
    "scrolled": true
   },
   "outputs": [
    {
     "name": "stdout",
     "output_type": "stream",
     "text": [
      "halo_0_gasCoord.txt\t\t   subhalo_17186_gasMetal.txt\n",
      "halo_0_gasHsml.txt\t\t   subhalo_17186_gasVels.txt\n",
      "halo_0_gasMasses.txt\t\t   subhalo_17186_starsCoord.txt\n",
      "halo_0_gasMetal.txt\t\t   subhalo_17186_starsHsml.txt\n",
      "halo_0_gasVels.txt\t\t   subhalo_17186_starsInitMass.txt\n",
      "halo_0_starsCoord.txt\t\t   subhalo_17186_starsMasses.txt\n",
      "halo_0_starsHsml.txt\t\t   subhalo_17186_starsMetal.txt\n",
      "halo_0_starsInitMass.txt\t   subhalo_17186_starsSFT.txt\n",
      "halo_0_starsMasses.txt\t\t   subhalo_17186_starsVels.txt\n",
      "halo_0_starsMetal.txt\t\t   subhalo_1_gasCoord.txt\n",
      "halo_0_starsSFT.txt\t\t   subhalo_1_gasDens.txt\n",
      "halo_0_starsVels.txt\t\t   subhalo_1_gasHsml.txt\n",
      "halo_0subhalo_1_gasCoord.txt\t   subhalo_1_gasMasses.txt\n",
      "halo_0subhalo_1_gasHsml.txt\t   subhalo_1_gasMetal.txt\n",
      "halo_0subhalo_1_gasMasses.txt\t   subhalo_1_gasVels.txt\n",
      "halo_0subhalo_1_gasMetal.txt\t   subhalo_1_starsCoord.txt\n",
      "halo_0subhalo_1_gasVels.txt\t   subhalo_1_starsHsml.txt\n",
      "halo_0subhalo_1_starsCoord.txt\t   subhalo_1_starsInitMass.txt\n",
      "halo_0subhalo_1_starsHsml.txt\t   subhalo_1_starsMasses.txt\n",
      "halo_0subhalo_1_starsInitMass.txt  subhalo_1_starsMetal.txt\n",
      "halo_0subhalo_1_starsMasses.txt    subhalo_1_starsSFT.txt\n",
      "halo_0subhalo_1_starsMetal.txt\t   subhalo_1_starsVels.txt\n",
      "halo_0subhalo_1_starsSFT.txt\t   subhalo_2_gasCoord.txt\n",
      "halo_0subhalo_1_starsVels.txt\t   subhalo_2_gasDens.txt\n",
      "halo_0subhalo_2_gasCoord.txt\t   subhalo_2_gasHsml.txt\n",
      "halo_0subhalo_2_gasHsml.txt\t   subhalo_2_gasMasses.txt\n",
      "halo_0subhalo_2_gasMasses.txt\t   subhalo_2_gasMetal.txt\n",
      "halo_0subhalo_2_gasMetal.txt\t   subhalo_2_gasVels.txt\n",
      "halo_0subhalo_2_gasVels.txt\t   subhalo_2_starsCoord.txt\n",
      "halo_0subhalo_2_starsCoord.txt\t   subhalo_2_starsHsml.txt\n",
      "halo_0subhalo_2_starsHsml.txt\t   subhalo_2_starsInitMass.txt\n",
      "halo_0subhalo_2_starsInitMass.txt  subhalo_2_starsMasses.txt\n",
      "halo_0subhalo_2_starsMasses.txt    subhalo_2_starsMetal.txt\n",
      "halo_0subhalo_2_starsMetal.txt\t   subhalo_2_starsSFT.txt\n",
      "halo_0subhalo_2_starsSFT.txt\t   subhalo_2_starsVels.txt\n",
      "halo_0subhalo_2_starsVels.txt\t   subhalo_32_gasCoord.txt\n",
      "halo_0subhalo_3_gasCoord.txt\t   subhalo_32_gasDens.txt\n",
      "halo_0subhalo_3_gasHsml.txt\t   subhalo_32_gasHsml.txt\n",
      "halo_0subhalo_3_gasMasses.txt\t   subhalo_32_gasMasses.txt\n",
      "halo_0subhalo_3_gasMetal.txt\t   subhalo_32_gasMetal.txt\n",
      "halo_0subhalo_3_gasVels.txt\t   subhalo_32_gasVels.txt\n",
      "halo_0subhalo_3_starsCoord.txt\t   subhalo_32_starsCoord.txt\n",
      "halo_0subhalo_3_starsHsml.txt\t   subhalo_32_starsHsml.txt\n",
      "halo_0subhalo_3_starsInitMass.txt  subhalo_32_starsInitMass.txt\n",
      "halo_0subhalo_3_starsMasses.txt    subhalo_32_starsMasses.txt\n",
      "halo_0subhalo_3_starsMetal.txt\t   subhalo_32_starsMetal.txt\n",
      "halo_0subhalo_3_starsSFT.txt\t   subhalo_32_starsSFT.txt\n",
      "halo_0subhalo_3_starsVels.txt\t   subhalo_32_starsVels.txt\n",
      "halo_0subhalo_4_gasCoord.txt\t   subhalo_36_gasCoord.txt\n",
      "halo_0subhalo_4_gasHsml.txt\t   subhalo_36_gasDens.txt\n",
      "halo_0subhalo_4_gasMasses.txt\t   subhalo_36_gasHsml.txt\n",
      "halo_0subhalo_4_gasMetal.txt\t   subhalo_36_gasMasses.txt\n",
      "halo_0subhalo_4_gasVels.txt\t   subhalo_36_gasMetal.txt\n",
      "halo_0subhalo_4_starsCoord.txt\t   subhalo_36_gasVels.txt\n",
      "halo_0subhalo_4_starsHsml.txt\t   subhalo_36_starsCoord.txt\n",
      "halo_0subhalo_4_starsInitMass.txt  subhalo_36_starsHsml.txt\n",
      "halo_0subhalo_4_starsMasses.txt    subhalo_36_starsInitMass.txt\n",
      "halo_0subhalo_4_starsMetal.txt\t   subhalo_36_starsMasses.txt\n",
      "halo_0subhalo_4_starsSFT.txt\t   subhalo_36_starsMetal.txt\n",
      "halo_0subhalo_4_starsVels.txt\t   subhalo_36_starsSFT.txt\n",
      "halo_0subhalo_5_gasCoord.txt\t   subhalo_36_starsVels.txt\n",
      "halo_0subhalo_5_gasHsml.txt\t   subhalo_38_gasCoord.txt\n",
      "halo_0subhalo_5_gasMasses.txt\t   subhalo_38_gasDens.txt\n",
      "halo_0subhalo_5_gasMetal.txt\t   subhalo_38_gasHsml.txt\n",
      "halo_0subhalo_5_gasVels.txt\t   subhalo_38_gasMasses.txt\n",
      "halo_0subhalo_5_starsCoord.txt\t   subhalo_38_gasMetal.txt\n",
      "halo_0subhalo_5_starsHsml.txt\t   subhalo_38_gasVels.txt\n",
      "halo_0subhalo_5_starsInitMass.txt  subhalo_38_starsCoord.txt\n",
      "halo_0subhalo_5_starsMasses.txt    subhalo_38_starsHsml.txt\n",
      "halo_0subhalo_5_starsMetal.txt\t   subhalo_38_starsInitMass.txt\n",
      "halo_0subhalo_5_starsSFT.txt\t   subhalo_38_starsMasses.txt\n",
      "halo_0subhalo_5_starsVels.txt\t   subhalo_38_starsMetal.txt\n",
      "halo_1_gasCoord.txt\t\t   subhalo_38_starsSFT.txt\n",
      "halo_1_gasHsml.txt\t\t   subhalo_38_starsVels.txt\n",
      "halo_1_gasMasses.txt\t\t   subhalo_3_gasCoord.txt\n",
      "halo_1_gasMetal.txt\t\t   subhalo_3_gasDens.txt\n",
      "halo_1_gasVels.txt\t\t   subhalo_3_gasHsml.txt\n",
      "halo_1_starsCoord.txt\t\t   subhalo_3_gasMasses.txt\n",
      "halo_1_starsHsml.txt\t\t   subhalo_3_gasMetal.txt\n",
      "halo_1_starsInitMass.txt\t   subhalo_3_gasVels.txt\n",
      "halo_1_starsMasses.txt\t\t   subhalo_3_starsCoord.txt\n",
      "halo_1_starsMetal.txt\t\t   subhalo_3_starsHsml.txt\n",
      "halo_1_starsSFT.txt\t\t   subhalo_3_starsInitMass.txt\n",
      "halo_1_starsVels.txt\t\t   subhalo_3_starsMasses.txt\n",
      "halo_31_gasCoord.txt\t\t   subhalo_3_starsMetal.txt\n",
      "halo_31_gasHsml.txt\t\t   subhalo_3_starsSFT.txt\n",
      "halo_31_gasMasses.txt\t\t   subhalo_3_starsVels.txt\n",
      "halo_31_gasMetal.txt\t\t   subhalo_4_gasCoord.txt\n",
      "halo_31_gasVels.txt\t\t   subhalo_4_gasDens.txt\n",
      "halo_31_starsCoord.txt\t\t   subhalo_4_gasHsml.txt\n",
      "halo_31_starsHsml.txt\t\t   subhalo_4_gasMasses.txt\n",
      "halo_31_starsInitMass.txt\t   subhalo_4_gasMetal.txt\n",
      "halo_31_starsMasses.txt\t\t   subhalo_4_gasVels.txt\n",
      "halo_31_starsMetal.txt\t\t   subhalo_4_starsCoord.txt\n",
      "halo_31_starsSFT.txt\t\t   subhalo_4_starsHsml.txt\n",
      "halo_31_starsVels.txt\t\t   subhalo_4_starsInitMass.txt\n",
      "subhalo_165727_gasCoord.txt\t   subhalo_4_starsMasses.txt\n",
      "subhalo_165727_gasDens.txt\t   subhalo_4_starsMetal.txt\n",
      "subhalo_165727_gasHsml.txt\t   subhalo_4_starsSFT.txt\n",
      "subhalo_165727_gasMasses.txt\t   subhalo_4_starsVels.txt\n",
      "subhalo_165727_gasMetal.txt\t   subhalo_52_gasCoord.txt\n",
      "subhalo_165727_gasVels.txt\t   subhalo_52_gasDens.txt\n",
      "subhalo_165727_starsCoord.txt\t   subhalo_52_gasHsml.txt\n",
      "subhalo_165727_starsHsml.txt\t   subhalo_52_gasMasses.txt\n",
      "subhalo_165727_starsInitMass.txt   subhalo_52_gasMetal.txt\n",
      "subhalo_165727_starsMasses.txt\t   subhalo_52_gasVels.txt\n",
      "subhalo_165727_starsMetal.txt\t   subhalo_52_starsCoord.txt\n",
      "subhalo_165727_starsSFT.txt\t   subhalo_52_starsHsml.txt\n",
      "subhalo_165727_starsVels.txt\t   subhalo_52_starsInitMass.txt\n",
      "subhalo_165728_gasCoord.txt\t   subhalo_52_starsMasses.txt\n",
      "subhalo_165728_gasDens.txt\t   subhalo_52_starsMetal.txt\n",
      "subhalo_165728_gasHsml.txt\t   subhalo_52_starsSFT.txt\n",
      "subhalo_165728_gasMasses.txt\t   subhalo_52_starsVels.txt\n",
      "subhalo_165728_gasMetal.txt\t   subhalo_5_gasCoord.txt\n",
      "subhalo_165728_gasVels.txt\t   subhalo_5_gasDens.txt\n",
      "subhalo_165728_starsCoord.txt\t   subhalo_5_gasHsml.txt\n",
      "subhalo_165728_starsHsml.txt\t   subhalo_5_gasMasses.txt\n",
      "subhalo_165728_starsInitMass.txt   subhalo_5_gasMetal.txt\n",
      "subhalo_165728_starsMasses.txt\t   subhalo_5_gasVels.txt\n",
      "subhalo_165728_starsMetal.txt\t   subhalo_5_starsCoord.txt\n",
      "subhalo_165728_starsSFT.txt\t   subhalo_5_starsHsml.txt\n",
      "subhalo_165728_starsVels.txt\t   subhalo_5_starsInitMass.txt\n",
      "subhalo_17186_gasCoord.txt\t   subhalo_5_starsMasses.txt\n",
      "subhalo_17186_gasDens.txt\t   subhalo_5_starsMetal.txt\n",
      "subhalo_17186_gasHsml.txt\t   subhalo_5_starsSFT.txt\n",
      "subhalo_17186_gasMasses.txt\t   subhalo_5_starsVels.txt\n"
     ]
    }
   ],
   "source": [
    "!ls ../data/particles/"
   ]
  },
  {
   "cell_type": "code",
   "execution_count": 3,
   "id": "3eba37de-af57-4475-a579-3ce317ae3277",
   "metadata": {},
   "outputs": [],
   "source": [
    "data = h5py.File('../data/gals_properties.h5', 'a')"
   ]
  },
  {
   "cell_type": "code",
   "execution_count": 18,
   "id": "18a95a1e-243b-4b24-ba13-b912456161c8",
   "metadata": {},
   "outputs": [
    {
     "data": {
      "text/plain": [
       "(1, 17)"
      ]
     },
     "execution_count": 18,
     "metadata": {},
     "output_type": "execute_result"
    }
   ],
   "source": [
    "data['MainProps'][()].shape"
   ]
  },
  {
   "cell_type": "code",
   "execution_count": 4,
   "id": "65671860-fae3-4514-aa34-85019afd281e",
   "metadata": {},
   "outputs": [],
   "source": [
    "subIds = list(data.keys())[1:]"
   ]
  },
  {
   "cell_type": "code",
   "execution_count": 5,
   "id": "57e0eb1b-7f65-46a8-a4ac-782e27492bfa",
   "metadata": {},
   "outputs": [
    {
     "data": {
      "text/plain": [
       "'1'"
      ]
     },
     "execution_count": 5,
     "metadata": {},
     "output_type": "execute_result"
    }
   ],
   "source": [
    "subIds[0][6:]"
   ]
  },
  {
   "cell_type": "code",
   "execution_count": 6,
   "id": "80b92949-6a02-4e76-9a7f-dae6b8578caf",
   "metadata": {},
   "outputs": [],
   "source": [
    "subID = subIds[4][6:]\n",
    "try:\n",
    "    folder = '../data/TNGgalaxies/' + str(subID)\n",
    "    os.mkdir(folder)\n",
    "except:\n",
    "    pass"
   ]
  },
  {
   "cell_type": "code",
   "execution_count": 7,
   "id": "db6a4fbe-4863-409a-a986-342885096fae",
   "metadata": {},
   "outputs": [],
   "source": [
    "particles = np.loadtxt('../data/particles/subhalo_' + str(subID) + '_starsCoord.txt') / h # [kPc]\n",
    "npart = len(particles)\n",
    "\n",
    "aux = np.loadtxt('../data/particles/subhalo_' + str(subID) + '_starsHsml.txt') / h # Hsml [kPc]\n",
    "particles = np.hstack((particles, aux.reshape(npart, 1)))\n",
    "\n",
    "aux = np.loadtxt('../data/particles/subhalo_' + str(subID) + '_starsVels.txt') # Vels [km sqrt(a)/s]\n",
    "particles = np.hstack((particles, aux))\n",
    "\n",
    "aux = np.loadtxt('../data/particles/subhalo_' + str(subID) + '_starsInitMass.txt') * (1e10) / h # [Msun]\n",
    "particles = np.hstack((particles, aux.reshape(npart, 1)))\n",
    "\n",
    "aux = np.loadtxt('../data/particles/subhalo_' + str(subID) + '_starsMetal.txt')\n",
    "particles = np.hstack((particles, aux.reshape(npart, 1)))\n",
    "\n",
    "stars_SFT = np.loadtxt('../data/particles/subhalo_' + str(subID) + '_starsSFT.txt')\n",
    "\n",
    "stars_t0 = 13.8 * (1. - stars_SFT**1.5) + 1e-6\n",
    "\n",
    "particles = np.hstack((particles, stars_t0.reshape(npart, 1)))"
   ]
  },
  {
   "cell_type": "code",
   "execution_count": 65,
   "id": "dad03e96-1ddc-4d0a-873f-3789ebe5152a",
   "metadata": {},
   "outputs": [],
   "source": [
    "# Discard wind particles (definition from illustris documentation: \n",
    "#      https://www.tng-project.org/data/docs/specifications/#parttype0\n",
    "\n",
    "ind_wind = np.where(stars_SFT <= 0)[0]\n",
    "if len(ind_wind) > 0:\n",
    "    particles = np.delete(particles, ind_wind, axis=0)\n",
    "\n",
    "# Transform data to be center on the Center of Mass of the cluster, and rotate to be edge-on\n",
    "#.\n",
    "#.\n",
    "#.\n",
    "#.\n",
    "\n",
    "# Discard particles outside certain radii\n",
    "#.\n",
    "#.\n",
    "#.\n",
    "#.\n",
    "\n",
    "# Separare old from young stars:\n",
    "\n",
    "# from where do we get this formula???\n",
    "\n",
    "# from where do we get this condition???\n",
    "\n",
    "ind_old = np.where(particles[:,9] > 1e-2)[0]\n",
    "ind_new = np.where(particles[:,9] <= 1e-2)[0]\n",
    "\n",
    "particles_old = particles[ind_old]\n",
    "particles = particles[ind_new]\n",
    "\n",
    "if len(ind_old) > 0:\n",
    "    stars_old_header = ' Stellar particles for IllustrisTNG 100-1 subhaloID=' + str(subID) + ' \\n SKIRT 9 import format for a particle source with the Bruzual Charlot SED family \\n Column 1: x-coordinate (kpc) \\n Column 2: y-coordinate (kpc) \\n Column 3: z-coordinate (kpc) \\n Column 4: particle smoothing length (kpc) \\n Column 5: x-velocity (km/s) \\n Column 6: y-velocity (km/s) \\n Column 7: z-velocity (km/s) \\n Column 8: initial mass (Msun) \\n Column 9: metallicity (1) \\n Column 10: age (Gyr) \\n'\n",
    "    #stars_old_header = ' Stellar particles for IllustrisTNG 100-1 subhaloID=' + str(subID) +  \\\n",
    "    #                   ' \\n SKIRT 9 import format for a particle source with the Bruzual Charlot SED family' + \\\n",
    "    #                   '\\n Column 1: x-coordinate (kpc) \\n Column 2: y-coordinate (kpc) \\n Column 3: z-coordinate (kpc)' + \\\n",
    "    #                   '\\n Column 4: particle smoothing length (kpc)' +  \\\n",
    "    #                   '\\n Column 8: initial mass (Msun) \\n Column 9: metallicity (1) \\n Column 10: age (Gyr) \\n'\n",
    "    np.savetxt(folder + '/stars_old_v.txt', particles_old, header = stars_old_header)\n",
    "    \n",
    "if len(ind_new) > 0:\n",
    "    log10C = np.repeat(5, len(ind_new)).reshape(len(ind_new),1)\n",
    "    P = np.repeat(0.1, len(ind_new)).reshape(len(ind_new),1)\n",
    "    ccf = np.repeat(0.2, len(ind_new)).reshape(len(ind_new),1)\n",
    "    particles[:,7] = particles[:,7] / particles[:,9] * 1e9 # I dont know why we do this\n",
    "    \n",
    "    particles = np.hstack((particles, log10C, P, ccf))\n",
    "    stars_sb_header = ' Stellar particles for IllustrisTNG 100-1 subhaloID=' + str(subID) + ' \\n SKIRT 9 import format for a particle source with the Bruzual Charlot SED family \\n Column 1: x-coordinate (kpc) \\n Column 2: y-coordinate (kpc) \\n Column 3: z-coordinate (kpc) \\n Column 4: particle smoothing length (kpc) \\n Column 5: x-velocity (km/s) \\n Column 6: y-velocity (km/s) \\n Column 7: z-velocity (km/s) \\n Column 8: star formation rate (Msun/yr) \\n Column 9: metallicity (1) \\n Column 10: compactness (1) \\n Column 11: pressure (K/m3) \\n Column 12: cloud covering fraction (1) \\n'\n",
    "\n",
    "    np.savetxt(folder + '/stars_sb_v.txt', particles, header = stars_sb_header)"
   ]
  },
  {
   "cell_type": "code",
   "execution_count": 66,
   "id": "61beb823-f4ad-47e2-8424-e4df6fc92a21",
   "metadata": {},
   "outputs": [],
   "source": [
    "particles = np.loadtxt('../data/particles/subhalo_' + str(subID) + '_gasCoord.txt') / h # [kPc]\n",
    "npart = len(particles)\n",
    "\n",
    "aux = np.loadtxt('../data/particles/subhalo_' + str(subID) + '_gasDens.txt') * (1e10) * (h**2) # [Msun / kPc^3]\n",
    "particles = np.hstack((particles, aux.reshape(npart, 1)))\n",
    "\n",
    "aux = np.loadtxt('../data/particles/subhalo_' + str(subID) + '_gasMetal.txt')\n",
    "particles = np.hstack((particles, aux.reshape(npart, 1)))\n",
    "\n",
    "aux = np.loadtxt('../data/particles/subhalo_' + str(subID) + '_gasVels.txt') # Vels [km sqrt(a)/s]\n",
    "particles = np.hstack((particles, aux))\n",
    "\n",
    "#stars_SFT = np.loadtxt('../data/particles/subhalo_' + str(subID) + '_gasSFT.txt')\n",
    "\n",
    "#aux = np.loadtxt('../data/particles/subhalo_' + str(subID) + '_gasHsml.txt') / h # Hsml [kPc]\n",
    "#particles = np.hstack((particles, aux.reshape(npart, 1)))\n",
    "\n",
    "# Let's save the data\n",
    "particles[:,3] = particles[:,3] * 1e-9 # Convert to [M_sun / Pc^3]\n",
    "gas_header = ' Gas particles for IllustrisTNG 100-1 subhaloID=' + str(subID) + ' \\n SKIRT 9 import format for a medium source using M_dust = f_dust x Z x M_gas \\n Column 1: x-coordinate (kpc) \\n Column 2: y-coordinate (kpc) \\n Column 3: z-coordinate (kpc) \\n Column 4: gas mass volume density (Msun/pc3) \\n Column 5: metallicity (1) \\n Column 6: x-velocity (km/s) \\n Column 7: y-velocity (km/s) \\n Column 8: z-velocity (km/s) \\n '\n",
    "np.savetxt(folder + '/gas_v.txt', particles, header = gas_header)\n",
    "  "
   ]
  },
  {
   "cell_type": "code",
   "execution_count": 81,
   "id": "5fd4e3f9-d3c7-4d08-a377-65f62b68a84a",
   "metadata": {},
   "outputs": [
    {
     "data": {
      "text/plain": [
       "25016.385945252052"
      ]
     },
     "execution_count": 81,
     "metadata": {},
     "output_type": "execute_result"
    }
   ],
   "source": [
    "FoV_phys"
   ]
  },
  {
   "cell_type": "code",
   "execution_count": 100,
   "id": "e00f9408-5c97-49c2-ac5c-4c25e8782a5b",
   "metadata": {},
   "outputs": [
    {
     "name": "stdout",
     "output_type": "stream",
     "text": [
      "Rmax:  0\n"
     ]
    }
   ],
   "source": [
    "n_px = 128 # Number of pixels\n",
    "D = 15 # Distance to galaxy [Mpc]\n",
    "FoV = 17.2 # Field of view [minutes]\n",
    "px_s = 17.2 / n_px # Pixel size [minutes] \n",
    "FoV_phys = FoV * (1/60) * (np.pi / 180) * D * 1e6 # physical distance at observer [Pc]\n",
    "Rmax = int(0.5 * n_px * D * 1e3 * px_s * 4.848e-6)\n",
    "print(\"Rmax: \", Rmax)\n",
    "#self.get_data(subID, snapID, rot, folder, Rmax)\n",
    "Rframe = Rmax * 1e3 # [Pc]\n",
    "#Rsource1 = 0.5 * Rframe\n",
    "#Rsource2 = 0.1 * Rframe\n",
    "Rmedium = FoV_phys#0.5 * Rframe * 1e6 # pc\n",
    "Rgrid = 0.5 * Rframe\n",
    "#print(Rmax)\n",
    "#Rmax = 14.961969356639141\n",
    "#Rmax = 0.5 * Rframe\n",
    "#Rsource1 = Rmax\n",
    "#Rsource2 = Rmax\n",
    "#Rmedium = Rmax\n",
    "#Rgrid = Rmax\n",
    "\n",
    "skifile = sm.SkiFile('template.ski')\n",
    "#skifile = sm.SkiFile('template_sb-sph.ski')\n",
    "##skifile.setStringAttribute('.//VoronoiMeshSource', 'minX', str(-Rsource1) + ' pc')\n",
    "##skifile.setStringAttribute('.//VoronoiMeshSource', 'maxX', str(Rsource1) + ' pc')\n",
    "##skifile.setStringAttribute('.//VoronoiMeshSource', 'minY', str(-Rsource1) + ' pc')\n",
    "##skifile.setStringAttribute('.//VoronoiMeshSource', 'maxY', str(Rsource1) + ' pc')\n",
    "##skifile.setStringAttribute('.//VoronoiMeshSource', 'minZ', str(-Rsource1) + ' pc')\n",
    "##skifile.setStringAttribute('.//VoronoiMeshSource', 'maxZ', str(Rsource1) + ' pc')\n",
    "\n",
    "#skifile.setStringAttribute('(.//VoronoiMeshSource)[1]', 'minX', str(-Rsource1) + ' pc')\n",
    "#skifile.setStringAttribute('(.//VoronoiMeshSource)[1]', 'maxX', str(Rsource1) + ' pc')\n",
    "#skifile.setStringAttribute('(.//VoronoiMeshSource)[1]', 'minY', str(-Rsource1) + ' pc')\n",
    "#skifile.setStringAttribute('(.//VoronoiMeshSource)[1]', 'maxY', str(Rsource1) + ' pc')\n",
    "#skifile.setStringAttribute('(.//VoronoiMeshSource)[1]', 'minZ', str(-Rsource1) + ' pc')\n",
    "#skifile.setStringAttribute('(.//VoronoiMeshSource)[1]', 'maxZ', str(Rsource1) + ' pc')\n",
    "\n",
    "#skifile.setStringAttribute('(.//VoronoiMeshSource)[2]', 'minX', str(-Rsource2) + ' pc')\n",
    "#skifile.setStringAttribute('(.//VoronoiMeshSource)[2]', 'maxX', str(Rsource2) + ' pc')\n",
    "#skifile.setStringAttribute('(.//VoronoiMeshSource)[2]', 'minY', str(-Rsource2) + ' pc')\n",
    "#skifile.setStringAttribute('(.//VoronoiMeshSource)[2]', 'maxY', str(Rsource2) + ' pc')\n",
    "#skifile.setStringAttribute('(.//VoronoiMeshSource)[2]', 'minZ', str(-Rsource2) + ' pc')\n",
    "#skifile.setStringAttribute('(.//VoronoiMeshSource)[2]', 'maxZ', str(Rsource2) + ' pc')\n",
    "\n",
    "skifile.setStringAttribute('.//ParticleSource', 'filename', 'stars_old_v.txt')\n",
    "skifile.setStringAttribute('.//VoronoiMeshMedium', 'filename', 'gas_v.txt')\n",
    "\n",
    "skifile.setStringAttribute('.//VoronoiMeshMedium', 'minX', str(-Rmedium) + ' pc')\n",
    "skifile.setStringAttribute('.//VoronoiMeshMedium', 'maxX', str(Rmedium) + ' pc')\n",
    "skifile.setStringAttribute('.//VoronoiMeshMedium', 'minY', str(-Rmedium) + ' pc')\n",
    "skifile.setStringAttribute('.//VoronoiMeshMedium', 'maxY', str(Rmedium) + ' pc')\n",
    "skifile.setStringAttribute('.//VoronoiMeshMedium', 'minZ', str(-Rmedium) + ' pc')\n",
    "skifile.setStringAttribute('.//VoronoiMeshMedium', 'maxZ', str(Rmedium) + ' pc')\n",
    "\n",
    "#skifile.setStringAttribute('.//VoronoiMeshSpatialGrid', 'minX', str(-Rgrid) + ' pc')\n",
    "#skifile.setStringAttribute('.//VoronoiMeshSpatialGrid', 'maxX', str(Rgrid) + ' pc')\n",
    "#skifile.setStringAttribute('.//VoronoiMeshSpatialGrid', 'minY', str(-Rgrid) + ' pc')\n",
    "#skifile.setStringAttribute('.//VoronoiMeshSpatialGrid', 'maxY', str(Rgrid) + ' pc')\n",
    "#skifile.setStringAttribute('.//VoronoiMeshSpatialGrid', 'minZ', str(-Rgrid) + ' pc')\n",
    "#skifile.setStringAttribute('.//VoronoiMeshSpatialGrid', 'maxZ', str(Rgrid) + ' pc')\n",
    "\n",
    "skifile.setNumPrimaryPackets(2e7)\n",
    "skifile.setStringAttribute('.//FrameInstrument', 'distance', str(D) + ' Mpc')\n",
    "skifile.setStringAttribute('.//FrameInstrument', 'inclination', '90 deg')\n",
    "skifile.setStringAttribute('.//FrameInstrument', 'azimuth', '180 deg')\n",
    "skifile.setStringAttribute('.//FrameInstrument', 'numPixelsX', str(n_px))\n",
    "skifile.setStringAttribute('.//FrameInstrument', 'numPixelsY', str(n_px))\n",
    "skifile.setStringAttribute('.//FrameInstrument', 'fieldOfViewX', str(100000) + ' pc')\n",
    "skifile.setStringAttribute('.//FrameInstrument', 'fieldOfViewY', str(100000) + ' pc')\n",
    "\n",
    "skifile.saveTo(folder + '/galaxy.ski')"
   ]
  },
  {
   "cell_type": "code",
   "execution_count": 101,
   "id": "04085a29-22b8-43e1-94e0-19286b0e4a1c",
   "metadata": {},
   "outputs": [
    {
     "name": "stdout",
     "output_type": "stream",
     "text": [
      "30/10/2024 14:56:40.699   Welcome to SKIRT v9.0 (git 8765014 built on 23/10/2024 at 17:15:30)\n",
      "30/10/2024 14:56:40.699   Running on coglians.phys.sissa.it for mdelosri\n",
      "30/10/2024 14:56:40.701   Constructing a simulation from ski file '/u/m/mdelosri/MaDaMe/data/TNGgalaxies/5/galaxy.ski'...\n",
      "\u001b[32m30/10/2024 14:57:04.342 - Finished setup in 23.5 s.\n",
      "\u001b[0m\u001b[32m30/10/2024 14:57:04.342 - Finished setup output in 0.0 s.\n",
      "\u001b[0m\u001b[32m30/10/2024 14:57:23.133 - Finished primary emission in 18.8 s.\n",
      "\u001b[0m\u001b[32m30/10/2024 14:57:30.090 - Finished secondary emission in 7.0 s.\n",
      "\u001b[0m\u001b[32m30/10/2024 14:57:30.090 - Finished the run in 25.7 s.\n",
      "\u001b[0m\u001b[32m30/10/2024 14:57:34.747 - Finished final output in 4.7 s.\n",
      "\u001b[0m\u001b[32m30/10/2024 14:57:34.747 - Finished simulation galaxy using 4 threads and a single process in 53.9 s.\n",
      "\u001b[0m30/10/2024 14:57:34.787   Available memory: 125 GB -- Peak memory usage: 934 MB (0.7%)\n"
     ]
    }
   ],
   "source": [
    "skirt = sm.Skirt()\n",
    "simulation = skirt.execute(folder + '/galaxy.ski', inDirPath=folder, outDirPath=folder, numThreadsPerProcess=4, console='brief') #brief"
   ]
  },
  {
   "cell_type": "code",
   "execution_count": 102,
   "id": "625041dc-4a9f-49bd-b55a-1beb3328abff",
   "metadata": {},
   "outputs": [],
   "source": [
    "SDSS_U = bd.BroadBand('/u/m/mdelosri/SKIRT/resources/SKIRT9_Resources_Core/Band/SLOAN_SDSS_U_BroadBand.stab')\n",
    "SDSS_G = bd.BroadBand('/u/m/mdelosri/SKIRT/resources/SKIRT9_Resources_Core/Band/SLOAN_SDSS_G_BroadBand.stab')\n",
    "SDSS_R = bd.BroadBand('/u/m/mdelosri/SKIRT/resources/SKIRT9_Resources_Core/Band/SLOAN_SDSS_R_BroadBand.stab')\n",
    "SDSS_I = bd.BroadBand('/u/m/mdelosri/SKIRT/resources/SKIRT9_Resources_Core/Band/SLOAN_SDSS_I_BroadBand.stab')\n",
    "SDSS_Z = bd.BroadBand('/u/m/mdelosri/SKIRT/resources/SKIRT9_Resources_Core/Band/SLOAN_SDSS_Z_BroadBand.stab')\n"
   ]
  },
  {
   "cell_type": "code",
   "execution_count": 103,
   "id": "1cb6adb8-6427-4565-aa7e-44202f172e71",
   "metadata": {},
   "outputs": [
    {
     "data": {
      "text/plain": [
       "(<Quantity 1.e-05 MJy / sr>, <Quantity 1000. MJy / sr>)"
      ]
     },
     "execution_count": 103,
     "metadata": {},
     "output_type": "execute_result"
    }
   ],
   "source": [
    "vis.makergbimages.makeConvolvedRGBImages(simulation, name='SDSS_U', contributions=[[SDSS_U, 1., 0, 0], [SDSS_U, 0, 1., 0],[SDSS_U, 0, 0, 1.]], fmin=1e-5, fmax=1e3)\n",
    "vis.makergbimages.makeConvolvedRGBImages(simulation, name='SDSS_G', contributions=[[SDSS_G, 1., 0, 0], [SDSS_G, 0, 1., 0],[SDSS_G, 0, 0, 1.]], fmin=1e-5, fmax=1e3)\n",
    "vis.makergbimages.makeConvolvedRGBImages(simulation, name='SDSS_R', contributions=[[SDSS_R, 1., 0, 0], [SDSS_R, 0, 1., 0],[SDSS_R, 0, 0, 1.]], fmin=1e-5, fmax=1e3)\n",
    "vis.makergbimages.makeConvolvedRGBImages(simulation, name='SDSS_I', contributions=[[SDSS_I, 1., 0, 0], [SDSS_I, 0, 1., 0],[SDSS_I, 0, 0, 1.]], fmin=1e-5, fmax=1e3)\n",
    "vis.makergbimages.makeConvolvedRGBImages(simulation, name='SDSS_Z', contributions=[[SDSS_Z, 1., 0, 0], [SDSS_Z, 0, 1., 0],[SDSS_Z, 0, 0, 1.]], fmin=1e-5, fmax=1e3)\n"
   ]
  },
  {
   "cell_type": "code",
   "execution_count": 104,
   "id": "990a78db-6eec-4c53-8354-35c73fb60bae",
   "metadata": {},
   "outputs": [
    {
     "data": {
      "text/plain": [
       "'../data/TNGgalaxies/5'"
      ]
     },
     "execution_count": 104,
     "metadata": {},
     "output_type": "execute_result"
    }
   ],
   "source": [
    "folder"
   ]
  },
  {
   "cell_type": "code",
   "execution_count": 93,
   "id": "7de69cf9-ecc4-43a5-b323-08e909479e1d",
   "metadata": {},
   "outputs": [
    {
     "data": {
      "text/plain": [
       "<matplotlib.image.AxesImage at 0x7f950ec065e0>"
      ]
     },
     "execution_count": 93,
     "metadata": {},
     "output_type": "execute_result"
    },
    {
     "data": {
      "image/png": "[encoded data removed]",
      "text/plain": [
       "<Figure size 640x480 with 5 Axes>"
      ]
     },
     "metadata": {},
     "output_type": "display_data"
    }
   ],
   "source": [
    "# Load the image\n",
    "imgU = mpimg.imread(folder + \"/galaxy_cube_total_SDSS_U.png\")\n",
    "imgG = mpimg.imread(folder + \"/galaxy_cube_total_SDSS_G.png\")\n",
    "imgR = mpimg.imread(folder + \"/galaxy_cube_total_SDSS_R.png\")\n",
    "imgI = mpimg.imread(folder + \"/galaxy_cube_total_SDSS_I.png\")\n",
    "imgZ = mpimg.imread(folder + \"/galaxy_cube_total_SDSS_Z.png\")\n",
    "\n",
    "# Display the image\n",
    "fig,ax = plt.subplots(1,5)\n",
    "ax[0].imshow(imgU)\n",
    "ax[1].imshow(imgG)\n",
    "ax[2].imshow(imgR)\n",
    "ax[3].imshow(imgI)\n",
    "ax[4].imshow(imgZ)"
   ]
  },
  {
   "cell_type": "code",
   "execution_count": 105,
   "id": "b0646289-43b4-4516-9ba7-29a758956e68",
   "metadata": {},
   "outputs": [
    {
     "data": {
      "text/plain": [
       "<matplotlib.image.AxesImage at 0x7f950e8dca30>"
      ]
     },
     "execution_count": 105,
     "metadata": {},
     "output_type": "execute_result"
    },
    {
     "data": {
      "image/png": "[encoded data removed]",
      "text/plain": [
       "<Figure size 640x480 with 5 Axes>"
      ]
     },
     "metadata": {},
     "output_type": "display_data"
    }
   ],
   "source": [
    "# Load the image\n",
    "imgU = mpimg.imread(folder + \"/galaxy_cube_total_SDSS_U.png\")\n",
    "imgG = mpimg.imread(folder + \"/galaxy_cube_total_SDSS_G.png\")\n",
    "imgR = mpimg.imread(folder + \"/galaxy_cube_total_SDSS_R.png\")\n",
    "imgI = mpimg.imread(folder + \"/galaxy_cube_total_SDSS_I.png\")\n",
    "imgZ = mpimg.imread(folder + \"/galaxy_cube_total_SDSS_Z.png\")\n",
    "\n",
    "# Display the image\n",
    "fig,ax = plt.subplots(1,5)\n",
    "ax[0].imshow(imgU)\n",
    "ax[1].imshow(imgG)\n",
    "ax[2].imshow(imgR)\n",
    "ax[3].imshow(imgI)\n",
    "ax[4].imshow(imgZ)\n"
   ]
  },
  {
   "cell_type": "code",
   "execution_count": null,
   "id": "7c884e0c-654c-4266-81c0-603bde682612",
   "metadata": {},
   "outputs": [],
   "source": []
  }
 ],
 "metadata": {
  "kernelspec": {
   "display_name": "Python 3 (ipykernel)",
   "language": "python",
   "name": "python3"
  },
  "language_info": {
   "codemirror_mode": {
    "name": "ipython",
    "version": 3
   },
   "file_extension": ".py",
   "mimetype": "text/x-python",
   "name": "python",
   "nbconvert_exporter": "python",
   "pygments_lexer": "ipython3",
   "version": "3.8.19"
  }
 },
 "nbformat": 4,
 "nbformat_minor": 5
}
