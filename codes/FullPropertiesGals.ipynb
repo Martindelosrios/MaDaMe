{
 "cells": [
  {
   "cell_type": "markdown",
   "metadata": {
    "tags": []
   },
   "source": [
    "# Importing the needed libraries"
   ]
  },
  {
   "cell_type": "code",
   "execution_count": 24,
   "metadata": {},
   "outputs": [],
   "source": [
    "import os\n",
    "import sys\n",
    "import time\n",
    "import argparse\n",
    "import requests\n",
    "import contextlib\n",
    "from tqdm import tqdm\n",
    "import tempfile\n",
    "import h5py\n",
    "import atexit\n",
    "import numpy as np\n",
    "#from illustris_python.groupcat import loadSingle, loadHeader\n",
    "#import illustris_python as il\n",
    "import matplotlib.pyplot as plt\n",
    "import mpl_toolkits.mplot3d as mpl3\n",
    "from numpy.linalg import eig\n",
    "from numpy.linalg import eigh\n",
    "from scipy.optimize import curve_fit, root\n",
    "from scipy.spatial.transform import Rotation as R\n",
    "from scipy.stats import binned_statistic\n",
    "from matplotlib.gridspec import GridSpec\n",
    "\n",
    "\n",
    "G     = 4.3e-6 # Grav. constant [kPc/M_{sun} (km/s)^2]\n",
    "H0    = 67.74 # Hubble Constant [km/s / Mpc]\n",
    "h     = H0 / 100 \n",
    "rho_c = 3*(H0**2)/(8*np.pi*G*1e-3) # Critical density [M_{sun}/Mpc**3]\n",
    "rho_c = rho_c * (1e-3 ** 3) #2.7754 * 1e2 * (H0/100)**2 # Critical density [M_{sun}/Kpc**3]\n",
    "Nfields = 9\n",
    "M_dm    = 7.5e6 # M_sun\n",
    "headers = {\"api-key\": '81b7c70637fa8b110e6b9f236ea07c37'}\n",
    "box_size = 75 * 1e3 / h # kpc\n",
    "\n",
    "R_bins = np.geomspace(1, 100, 20)"
   ]
  },
  {
   "cell_type": "markdown",
   "metadata": {
    "jp-MarkdownHeadingCollapsed": true,
    "tags": []
   },
   "source": [
    "# Some custom functions"
   ]
  },
  {
   "cell_type": "code",
   "execution_count": 2,
   "metadata": {},
   "outputs": [],
   "source": [
    "def get(path, params=None, folderName=''):\n",
    "    '''\n",
    "    Illustris function\n",
    "    '''\n",
    "    # make HTTP GET request to path\n",
    "    r = requests.get(path, params=params, headers=headers)\n",
    "\n",
    "    # raise exception if response code is not HTTP SUCCESS (200)\n",
    "    r.raise_for_status()\n",
    "\n",
    "    if r.headers['content-type'] == 'application/json':\n",
    "        return r.json() # parse json responses automatically\n",
    "\n",
    "    if 'content-disposition' in r.headers:\n",
    "        filename = r.headers['content-disposition'].split(\"filename=\")[1]\n",
    "        if filename.endswith('.hdf5'):\n",
    "            file_access_property_list = h5py.h5p.create(h5py.h5p.FILE_ACCESS)\n",
    "            file_access_property_list.set_fapl_core(backing_store=False)\n",
    "            file_access_property_list.set_file_image(r.content)\n",
    "            \n",
    "            file_id_args = {\n",
    "                'fapl': file_access_property_list,\n",
    "                'flags': h5py.h5f.ACC_RDONLY,\n",
    "                'name': next(tempfile._get_candidate_names()).encode()\n",
    "            }\n",
    "            \n",
    "            h5_file_args = {'backing_store': False, 'driver': 'core', 'mode': 'r'}\n",
    "            with contextlib.closing(h5py.h5f.open(**file_id_args)) as file_id:\n",
    "                with h5py.File(file_id, **h5_file_args) as h5_file:\n",
    "                    #return np.array(h5_file['grid'])\n",
    "                    if 'grid' in h5_file.keys(): return np.array(h5_file['grid'])\n",
    "                    else:\n",
    "                        results = []\n",
    "                        for k in h5_file.keys():\n",
    "                            for sk in h5_file[k].keys():\n",
    "                                results.append(np.array(h5_file[k][sk]))\n",
    "                        return results\n",
    "        else:\n",
    "            with open(folderName + filename, 'wb') as f:\n",
    "                f.write(r.content)\n",
    "            return filename # return the filename string\n",
    "    return r\n"
   ]
  },
  {
   "cell_type": "code",
   "execution_count": 3,
   "metadata": {},
   "outputs": [],
   "source": [
    "def get1(path, name, params=None):\n",
    "    '''\n",
    "    Illustris function\n",
    "    '''\n",
    "    # make HTTP GET request to path\n",
    "    headers = {\"api-key\":\"81b7c70637fa8b110e6b9f236ea07c37\"}\n",
    "    r = requests.get(path, params=params, headers=headers)\n",
    "    # raise exception if response code is not HTTP SUCCESS (200)\n",
    "    r.raise_for_status()\n",
    "    if r.headers['content-type'] == 'application/json':\n",
    "        return r.json() # parse json responses automatically\n",
    "    if 'content-disposition' in r.headers:\n",
    "        filename = r.headers['content-disposition'].split(\"filename=\")[1]\n",
    "        with open(name + '.hdf5', 'wb') as f:\n",
    "            f.write(r.content)\n",
    "        return name + '.hdf5' # return the filename string\n",
    "    return NULL"
   ]
  },
  {
   "cell_type": "code",
   "execution_count": 4,
   "metadata": {},
   "outputs": [],
   "source": [
    "def compute_mass_profile(gid, center):\n",
    "    '''\n",
    "    MIHAEL FUNCTION: compute the dark matter mass enclosed in 20 radii\n",
    "    from 1 to 100 kPc\n",
    "    \n",
    "    Parameters\n",
    "    ----------\n",
    "    gid : int \n",
    "        GroupID\n",
    "    center : list\n",
    "        (x,y,z) Position of the group\n",
    "    \n",
    "    Returns\n",
    "    -------\n",
    "    \n",
    "    NP Array\n",
    "        Array with the dark matter mass enclosed in 20 radii from 1 to 100 kPc\n",
    "    '''\n",
    "    dm = il.snapshot.loadHalo('/home/tnguser/sims.TNG/TNG100-1/output/', 99, gid, 'dm', fields=['Coordinates'])\n",
    "    dm = np.where(dm > 32500, dm - 75000, dm)\n",
    "    dm = np.where(dm < -32500, dm + 75000, dm)\n",
    "    center = np.where(center > 32500, center - 75000, center)\n",
    "    center = np.where(center < -32500, center + 75000, center)\n",
    "    dm = dm - center\n",
    "    dist = []\n",
    "    for d in dm:\n",
    "        D = np.sqrt(sum([c**2 for c in d]))\n",
    "        if D < 100: dist.append(D)\n",
    "    R_bins = np.geomspace(1, 100, 20)\n",
    "    M = np.array([len(np.where(np.array(dist) < R)[0]) * M_dm for R in R_bins])\n",
    "    return M"
   ]
  },
  {
   "cell_type": "code",
   "execution_count": 5,
   "metadata": {},
   "outputs": [],
   "source": [
    "def compute_total_mass_profile(Rmax, Rmin, Nm, sub_meta, url):\n",
    "    '''\n",
    "    Computes the dark matter, stars and gas mass enclosed in Nm radii\n",
    "    from Rmin to Rmax kPc\n",
    "    \n",
    "    Parameters\n",
    "    ----------\n",
    "    Rmin, Rmax : float \n",
    "        Min and Max radii\n",
    "    Nm : int\n",
    "        Number of radial bins\n",
    "    sub_meta : str\n",
    "        Illustris information of the subhalo\n",
    "    url : str\n",
    "        Url to the Illustris server\n",
    "    \n",
    "    Returns\n",
    "    -------\n",
    "    \n",
    "    List\n",
    "        List of 4 Arrays corresponding to the radial bins and the \n",
    "        dark matter, stars and gas mass enclosed in Nm radii from \n",
    "        Rmin to Rmax kPc\n",
    "    '''\n",
    "    center = np.array([sub_meta['pos_x'], sub_meta['pos_y'], sub_meta['pos_z']])\n",
    "    particles  = get(url + 'cutout.hdf5', {'dm':'Coordinates',\n",
    "                                                'gas':'Coordinates,Masses',\n",
    "                                                'stars':'Coordinates,Masses'\n",
    "                                               })\n",
    "    \n",
    "    dm = particles[2] - center\n",
    "    dm = np.where(dm > 32500, dm - 75000, dm)\n",
    "    dm = np.where(dm < -32500, dm + 75000, dm)\n",
    "    \n",
    "    dist_dm = []\n",
    "    for d in dm:\n",
    "        D = np.sqrt(sum([c**2 for c in d]))\n",
    "        dist_dm.append(D)\n",
    "    \n",
    "    m_gas = particles[1] * 1e10/h\n",
    "    gas = particles[0] - center\n",
    "    gas = np.where(gas > 32500, gas - 75000, gas)\n",
    "    gas = np.where(gas < -32500, gas + 75000, gas)\n",
    "    \n",
    "    dist_gas = []\n",
    "    for d in gas:\n",
    "        D = np.sqrt(sum([c**2 for c in d]))\n",
    "        dist_gas.append(D)\n",
    "\n",
    "    m_stars = particles[4] * 1e10/h\n",
    "    stars = particles[3] - center\n",
    "    stars = np.where(stars > 32500, stars - 75000, stars)\n",
    "    stars = np.where(stars < -32500, stars + 75000, stars)\n",
    "    \n",
    "    dist_stars = []\n",
    "    for d in stars:\n",
    "        D = np.sqrt(sum([c**2 for c in d]))\n",
    "        dist_stars.append(D)\n",
    "            \n",
    "    R_bins = np.geomspace(Rmin, Rmax, Nm)\n",
    "    \n",
    "    p_dm    = np.array([len(np.where(np.array(dist_dm) < R)[0]) * M_dm for R in R_bins])\n",
    "    p_stars = np.array([sum(m_stars[np.where(np.array(dist_stars) < R)[0]]) for R in R_bins])\n",
    "    p_gas   = np.array([sum(m_gas[np.where(np.array(dist_gas) < R)[0]]) for R in R_bins])\n",
    "    return R_bins, p_dm, p_stars, p_gas"
   ]
  },
  {
   "cell_type": "code",
   "execution_count": 6,
   "metadata": {},
   "outputs": [],
   "source": [
    "def compute_rot_mat_inertia(subhalo_pos, coordinates, masses, Rmin=0, Rmax=20):\n",
    "    '''\n",
    "    MIHAEL FUNCTION: computes the intertia momenta of a subhalo with ID sid\n",
    "    \n",
    "    Parameters\n",
    "    ----------\n",
    "    \n",
    "    \n",
    "    Returns\n",
    "    -------\n",
    "    \n",
    "    Matrix\n",
    "        Rotation matrix for align the intertia momenta with the z-axis\n",
    "    '''\n",
    "    \n",
    "    coordinates = coordinates - subhalo_pos # Let's center the particles\n",
    "    dist = np.linalg.norm(coordinates, axis=1)\n",
    "    indices1 = np.argwhere(dist < Rmin)\n",
    "    indices2 = np.argwhere(dist > Rmax)\n",
    "    indices = np.concatenate((indices1, indices2))\n",
    "    distances = np.delete(dist, indices)\n",
    "    coordinates = np.delete(coordinates, indices, axis=0)\n",
    "    masses = np.delete(masses, indices)\n",
    "    \n",
    "    I = np.zeros((3,3))\n",
    "    for i in range(3):\n",
    "        for j in range(3):\n",
    "            if i == j: I[i][j] = np.sum(masses * (distances**2 - coordinates[:,i] * coordinates[:,j]))\n",
    "            else: I[i][j] = np.sum(masses * (- coordinates[:,i] * coordinates[:,j]))\n",
    "    \n",
    "    I_eign = np.linalg.eigh(I)\n",
    "    L = I_eign[1][2]\n",
    "    #print(I)\n",
    "    #print(L / np.linalg.norm(L))\n",
    "    \n",
    "    rot, _ = R.align_vectors([L, np.cross(L, [1,0,0])], [[0,0,1],[0,1,0]])\n",
    "    return rot.as_matrix(), L\n",
    "\n"
   ]
  },
  {
   "cell_type": "code",
   "execution_count": 7,
   "metadata": {},
   "outputs": [],
   "source": [
    "def compute_rot_mat_angMom(subhalo_pos, coordinates, velocities, masses, Rmin = 0, Rmax = 20):\n",
    "    \n",
    "    coordinates = coordinates - subhalo_pos # Let's center the particles\n",
    "    \n",
    "    dist = np.linalg.norm(coordinates, axis=1)\n",
    "    indices1 = np.argwhere(dist < Rmin)\n",
    "    indices2 = np.argwhere(dist > Rmax)\n",
    "    indices = np.concatenate((indices1, indices2))\n",
    "    distances = np.delete(dist, indices)\n",
    "    \n",
    "    coordinates = np.delete(coordinates, indices, axis = 0)\n",
    "    masses = np.delete(masses, indices)\n",
    "    velocities = np.delete(velocities, indices, axis = 0)\n",
    "    \n",
    "    L = (np.cross(coordinates, velocities).T * np.array(masses)).T\n",
    "    Lmean = np.mean(L, axis=0)\n",
    "    #print(Lmean / np.linalg.norm(Lmean))\n",
    "    \n",
    "    rot, _ = R.align_vectors([Lmean, np.cross(Lmean, [1,0,0])], [[0,0,1],[1,0,0]])\n",
    "    return rot.as_matrix(), Lmean"
   ]
  },
  {
   "cell_type": "code",
   "execution_count": 8,
   "metadata": {},
   "outputs": [],
   "source": [
    "from matplotlib.patches import FancyArrowPatch\n",
    "from mpl_toolkits.mplot3d.axes3d import Axes3D\n",
    "from mpl_toolkits.mplot3d.proj3d import proj_transform\n",
    "\n",
    "class Arrow3D(FancyArrowPatch):\n",
    "\n",
    "    def __init__(self, x, y, z, dx, dy, dz, *args, **kwargs):\n",
    "        super().__init__((0, 0), (0, 0), *args, **kwargs)\n",
    "        self._xyz = (x, y, z)\n",
    "        self._dxdydz = (dx, dy, dz)\n",
    "\n",
    "    def draw(self, renderer):\n",
    "        x1, y1, z1 = self._xyz\n",
    "        dx, dy, dz = self._dxdydz\n",
    "        x2, y2, z2 = (x1 + dx, y1 + dy, z1 + dz)\n",
    "\n",
    "        xs, ys, zs = proj_transform((x1, x2), (y1, y2), (z1, z2), self.axes.M)\n",
    "        self.set_positions((xs[0], ys[0]), (xs[1], ys[1]))\n",
    "        super().draw(renderer)\n",
    "        \n",
    "def _arrow3D(ax, x, y, z, dx, dy, dz, *args, **kwargs):\n",
    "    '''Add an 3d arrow to an `Axes3D` instance.'''\n",
    "\n",
    "    arrow = Arrow3D(x, y, z, dx, dy, dz, *args, **kwargs)\n",
    "    ax.add_artist(arrow)\n",
    "\n",
    "\n",
    "setattr(Axes3D, 'arrow3D', _arrow3D)"
   ]
  },
  {
   "cell_type": "markdown",
   "metadata": {
    "tags": []
   },
   "source": [
    "# Looking for the subhalos"
   ]
  },
  {
   "cell_type": "code",
   "execution_count": null,
   "metadata": {},
   "outputs": [],
   "source": [
    "N     = 40000 # Number of samples.\n",
    "\n",
    "Mmin  = 1e10 # Minimum total mass.\n",
    "Mmax  = 1e13 # Maximum total mass.\n",
    "Mdmin = 1e9 # Minimum dark matter mass in half radius.\n",
    "Mdmax = 1e13 # Maximum dark matter mass in half radius.\n",
    "Mgmin = 1e8 # Minimum gas mass.\n",
    "Mgmax = 1e13 # Maximum gas mass.\n",
    "Msmin = 1e10 # Minimum stellar mass.\n",
    "Msmax = 1e12 # Maximum stellar mass.\n",
    "\n",
    "sim   = 'TNG100-1' # Name of simulation run.\n",
    "z     = 99  # Snapshot number.\n",
    "myBasePath = '../sims.TNG/' + sim +'/output/'\n",
    "\n",
    "mass_min      = (Mmin / h) * 1e-10 # Minimum total mass\n",
    "mass_max      = (Mmax / h) * 1e-10 # Maximum total mass\n",
    "dm_mass_min   = (Mdmin / h) * 1e-10 # Minimum total dm mass\n",
    "dm_mass_max   = (Mdmax / h) * 1e-10 # Maximum total dm mass\n",
    "gas_mass_min  = (Mgmin / h) * 1e-10 # Minimum total gas mass\n",
    "gas_mass_max  = (Mgmax / h) * 1e-10 # Maximum total gas mass\n",
    "star_mass_min = (Msmin / h) * 1e-10 # Minimum total star mass\n",
    "star_mass_max = (Msmax / h) * 1e-10 # Maximum total star mass\n",
    "\n",
    "\n",
    "subhalos_url = 'http://www.tng-project.org/api/' + sim + '/snapshots/' + str(z) + '/subhalos'\n",
    "url          = subhalos_url\n",
    "subhalos     = get(subhalos_url, {'limit': N, 'offset': 0,\n",
    "                                #'mass__gt': mass_min, 'mass__lt': mass_max,                                     \n",
    "                                #'massinhalfrad_dm__gt':dm_mass_min,'massinhalfrad_dm__lt':dm_mass_max, \n",
    "                                #'mass_gas__gt': gas_mass_min, #'mass_gas__lt': gas_mass_max,\n",
    "                                'mass_stars__gt': star_mass_min, 'mass_stars__lt': star_mass_max,\n",
    "                                'filterFlag': True, 'parent__lt':1, \n",
    "                                'sfr__gt':0.1,\n",
    "                                'subhaloflag__gt':0})\n",
    "\n",
    "nsubhalos = len(subhalos['results'])"
   ]
  },
  {
   "cell_type": "code",
   "execution_count": null,
   "metadata": {},
   "outputs": [],
   "source": [
    "nsubhalos"
   ]
  },
  {
   "cell_type": "markdown",
   "metadata": {},
   "source": [
    "# Analyzing each individual subhalo (ie galaxy)"
   ]
  },
  {
   "cell_type": "code",
   "execution_count": 11,
   "metadata": {},
   "outputs": [
    {
     "name": "stdout",
     "output_type": "stream",
     "text": [
      "/u/m/mdelosri/MaDaMe/codes\n"
     ]
    }
   ],
   "source": [
    "!pwd"
   ]
  },
  {
   "cell_type": "code",
   "execution_count": 20,
   "metadata": {},
   "outputs": [
    {
     "ename": "BlockingIOError",
     "evalue": "[Errno 11] Unable to synchronously open file (unable to lock file, errno = 11, error message = 'Resource temporarily unavailable')",
     "output_type": "error",
     "traceback": [
      "\u001b[0;31m---------------------------------------------------------------------------\u001b[0m",
      "\u001b[0;31mBlockingIOError\u001b[0m                           Traceback (most recent call last)",
      "Cell \u001b[0;32mIn[20], line 2\u001b[0m\n\u001b[1;32m      1\u001b[0m file \u001b[38;5;241m=\u001b[39m \u001b[38;5;124m'\u001b[39m\u001b[38;5;124m../data/gals_properties.h5\u001b[39m\u001b[38;5;124m'\u001b[39m\n\u001b[0;32m----> 2\u001b[0m data \u001b[38;5;241m=\u001b[39m \u001b[43mh5py\u001b[49m\u001b[38;5;241;43m.\u001b[39;49m\u001b[43mFile\u001b[49m\u001b[43m(\u001b[49m\u001b[43mfile\u001b[49m\u001b[43m,\u001b[49m\u001b[43m \u001b[49m\u001b[38;5;124;43m'\u001b[39;49m\u001b[38;5;124;43ma\u001b[39;49m\u001b[38;5;124;43m'\u001b[39;49m\u001b[43m)\u001b[49m\n",
      "File \u001b[0;32m~/miniconda3/envs/martini/lib/python3.9/site-packages/h5py/_hl/files.py:561\u001b[0m, in \u001b[0;36mFile.__init__\u001b[0;34m(self, name, mode, driver, libver, userblock_size, swmr, rdcc_nslots, rdcc_nbytes, rdcc_w0, track_order, fs_strategy, fs_persist, fs_threshold, fs_page_size, page_buf_size, min_meta_keep, min_raw_keep, locking, alignment_threshold, alignment_interval, meta_block_size, **kwds)\u001b[0m\n\u001b[1;32m    552\u001b[0m     fapl \u001b[38;5;241m=\u001b[39m make_fapl(driver, libver, rdcc_nslots, rdcc_nbytes, rdcc_w0,\n\u001b[1;32m    553\u001b[0m                      locking, page_buf_size, min_meta_keep, min_raw_keep,\n\u001b[1;32m    554\u001b[0m                      alignment_threshold\u001b[38;5;241m=\u001b[39malignment_threshold,\n\u001b[1;32m    555\u001b[0m                      alignment_interval\u001b[38;5;241m=\u001b[39malignment_interval,\n\u001b[1;32m    556\u001b[0m                      meta_block_size\u001b[38;5;241m=\u001b[39mmeta_block_size,\n\u001b[1;32m    557\u001b[0m                      \u001b[38;5;241m*\u001b[39m\u001b[38;5;241m*\u001b[39mkwds)\n\u001b[1;32m    558\u001b[0m     fcpl \u001b[38;5;241m=\u001b[39m make_fcpl(track_order\u001b[38;5;241m=\u001b[39mtrack_order, fs_strategy\u001b[38;5;241m=\u001b[39mfs_strategy,\n\u001b[1;32m    559\u001b[0m                      fs_persist\u001b[38;5;241m=\u001b[39mfs_persist, fs_threshold\u001b[38;5;241m=\u001b[39mfs_threshold,\n\u001b[1;32m    560\u001b[0m                      fs_page_size\u001b[38;5;241m=\u001b[39mfs_page_size)\n\u001b[0;32m--> 561\u001b[0m     fid \u001b[38;5;241m=\u001b[39m \u001b[43mmake_fid\u001b[49m\u001b[43m(\u001b[49m\u001b[43mname\u001b[49m\u001b[43m,\u001b[49m\u001b[43m \u001b[49m\u001b[43mmode\u001b[49m\u001b[43m,\u001b[49m\u001b[43m \u001b[49m\u001b[43muserblock_size\u001b[49m\u001b[43m,\u001b[49m\u001b[43m \u001b[49m\u001b[43mfapl\u001b[49m\u001b[43m,\u001b[49m\u001b[43m \u001b[49m\u001b[43mfcpl\u001b[49m\u001b[43m,\u001b[49m\u001b[43m \u001b[49m\u001b[43mswmr\u001b[49m\u001b[38;5;241;43m=\u001b[39;49m\u001b[43mswmr\u001b[49m\u001b[43m)\u001b[49m\n\u001b[1;32m    563\u001b[0m \u001b[38;5;28;01mif\u001b[39;00m \u001b[38;5;28misinstance\u001b[39m(libver, \u001b[38;5;28mtuple\u001b[39m):\n\u001b[1;32m    564\u001b[0m     \u001b[38;5;28mself\u001b[39m\u001b[38;5;241m.\u001b[39m_libver \u001b[38;5;241m=\u001b[39m libver\n",
      "File \u001b[0;32m~/miniconda3/envs/martini/lib/python3.9/site-packages/h5py/_hl/files.py:247\u001b[0m, in \u001b[0;36mmake_fid\u001b[0;34m(name, mode, userblock_size, fapl, fcpl, swmr)\u001b[0m\n\u001b[1;32m    242\u001b[0m \u001b[38;5;28;01melif\u001b[39;00m mode \u001b[38;5;241m==\u001b[39m \u001b[38;5;124m'\u001b[39m\u001b[38;5;124ma\u001b[39m\u001b[38;5;124m'\u001b[39m:\n\u001b[1;32m    243\u001b[0m     \u001b[38;5;66;03m# Open in append mode (read/write).\u001b[39;00m\n\u001b[1;32m    244\u001b[0m     \u001b[38;5;66;03m# If that fails, create a new file only if it won't clobber an\u001b[39;00m\n\u001b[1;32m    245\u001b[0m     \u001b[38;5;66;03m# existing one (ACC_EXCL)\u001b[39;00m\n\u001b[1;32m    246\u001b[0m     \u001b[38;5;28;01mtry\u001b[39;00m:\n\u001b[0;32m--> 247\u001b[0m         fid \u001b[38;5;241m=\u001b[39m \u001b[43mh5f\u001b[49m\u001b[38;5;241;43m.\u001b[39;49m\u001b[43mopen\u001b[49m\u001b[43m(\u001b[49m\u001b[43mname\u001b[49m\u001b[43m,\u001b[49m\u001b[43m \u001b[49m\u001b[43mh5f\u001b[49m\u001b[38;5;241;43m.\u001b[39;49m\u001b[43mACC_RDWR\u001b[49m\u001b[43m,\u001b[49m\u001b[43m \u001b[49m\u001b[43mfapl\u001b[49m\u001b[38;5;241;43m=\u001b[39;49m\u001b[43mfapl\u001b[49m\u001b[43m)\u001b[49m\n\u001b[1;32m    248\u001b[0m     \u001b[38;5;66;03m# Not all drivers raise FileNotFoundError (commented those that do not)\u001b[39;00m\n\u001b[1;32m    249\u001b[0m     \u001b[38;5;28;01mexcept\u001b[39;00m \u001b[38;5;167;01mFileNotFoundError\u001b[39;00m \u001b[38;5;28;01mif\u001b[39;00m fapl\u001b[38;5;241m.\u001b[39mget_driver() \u001b[38;5;129;01min\u001b[39;00m (\n\u001b[1;32m    250\u001b[0m         h5fd\u001b[38;5;241m.\u001b[39mSEC2,\n\u001b[1;32m    251\u001b[0m         h5fd\u001b[38;5;241m.\u001b[39mDIRECT \u001b[38;5;28;01mif\u001b[39;00m direct_vfd \u001b[38;5;28;01melse\u001b[39;00m \u001b[38;5;241m-\u001b[39m\u001b[38;5;241m1\u001b[39m,\n\u001b[0;32m   (...)\u001b[0m\n\u001b[1;32m    259\u001b[0m         h5fd\u001b[38;5;241m.\u001b[39mROS3D \u001b[38;5;28;01mif\u001b[39;00m ros3 \u001b[38;5;28;01melse\u001b[39;00m \u001b[38;5;241m-\u001b[39m\u001b[38;5;241m1\u001b[39m,\n\u001b[1;32m    260\u001b[0m     ) \u001b[38;5;28;01melse\u001b[39;00m \u001b[38;5;167;01mOSError\u001b[39;00m:\n",
      "File \u001b[0;32mh5py/_objects.pyx:54\u001b[0m, in \u001b[0;36mh5py._objects.with_phil.wrapper\u001b[0;34m()\u001b[0m\n",
      "File \u001b[0;32mh5py/_objects.pyx:55\u001b[0m, in \u001b[0;36mh5py._objects.with_phil.wrapper\u001b[0;34m()\u001b[0m\n",
      "File \u001b[0;32mh5py/h5f.pyx:102\u001b[0m, in \u001b[0;36mh5py.h5f.open\u001b[0;34m()\u001b[0m\n",
      "\u001b[0;31mBlockingIOError\u001b[0m: [Errno 11] Unable to synchronously open file (unable to lock file, errno = 11, error message = 'Resource temporarily unavailable')"
     ]
    }
   ],
   "source": [
    "file = '../data/gals_properties.h5'\n",
    "data = h5py.File(file, 'a')"
   ]
  },
  {
   "cell_type": "code",
   "execution_count": null,
   "metadata": {},
   "outputs": [],
   "source": [
    "list(data.keys())"
   ]
  },
  {
   "cell_type": "code",
   "execution_count": null,
   "metadata": {},
   "outputs": [],
   "source": [
    "try:\n",
    "    flag_MainProps = True\n",
    "    old_MainProps = data['MainProps'][()]\n",
    "except:\n",
    "    flag_MainProps = False"
   ]
  },
  {
   "cell_type": "code",
   "execution_count": 16,
   "metadata": {},
   "outputs": [
    {
     "name": "stderr",
     "output_type": "stream",
     "text": [
      "  0%|          | 0/3 [00:00<?, ?it/s]"
     ]
    },
    {
     "name": "stdout",
     "output_type": "stream",
     "text": [
      "<KeysViewHDF5 ['MainProps', 'SubID_1', 'SubID_2', 'SubID_3']>\n",
      "Starting the estimation of properties with subhalo particles for galaxy 4\n",
      "Starting the estimation of properties with halo particles for galaxy 4\n"
     ]
    },
    {
     "name": "stderr",
     "output_type": "stream",
     "text": [
      " 33%|███▎      | 1/3 [04:17<08:35, 257.58s/it]"
     ]
    },
    {
     "name": "stdout",
     "output_type": "stream",
     "text": [
      "<KeysViewHDF5 ['MainProps', 'SubID_1', 'SubID_2', 'SubID_3', 'SubID_4']>\n",
      "Starting the estimation of properties with subhalo particles for galaxy 5\n",
      "Starting the estimation of properties with halo particles for galaxy 5\n"
     ]
    },
    {
     "name": "stderr",
     "output_type": "stream",
     "text": [
      " 67%|██████▋   | 2/3 [08:26<04:12, 252.49s/it]"
     ]
    },
    {
     "name": "stdout",
     "output_type": "stream",
     "text": [
      "<KeysViewHDF5 ['MainProps', 'SubID_1', 'SubID_2', 'SubID_3', 'SubID_4', 'SubID_5']>\n",
      "Starting the estimation of properties with subhalo particles for galaxy 32\n",
      "Starting the estimation of properties with halo particles for galaxy 32\n"
     ]
    },
    {
     "name": "stderr",
     "output_type": "stream",
     "text": [
      "100%|██████████| 3/3 [12:59<00:00, 259.75s/it]\n"
     ]
    }
   ],
   "source": [
    "#itialization of properties \n",
    "save_part_halo = True\n",
    "save_part_subhalo = True\n",
    "\n",
    "nsubhalos = 6\n",
    "properties = np.zeros((nsubhalos, 17))\n",
    "\n",
    "# 0: ID\n",
    "# 1: central (1 if central, 0 if not)\n",
    "# 2: SubMass [Msun]\n",
    "# 3: SubSFR\n",
    "# 4: SubHMR [kPc]\n",
    "# 5: x [kPc]\n",
    "# 6: y [kPc]\n",
    "# 7: z [kPc]\n",
    "# 8: vx [km/s]\n",
    "# 9: vy [km/s]\n",
    "# 10: vz [km/s]\n",
    "# 11: SubVmax [km/s]\n",
    "# 12: SubVmaxR [kPc]\n",
    "# 13: SubHMRG [kPc] Comoving radius containing half of the mass of this Subhalo \n",
    "                    # split by Type (SubhaloMassType). Type 4 = gas\n",
    "# 14: costheta. Cosine of the angle between the angular momenta and the main axis\n",
    "                # of the inertia tensor.\n",
    "# 15: kappa_AM\n",
    "# 16: kappa_IT\n",
    "\n",
    "#i = 2\n",
    "for i in tqdm(range(3,nsubhalos)):\n",
    "    print(data.keys())\n",
    "    ids = subhalos['results'][i]['id']\n",
    "    if 'SubID_' + str(ids) in data.keys():\n",
    "        flag_gr = False # This means that we do not have to analyze the group\n",
    "        print('Subhalo ' + str(ids) + ' already exists')\n",
    "        if not data['SubID_' + str(ids)].attrs['done']:\n",
    "            print('The analysis of the subhalo was not finished OK, so we have to do it again :(')\n",
    "            flag_gr = True # This means that we have to analyze the group\n",
    "            del data['SubID_' + str(ids)]\n",
    "            gr = data.create_group('SubID_' + str(ids))\n",
    "    else:\n",
    "        gr = data.create_group('SubID_' + str(ids))\n",
    "        flag_gr = True # This means that we have to analyze the group\n",
    "        gr.attrs['done'] = False\n",
    "        \n",
    "    #try:\n",
    "    #    gr = data.create_group('SubID_' + str(ids))\n",
    "    #    flag_gr = True\n",
    "    #    gr.attrs['done'] = False\n",
    "    #except:\n",
    "    #    flag_gr = False\n",
    "    #    print('Subhalo ' + str(ids) + ' already exists')\n",
    "    #    del data['SubID_' + str(ids)]\n",
    "    #    gr = data.create_group('SubID_' + str(ids))\n",
    "    #    if not gr.attrs['done']: flag_gr = True # This means that we have to analyze the group\n",
    "\n",
    "    if flag_gr:\n",
    "        # Let's load the data of the subhalos\n",
    "        #sub_meta = il.groupcat.loadSingle('/home/tnguser/sims.TNG/TNG100-1/output/', 99, subhaloID = ids)\n",
    "        sub_meta = get(subhalos['results'][i]['url'])\n",
    "        \n",
    "        # --------------------------------------------------------\n",
    "\n",
    "        # Let's save the main properties  ------------------------           \n",
    "        properties[i, 0] = ids   \n",
    "        gid = sub_meta['grnr'] # sub_meta['SubhaloGrNr']\n",
    "        properties[i, 1] = gid\n",
    "        properties[i, 2] = sub_meta['mass'] * 1e10 / h # [Msun] #sub_meta['SubhaloMass'] * 1e10 / h\n",
    "        properties[i, 3] = sub_meta['sfr'] # [Msun/yr] # sub_meta['SubhaloSFR']\n",
    "        properties[i, 4] = sub_meta['halfmassrad'] / h # [kPc]  # sub_meta['SubhaloHalfmassRad'] / h\n",
    "        properties[i, 5] = sub_meta['pos_x'] / h # [kPc]  # sub_meta['SubhaloPos'][0] / h\n",
    "        properties[i, 6] = sub_meta['pos_y'] / h # [kPc]  # sub_meta['SubhaloPos'][1] / h\n",
    "        properties[i, 7] = sub_meta['pos_z'] / h # [kPc]  # sub_meta['SubhaloPos'][2] / h\n",
    "        properties[i, 8] = sub_meta['vel_x'] # [km/s] # sub_meta['SubhaloVel'][0]\n",
    "        properties[i, 9] = sub_meta['vel_y'] # [km/s] # sub_meta['SubhaloVel'][1]\n",
    "        properties[i, 10] = sub_meta['vel_z'] # [km/s] # sub_meta['SubhaloVel'][2]\n",
    "        properties[i, 11] = sub_meta['vmax'] # [km/s] # sub_meta['SubhaloVmax']\n",
    "        properties[i, 12] = sub_meta['vmaxrad'] / h # [kPc] # sub_meta['SubhaloVmaxRad'] / h\n",
    "        properties[i, 13] = sub_meta['halfmassrad_stars'] / h # [kPc] # sub_meta['SubhaloHalfmassRadType'][4] / h\n",
    "\n",
    "\n",
    "        gr.create_dataset('Props', data = properties[i,:])\n",
    "        #gr.attrs['mass'] = sub_meta['mass'] * 1e10 / h # [Msun] #sub_meta['SubhaloMass'] * 1e10 / h\n",
    "        #gr.attrs['sfr'] = sub_meta['sfr'] # [Msun/yr] # sub_meta['SubhaloSFR']\n",
    "        #gr.attrs['halfmassrad'] = sub_meta['halfmassrad'] / h # [kPc]  # sub_meta['SubhaloHalfmassRad'] / h\n",
    "        #gr.attrs['pos_x'] = sub_meta['pos_x'] / h # [kPc]  # sub_meta['SubhaloPos'][0] / h\n",
    "        #gr.attrs['pos_y'] = sub_meta['pos_y'] / h # [km/s] # sub_meta['SubhaloVel'][0]\n",
    "        #gr.attrs['pos_z'] = sub_meta['pos_z'] / h\n",
    "        #gr.attrs['vel_x'] = sub_meta['vel_x']\n",
    "        #gr.attrs['vel_y'] = sub_meta['vel_y']\n",
    "        #gr.attrs['vel_z'] = sub_meta['vel_z']\n",
    "        #gr.attrs['vmax'] = sub_meta['vmax'] # [km/s] # sub_meta['SubhaloVmax']\n",
    "        #gr.attrs['vmaxrad'] = sub_meta['vmaxrad'] / h # [kPc] # sub_meta['SubhaloVmaxRad'] / h\n",
    "        #gr.attrs['halfmassrad_stars'] = sub_meta['halfmassrad_stars'] / h # [kPc] # sub_meta['SubhaloHalfmassRadType'][4] / h\n",
    "        # --------------------------------------------------------\n",
    "\n",
    "        # Let's estimate properties with the particles of the subhalos\n",
    "        print('Starting the estimation of properties with subhalo particles for galaxy ' + str(ids))\n",
    "        #try:\n",
    "        #sub_meta     = get(subhalos['results'][i]['url'])\n",
    "        sub_data_url = subhalos['results'][i]['url'] + 'vis.hdf5'\n",
    "        center_sub   = properties[i, 5:8]\n",
    "        velocity     = properties[i, 8:11]\n",
    "\n",
    "        \n",
    "        stars_subhalo = get(subhalos['results'][i]['url'] + '/' + 'cutout.hdf5', \n",
    "                           {'stars':'Coordinates,GFM_InitialMass,GFM_Metallicity,GFM_StellarFormationTime,Masses,StellarHsml,Velocities'})\n",
    "        stars_c = stars_subhalo[0] / h\n",
    "        stars_v = stars_subhalo[6]\n",
    "        stars_m = stars_subhalo[4] * 1e10 / h\n",
    "        try:\n",
    "            gas_subhalo = get(subhalos['results'][i]['url'] + '/' + 'cutout.hdf5', \n",
    "                   {'gas':'coordinates,density,ElectronAbundance,GFM_Metallicity,GFM_Metals,InternalEnergy,masses,SubfindHsml,velocities'})\n",
    "\n",
    "            #gas_subhalo = get(subhalos['results'][i]['url'] + '/' + 'cutout.hdf5', \n",
    "            #                   {'gas':'coordinates,density,GFM_Metallicity,masses,SubfindHsml,velocities'})\n",
    "            gas_c   = gas_subhalo[0] / h\n",
    "            gas_v   = gas_subhalo[8]\n",
    "            gas_m   = gas_subhalo[6] * 1e10 / h\n",
    "            gas_HI  = gas_subhalo[4][:,0]\n",
    "            flag_gas = True\n",
    "        except:\n",
    "            print('Galaxy ' + str(ids) + ' have no gas')\n",
    "            flag_gas = False\n",
    "        dm_c    = get(subhalos['results'][i]['url'] + 'cutout.hdf5', {'dm':'Coordinates'})[0] / h\n",
    "        dm_v    = get(subhalos['results'][i]['url'] + 'cutout.hdf5', {'dm':'Velocities'})[0]\n",
    "\n",
    "        # Let's move the coordinates if they are near the border\n",
    "        aux_ind = np.where( (stars_c[:, 0] - center_sub[0]) > (box_size / 2) )[0]\n",
    "        stars_c[aux_ind, 0] = stars_c[aux_ind, 0] - box_size\n",
    "        aux_ind = np.where( (center_sub[0] - stars_c[:, 0]) > (box_size / 2) )[0]\n",
    "        stars_c[aux_ind, 0] = stars_c[aux_ind, 0] + box_size\n",
    "        aux_ind = np.where( (stars_c[:, 1] - center_sub[1]) > (box_size / 2) )[0]\n",
    "        stars_c[aux_ind, 1] = stars_c[aux_ind, 1] - box_size\n",
    "        aux_ind = np.where( (center_sub[1] - stars_c[:, 1]) > (box_size / 2) )[0]\n",
    "        stars_c[aux_ind, 1] = stars_c[aux_ind, 1] + box_size\n",
    "        aux_ind = np.where( (stars_c[:, 2] - center_sub[2]) > (box_size / 2) )[0]\n",
    "        stars_c[aux_ind, 2] = stars_c[aux_ind, 2] - box_size\n",
    "        aux_ind = np.where( (center_sub[2] - stars_c[:, 2]) > (box_size / 2) )[0]\n",
    "        stars_c[aux_ind, 2] = stars_c[aux_ind, 2] + box_size\n",
    "        \n",
    "        if flag_gas:\n",
    "            aux_ind = np.where( (gas_c[:, 0] - center_sub[0]) > (box_size / 2) )[0]\n",
    "            gas_c[aux_ind, 0] = gas_c[aux_ind, 0] - box_size\n",
    "            aux_ind = np.where( (center_sub[0] - gas_c[:, 0]) > (box_size / 2) )[0]\n",
    "            gas_c[aux_ind, 0] = gas_c[aux_ind, 0] + box_size\n",
    "            aux_ind = np.where( (gas_c[:, 1] - center_sub[1]) > (box_size / 2) )[0]\n",
    "            gas_c[aux_ind, 1] = gas_c[aux_ind, 1] - box_size\n",
    "            aux_ind = np.where( (center_sub[1] - gas_c[:, 1]) > (box_size / 2) )[0]\n",
    "            gas_c[aux_ind, 1] = gas_c[aux_ind, 1] + box_size\n",
    "            aux_ind = np.where( (gas_c[:, 2] - center_sub[2]) > (box_size / 2) )[0]\n",
    "            gas_c[aux_ind, 2] = gas_c[aux_ind, 2] - box_size\n",
    "            aux_ind = np.where( (center_sub[2] - gas_c[:, 2]) > (box_size / 2) )[0]\n",
    "            gas_c[aux_ind, 2] = gas_c[aux_ind, 2] + box_size\n",
    "            \n",
    "        aux_ind = np.where( (dm_c[:, 0] - center_sub[0]) > (box_size / 2) )[0]\n",
    "        dm_c[aux_ind, 0] = dm_c[aux_ind, 0] - box_size\n",
    "        aux_ind = np.where( (center_sub[0] - dm_c[:, 0]) > (box_size / 2) )[0]\n",
    "        dm_c[aux_ind, 0] = dm_c[aux_ind, 0] + box_size\n",
    "        aux_ind = np.where( (dm_c[:, 1] - center_sub[1]) > (box_size / 2) )[0]\n",
    "        dm_c[aux_ind, 1] = dm_c[aux_ind, 1] - box_size\n",
    "        aux_ind = np.where( (center_sub[1] - dm_c[:, 1]) > (box_size / 2) )[0]\n",
    "        dm_c[aux_ind, 1] = dm_c[aux_ind, 1] + box_size\n",
    "        aux_ind = np.where( (dm_c[:, 2] - center_sub[2]) > (box_size / 2) )[0]\n",
    "        dm_c[aux_ind, 2] = dm_c[aux_ind, 2] - box_size\n",
    "        aux_ind = np.where( (center_sub[2] - dm_c[:, 2]) > (box_size / 2) )[0]\n",
    "        dm_c[aux_ind, 2] = dm_c[aux_ind, 2] + box_size\n",
    "        # --------------------------------------------------------\n",
    "        \n",
    "        # ------------------Let's center the particles -----------\n",
    "        stars_c = stars_c - center_sub\n",
    "        stars_v = stars_v - velocity\n",
    "        \n",
    "        dm_v = dm_v - velocity\n",
    "        dm_c = dm_c - center_sub\n",
    "        \n",
    "        if flag_gas:\n",
    "            gas_c = gas_c - center_sub\n",
    "            gas_v = gas_v - velocity\n",
    "        # --------------------------------------------------------\n",
    "              \n",
    "        # Let's Compute the distance of each DM particle to the center and sum in radial bins\n",
    "        dist = np.linalg.norm(dm_c, axis=1)\n",
    "        #for d in dm_c:\n",
    "        #    D = np.sqrt(sum([c**2 for c in d]))\n",
    "        #    if D < 100: dist.append(D)\n",
    "        M = np.array([len(np.where(np.array(dist) < R)[0]) * M_dm for R in R_bins])\n",
    "        ind_dm = np.where(np.array(dist) < (3 * properties[i, 4]))[0] # for saving only close particles\n",
    "        # --------------------------------------------------------\n",
    "\n",
    "        # Let's Compute the distance of each star particle to the center and sum in radial bins\n",
    "        dist = np.linalg.norm(stars_c, axis=1)\n",
    "        #for d in stars_c:\n",
    "        #    D = np.sqrt(sum([c**2 for c in d]))\n",
    "        #    if D < 100: dist.append(D)\n",
    "        M_stars = np.array([np.sum( stars_m[np.where(np.array(dist) < R)[0]] ) for R in R_bins])\n",
    "        ind_stars = np.where(np.array(dist) < (3 * properties[i, 4]))[0] # for saving only close particles\n",
    "        # --------------------------------------------------------\n",
    "\n",
    "        # Compute the distance of each particle to the center and sum in radial bins\n",
    "        if flag_gas:\n",
    "            dist = np.linalg.norm(gas_c, axis=1)\n",
    "            #for d in gas_c:\n",
    "            #    D = np.sqrt(sum([c**2 for c in d]))\n",
    "            #    if D < 100: dist.append(D)\n",
    "            M_gas = np.array([np.sum( gas_m[np.where(np.array(dist) < R)[0]] ) for R in R_bins])\n",
    "            ind_gas = np.where(np.array(dist) < (3 * properties[i, 4]))[0] # for saving only close particles\n",
    "        # --------------------------------------------------------\n",
    "\n",
    "        # Let's save the particles\n",
    "        if save_part_subhalo:\n",
    "            np.savetxt('../data/particles/subhalo_' + str(ids) + '_starsCoord.txt', stars_c[ind_stars])\n",
    "            #np.savetxt('../data/particles/subhalo_' + str(ids) + '_starsCoord.txt', aux_subhalo[0])\n",
    "            np.savetxt('../data/particles/subhalo_' + str(ids) + '_starsInitMass.txt', stars_subhalo[1][ind_stars])\n",
    "            np.savetxt('../data/particles/subhalo_' + str(ids) + '_starsMetal.txt', stars_subhalo[2][ind_stars])\n",
    "            np.savetxt('../data/particles/subhalo_' + str(ids) + '_starsSFT.txt', stars_subhalo[3][ind_stars])\n",
    "            np.savetxt('../data/particles/subhalo_' + str(ids) + '_starsMasses.txt', stars_m[ind_stars])\n",
    "            np.savetxt('../data/particles/subhalo_' + str(ids) + '_starsHsml.txt', stars_subhalo[5][ind_stars])\n",
    "            np.savetxt('../data/particles/subhalo_' + str(ids) + '_starsVels.txt', stars_v[ind_stars])\n",
    "            if flag_gas:\n",
    "                np.savetxt('../data/particles/subhalo_' + str(ids) + '_gasCoord.txt', gas_c[ind_gas])\n",
    "                np.savetxt('../data/particles/subhalo_' + str(ids) + '_gasDens.txt', gas_subhalo[1][ind_gas])\n",
    "                np.savetxt('../data/particles/subhalo_' + str(ids) + '_eAbund.txt', gas_subhalo[2][ind_gas])\n",
    "                np.savetxt('../data/particles/subhalo_' + str(ids) + '_gasMetal.txt', gas_subhalo[3][ind_gas])\n",
    "                np.savetxt('../data/particles/subhalo_' + str(ids) + '_gasHI.txt', gas_HI[ind_gas])\n",
    "                np.savetxt('../data/particles/subhalo_' + str(ids) + '_intEne.txt', gas_subhalo[5][ind_gas])\n",
    "                np.savetxt('../data/particles/subhalo_' + str(ids) + '_gasMasses.txt', gas_m[ind_gas])\n",
    "                np.savetxt('../data/particles/subhalo_' + str(ids) + '_gasHsml.txt', gas_subhalo[7][ind_gas])\n",
    "                np.savetxt('../data/particles/subhalo_' + str(ids) + '_gasVels.txt', gas_v[ind_gas])\n",
    "        # ----------------------------------------------\n",
    "        \n",
    "        # Let's save the data of these profiles\n",
    "        gr.create_dataset('R_bins_sub', data = R_bins)\n",
    "        gr.create_dataset('M_DM_sub', data = M)\n",
    "        gr.create_dataset('M_stars_sub', data = M_stars)   \n",
    "        if flag_gas:\n",
    "            gr.create_dataset('M_gas_sub', data = M_gas)\n",
    "        # --------------------------------------------------------\n",
    "\n",
    "        # Let's compute the rotation matrix taking into accunt the inertia tensor\n",
    "        rot_mat_IT, L_IT = compute_rot_mat_inertia(np.zeros(3), stars_c, stars_m, Rmax = 2 * properties[i, 13])\n",
    "        # --------------------------------------------------------\n",
    "\n",
    "        # Let's compute the rotation matrix taking into accunt the angular momentum tensor\n",
    "        rot_mat_AM, L_AM = compute_rot_mat_angMom(np.zeros(3), stars_c, stars_v, stars_m, Rmax = 2 * properties[i, 13])\n",
    "        # --------------------------------------------------------\n",
    "\n",
    "        # Let's rotate the coordiantes with AM\n",
    "        dm_c_rot_AM = dm_c @ rot_mat_AM\n",
    "        dm_v_rot_AM = dm_v @ rot_mat_AM\n",
    "        stars_c_rot_AM = stars_c @ rot_mat_AM\n",
    "        stars_v_rot_AM = stars_v @ rot_mat_AM\n",
    "        if flag_gas:\n",
    "            gas_c_rot_AM = gas_c @ rot_mat_AM\n",
    "            gas_v_rot_AM = gas_v @ rot_mat_AM\n",
    "\n",
    "        L_AM_rot_AM = L_AM @ rot_mat_AM\n",
    "        L_IT_rot_AM = L_IT @ rot_mat_AM\n",
    "        # --------------------------------------------------------\n",
    "\n",
    "        # Let's rotate the coordiantes with IT\n",
    "        dm_c_rot_IT = dm_c @ rot_mat_IT\n",
    "        dm_v_rotv = dm_v @ rot_mat_IT\n",
    "        stars_c_rot_IT = stars_c @ rot_mat_IT\n",
    "        stars_v_rot_IT = stars_v @ rot_mat_IT\n",
    "        if flag_gas:\n",
    "            gas_c_rot_IT = gas_c @ rot_mat_IT\n",
    "            gas_v_rot_IT = gas_v @ rot_mat_IT\n",
    "\n",
    "        L_AM_rot_IT = L_AM @ rot_mat_IT\n",
    "        L_IT_rot_IT = L_IT @ rot_mat_IT\n",
    "        # --------------------------------------------------------\n",
    "\n",
    "        # Let's aligendthe stars with the IT\n",
    "        x_stars_IT  = stars_c_rot_IT[:,0]\n",
    "        y_stars_IT  = stars_c_rot_IT[:,1]\n",
    "        z_stars_IT  = stars_c_rot_IT[:,2]\n",
    "        vx_stars_IT = stars_v_rot_IT[:,0]\n",
    "        vy_stars_IT = stars_v_rot_IT[:,1]\n",
    "        vz_stars_IT = stars_v_rot_IT[:,2]\n",
    "        # --------------------------------------------------------\n",
    "\n",
    "\n",
    "        # Let's move to cylindrical coordinates and the kinematical properties\n",
    "        r_stars_IT         = np.sqrt(x_stars_IT**2 + y_stars_IT**2)\n",
    "        phi_stars_IT       = np.arctan2(y_stars_IT, x_stars_IT)\n",
    "        jz_stars_IT        = x_stars_IT * vy_stars_IT - y_stars_IT * vx_stars_IT\n",
    "        Erot_stars_IT      = stars_m * (jz_stars_IT**2) / (r_stars_IT**2)\n",
    "        Ek_stars_IT        = stars_m * (vx_stars_IT**2 + vy_stars_IT**2 + vz_stars_IT**2)\n",
    "        kappa_stars_IT     = np.sum(Erot_stars_IT) / np.sum(Ek_stars_IT)\n",
    "        vphi_full_stars_IT = jz_stars_IT / r_stars_IT\n",
    "        # --------------------------------------------------------\n",
    "\n",
    "\n",
    "        # Now aligend the stars with the AM\n",
    "\n",
    "        x_stars_AM  = stars_c_rot_AM[:,0]\n",
    "        y_stars_AM  = stars_c_rot_AM[:,1]\n",
    "        z_stars_AM  = stars_c_rot_AM[:,2]\n",
    "        vx_stars_AM = stars_v_rot_AM[:,0]\n",
    "        vy_stars_AM = stars_v_rot_AM[:,1]\n",
    "        vz_stars_AM = stars_v_rot_AM[:,2]\n",
    "        # --------------------------------------------------------\n",
    "\n",
    "        # Let's move to cylindrical coordinates and the kinematical properties\n",
    "        r_stars_AM     = np.sqrt(x_stars_AM**2 + y_stars_AM**2)\n",
    "        phi_stars_AM   = np.arctan2(y_stars_AM, x_stars_AM)\n",
    "        jz_stars_AM    = x_stars_AM * vy_stars_AM - y_stars_AM * vx_stars_AM\n",
    "        Erot_stars_AM  = stars_m * (jz_stars_AM**2) / (r_stars_AM**2)\n",
    "        Ek_stars_AM    = stars_m * (vx_stars_AM**2 + vy_stars_AM**2 + vz_stars_AM**2)\n",
    "        kappa_stars_AM = np.sum(Erot_stars_AM) / np.sum(Ek_stars_AM)\n",
    "        vphi_full_stars_AM = jz_stars_AM / r_stars_AM\n",
    "        # --------------------------------------------------------\n",
    "\n",
    "        # Let's save the main properties\n",
    "        properties[i, 14] = np.dot(L_IT, L_AM) / ( np.linalg.norm(L_IT) * np.linalg.norm(L_AM) )\n",
    "        properties[i, 15] = kappa_stars_AM\n",
    "        properties[i, 16] = kappa_stars_IT\n",
    "        # --------------------------------------------------------\n",
    "\n",
    "        # Let's compute rotation curve with gas\n",
    "\n",
    "        # Let's aligend the gas with the IT\n",
    "        if flag_gas:\n",
    "            x_gas_IT  = gas_c_rot_IT[:,0]\n",
    "            y_gas_IT  = gas_c_rot_IT[:,1]\n",
    "            z_gas_IT  = gas_c_rot_IT[:,2]\n",
    "            vx_gas_IT = gas_v_rot_IT[:,0]\n",
    "            vy_gas_IT = gas_v_rot_IT[:,1]\n",
    "            vz_gas_IT = gas_v_rot_IT[:,2]\n",
    "            # --------------------------------------------------------\n",
    "\n",
    "            # Let's move to cylindrical coordinates and compute the kinematical properties\n",
    "            r_gas_IT         = np.sqrt(x_gas_IT**2 + y_gas_IT**2)\n",
    "            phi_gas_IT       = np.arctan2(y_gas_IT, x_gas_IT)\n",
    "            jz_gas_IT        = x_gas_IT * vy_gas_IT - y_gas_IT * vx_gas_IT\n",
    "            Erot_gas_IT      = gas_m * (jz_gas_IT**2) / (r_gas_IT**2)\n",
    "            Ek_gas_IT        = gas_m * (vx_gas_IT**2 + vy_gas_IT**2 + vz_gas_IT**2)\n",
    "            kappa_gas_IT     = np.sum(Erot_gas_IT) / np.sum(Ek_gas_IT)\n",
    "            vphi_full_gas_IT = jz_gas_IT / r_gas_IT\n",
    "            # --------------------------------------------------------\n",
    "\n",
    "            # Now let's aligend the gas with the AM\n",
    "\n",
    "            x_gas_AM  = gas_c_rot_AM[:,0]\n",
    "            y_gas_AM  = gas_c_rot_AM[:,1]\n",
    "            z_gas_AM  = gas_c_rot_AM[:,2]\n",
    "            vx_gas_AM = gas_v_rot_AM[:,0]\n",
    "            vy_gas_AM = gas_v_rot_AM[:,1]\n",
    "            vz_gas_AM = gas_v_rot_AM[:,2]\n",
    "\n",
    "            # Let's move to cylindrical coordinates and compute the kinematical properties\n",
    "            r_gas_AM     = np.sqrt(x_gas_AM**2 + y_gas_AM**2)\n",
    "            phi_gas_AM   = np.arctan2(y_gas_AM, x_gas_AM)\n",
    "            jz_gas_AM    = x_gas_AM * vy_gas_AM - y_gas_AM * vx_gas_AM\n",
    "            Erot_gas_AM  = gas_m * (jz_gas_AM**2) / (r_gas_AM**2)\n",
    "            Ek_gas_AM    = gas_m * (vx_gas_AM**2 + vy_gas_AM**2 + vz_gas_AM**2)\n",
    "            kappa_gas_AM = np.sum(Erot_gas_AM) / np.sum(Ek_gas_AM)\n",
    "            vphi_full_gas_AM = jz_gas_AM / r_gas_AM\n",
    "            # --------------------------------------------------------\n",
    "\n",
    "            # Let's compute the binned rotational curves and saved it\n",
    "            v_rot_gas_IT, bin_edges,_ = binned_statistic(r_gas_IT, np.abs(vphi_full_gas_IT), 'mean', bins = R_bins)\n",
    "            v_std_gas_IT,_,_ = binned_statistic(r_gas_IT, np.abs(vphi_full_gas_IT), 'std', bins = R_bins)\n",
    "            v_rot_gas_AM,_,_ = binned_statistic(r_gas_AM, np.abs(vphi_full_gas_AM), 'mean', bins = R_bins)\n",
    "            v_std_gas_AM,_,_ = binned_statistic(r_gas_AM, np.abs(vphi_full_gas_IT), 'std', bins = R_bins)\n",
    "\n",
    "        v_rot_stars_IT, bin_edges,_  = binned_statistic(r_stars_IT, np.abs(vphi_full_stars_IT), 'mean', bins = R_bins)\n",
    "        v_std_stars_IT,_,_ = binned_statistic(r_stars_IT, np.abs(vphi_full_stars_IT), 'std', bins = R_bins)\n",
    "        v_rot_stars_AM,_,_ = binned_statistic(r_stars_AM, np.abs(vphi_full_stars_AM), 'mean', bins = R_bins)\n",
    "        v_std_stars_AM,_,_ = binned_statistic(r_stars_AM, np.abs(vphi_full_stars_AM), 'std', bins = R_bins)\n",
    "\n",
    "        bin_width = (bin_edges[1] - bin_edges[0])\n",
    "        bin_centers = bin_edges[1:] - bin_width/2\n",
    "\n",
    "        gr.create_dataset('R_bins_vels', data = bin_centers)\n",
    "        if flag_gas:\n",
    "            gr.create_dataset('V_rot_gas_IT', data = v_rot_gas_IT)\n",
    "            gr.create_dataset('V_std_gas_IT', data = v_std_gas_IT)\n",
    "            gr.create_dataset('V_rot_gas_AM', data = v_rot_gas_AM)\n",
    "            gr.create_dataset('V_std_gas_AM', data = v_std_gas_AM)\n",
    "        gr.create_dataset('V_rot_stars_IT', data = v_rot_stars_IT)\n",
    "        gr.create_dataset('V_std_stars_IT', data = v_std_stars_IT)\n",
    "        gr.create_dataset('V_rot_stars_AM', data = v_rot_stars_AM)\n",
    "        gr.create_dataset('V_std_stars_AM', data = v_std_stars_AM)\n",
    "        # ---------------------------------------------------------------------------------------\n",
    "\n",
    "        # Let's estimate the real profiles taking into account the halo\n",
    "        print('Starting the estimation of properties with halo particles for galaxy ' + str(ids))\n",
    "\n",
    "        # Let's load the DM particles of the halo to which the subhalo belongs\n",
    "        #dm_halo = il.snapshot.loadHalo('/home/tnguser/sims.TNG/TNG100-1/output/', 99, gid, 'dm', fields=['Coordinates']) / h\n",
    "        dm_halo = get('http://www.tng-project.org/api/TNG100-1/snapshots/99/halos/' + str(gid) + '/' + 'cutout.hdf5', {'dm':'coordinates'})[0] / h\n",
    "        \n",
    "        # ---------------------------------------------------------------------------------------\n",
    "\n",
    "        # If the halo is near the border let's center it\n",
    "        aux_ind = np.where( (dm_halo[:, 0] - center_sub[0]) > (box_size / 2) )[0]\n",
    "        dm_halo[aux_ind, 0] = dm_halo[aux_ind, 0] - box_size\n",
    "        aux_ind = np.where( (center_sub[0] - dm_halo[:, 0]) > (box_size / 2) )[0]\n",
    "        dm_halo[aux_ind, 0] = dm_halo[aux_ind, 0] + box_size\n",
    "        aux_ind = np.where( (dm_halo[:, 1] - center_sub[1]) > (box_size / 2) )[0]\n",
    "        dm_halo[aux_ind, 1] = dm_halo[aux_ind, 1] - box_size\n",
    "        aux_ind = np.where( (center_sub[1] - dm_halo[:, 1]) > (box_size / 2) )[0]\n",
    "        dm_halo[aux_ind, 1] = dm_halo[aux_ind, 1] + box_size\n",
    "        aux_ind = np.where( (dm_halo[:, 2] - center_sub[2]) > (box_size / 2) )[0]\n",
    "        dm_halo[aux_ind, 2] = dm_halo[aux_ind, 2] - box_size\n",
    "        aux_ind = np.where( (center_sub[2] - dm_halo[:, 2]) > (box_size / 2) )[0]\n",
    "        dm_halo[aux_ind, 2] = dm_halo[aux_ind, 2] + box_size\n",
    "        # ---------------------------------------------------------------------------------------\n",
    "        # ----------------------Let's center de coords---------------------\n",
    "        dm_halo = dm_halo - center_sub\n",
    "        # -----------------------------------------------------------------\n",
    "        # Compute the distance of each particle to the center and sum in radial bins\n",
    "        dist = np.linalg.norm(dm_halo, axis=1)\n",
    "        #for d in dm_halo:\n",
    "        #    D = np.sqrt(sum([c**2 for c in d]))\n",
    "        #    if D < 100: dist.append(D)\n",
    "        R_bins = np.geomspace(1, 100, 20)\n",
    "        M = np.array([len(np.where(np.array(dist) < R)[0]) * M_dm for R in R_bins])\n",
    "        # ---------------------------------------------------------------------------------------\n",
    "\n",
    "        # Let's load the stars particles of the halo to which the subhalo belongs\n",
    "        \n",
    "        stars_halo = get('http://www.tng-project.org/api/TNG100-1/snapshots/99/halos/' + str(gid) + '/' + 'cutout.hdf5', \n",
    "                           {'stars':'Coordinates,GFM_InitialMass,GFM_Metallicity,GFM_StellarFormationTime,Masses,StellarHsml,Velocities'})\n",
    "        #stars_halo = il.snapshot.loadHalo('/home/tnguser/sims.TNG/TNG100-1/output/', 99, gid, 'stars', fields=['Coordinates']) / h\n",
    "        #masses = il.snapshot.loadHalo('/home/tnguser/sims.TNG/TNG100-1/output/', 99, gid, 'stars', fields=['Masses']) * 1e10 / h\n",
    "        stars_halo_c = stars_halo[0] / h\n",
    "        stars_halo_m = stars_halo[4] * 1e10 / h\n",
    "        stars_halo_v = stars_halo[6]\n",
    "\n",
    "        # ---------------------------------------------------------------------------------------\n",
    "\n",
    "        # If the halo is near the border let's center it\n",
    "        aux_ind = np.where( (stars_halo_c[:, 0] - center_sub[0]) > (box_size / 2) )[0]\n",
    "        stars_halo_c[aux_ind, 0] = stars_halo_c[aux_ind, 0] - box_size\n",
    "        aux_ind = np.where( (center_sub[0] - stars_halo_c[:, 0]) > (box_size / 2) )[0]\n",
    "        stars_halo_c[aux_ind, 0] = stars_halo_c[aux_ind, 0] + box_size\n",
    "        aux_ind = np.where( (stars_halo_c[:, 1] - center_sub[1]) > (box_size / 2) )[0]\n",
    "        stars_halo_c[aux_ind, 1] = stars_halo_c[aux_ind, 1] - box_size\n",
    "        aux_ind = np.where( (center_sub[1] - stars_halo_c[:, 1]) > (box_size / 2) )[0]\n",
    "        stars_halo_c[aux_ind, 1] = stars_halo_c[aux_ind, 1] + box_size\n",
    "        aux_ind = np.where( (stars_halo_c[:, 2] - center_sub[2]) > (box_size / 2) )[0]\n",
    "        stars_halo_c[aux_ind, 2] = stars_halo_c[aux_ind, 2] - box_size\n",
    "        aux_ind = np.where( (center_sub[2] - stars_halo_c[:, 2]) > (box_size / 2) )[0]\n",
    "        stars_halo_c[aux_ind, 2] = stars_halo_c[aux_ind, 2] + box_size\n",
    "        \n",
    "        # ----------------------Let's center de coords---------------------\n",
    "        stars_halo_c = stars_halo_c - center_sub\n",
    "        stars_halo_v = stars_halo_v - velocity\n",
    "        # ---------------------------------------------------------------------------------------\n",
    "\n",
    "        # Compute the distance of each particle to the center and sum in radial bins\n",
    "        dist = np.linalg.norm(stars_halo_c, axis=1)\n",
    "        #for d in stars_halo_c:\n",
    "        #    D = np.sqrt(sum([c**2 for c in d]))\n",
    "        #    if D < 100: dist.append(D)\n",
    "        M_stars = np.array([np.sum( stars_halo_m[np.where(np.array(dist) < R)[0]] ) for R in R_bins])\n",
    "        ind_stars = np.where(np.array(dist) < (3 * properties[i, 4]))[0] # Keep only close particles\n",
    "        # ---------------------------------------------------------------------------------------\n",
    "\n",
    "        # Let's load the stars particles of the halo to which the subhalo belongs\n",
    "        \n",
    "        gas_halo = get('http://www.tng-project.org/api/TNG100-1/snapshots/99/halos/' + str(gid) + '/' + 'cutout.hdf5', \n",
    "                       {'gas':'coordinates,density,ElectronAbundance,GFM_Metallicity,GFM_Metals,InternalEnergy,masses,SubfindHsml,velocities'})        \n",
    "                       #{'gas':'coordinates,density,GFM_Metallicity,masses,SubfindHsml,velocities'})\n",
    "        #gas_halo = il.snapshot.loadHalo('/home/tnguser/sims.TNG/TNG100-1/output/', 99, gid, 'gas', fields=['Coordinates']) / h\n",
    "        #masses = il.snapshot.loadHalo('/home/tnguser/sims.TNG/TNG100-1/output/', 99, gid, 'gas', fields=['Masses']) * 1e10 / h\n",
    "        gas_halo_c = gas_halo[0] / h\n",
    "        gas_halo_m = gas_halo[6] * 1e10 / h\n",
    "        gas_halo_v = gas_halo[8]\n",
    "        gas_halo_HI = gas_halo[4][:,0]\n",
    "\n",
    "        # ---------------------------------------------------------------------------------------\n",
    "\n",
    "        # If the halo is near the border let's center it\n",
    "        aux_ind = np.where( (gas_halo_c[:, 0] - center_sub[0]) > (box_size / 2) )[0]\n",
    "        gas_halo_c[aux_ind, 0] = gas_halo_c[aux_ind, 0] - box_size\n",
    "        aux_ind = np.where( (center_sub[0] - gas_halo_c[:, 0]) > (box_size / 2) )[0]\n",
    "        gas_halo_c[aux_ind, 0] = gas_halo_c[aux_ind, 0] + box_size\n",
    "        aux_ind = np.where( (gas_halo_c[:, 1] - center_sub[1]) > (box_size / 2) )[0]\n",
    "        gas_halo_c[aux_ind, 1] = gas_halo_c[aux_ind, 1] - box_size\n",
    "        aux_ind = np.where( (center_sub[1] - gas_halo_c[:, 1]) > (box_size / 2) )[0]\n",
    "        gas_halo_c[aux_ind, 1] = gas_halo_c[aux_ind, 1] + box_size\n",
    "        aux_ind = np.where( (gas_halo_c[:, 2] - center_sub[2]) > (box_size / 2) )[0]\n",
    "        gas_halo_c[aux_ind, 2] = gas_halo_c[aux_ind, 2] - box_size\n",
    "        aux_ind = np.where( (center_sub[2] - gas_halo_c[:, 2]) > (box_size / 2) )[0]\n",
    "        gas_halo_c[aux_ind, 2] = gas_halo_c[aux_ind, 2] + box_size\n",
    "        # ----------------------Let's center de coords---------------------\n",
    "        gas_halo_c = gas_halo_c - center_sub        \n",
    "        gas_halo_v = gas_halo_v - velocity\n",
    "        # ---------------------------------------------------------------------------------------\n",
    "\n",
    "        # Compute the distance of each particle to the center and sum in radial bins\n",
    "        dist = np.linalg.norm(gas_halo_c, axis=1)\n",
    "        #for d in gas_halo_c:\n",
    "        #    D = np.sqrt(sum([c**2 for c in d]))\n",
    "        #    if D < 100: dist.append(D)\n",
    "        M_gas = np.array([np.sum( gas_halo_m[np.where(np.array(dist) < R)[0]] ) for R in R_bins])\n",
    "\n",
    "        ind_gas = np.where(np.array(dist) < (3 * properties[i, 4]))[0] # Keep only close particles\n",
    "        gr.create_dataset('R_bins', data = R_bins)\n",
    "        gr.create_dataset('M_DM', data = M)\n",
    "        gr.create_dataset('M_stars', data = M_stars)   \n",
    "        gr.create_dataset('M_gas', data = M_gas)\n",
    "# ---------------------------------------------------------------------------------------\n",
    "#except:\n",
    "#    pass\n",
    "        if save_part_halo:\n",
    "            np.savetxt('../data/particles/halo_' + str(gid) + '_subhalo_' + str(ids) + '_starsCoord.txt', stars_halo_c[ind_stars])\n",
    "            np.savetxt('../data/particles/halo_' + str(gid) + '_subhalo_' + str(ids) + '_starsInitMass.txt', stars_halo[1][ind_stars])\n",
    "            np.savetxt('../data/particles/halo_' + str(gid) + '_subhalo_' + str(ids) + '_starsMetal.txt', stars_halo[2][ind_stars])\n",
    "            np.savetxt('../data/particles/halo_' + str(gid) + '_subhalo_' + str(ids) + '_starsSFT.txt', stars_halo[3][ind_stars])\n",
    "            np.savetxt('../data/particles/halo_' + str(gid) + '_subhalo_' + str(ids) + '_starsMasses.txt', stars_halo_m[ind_stars])\n",
    "            np.savetxt('../data/particles/halo_' + str(gid) + '_subhalo_' + str(ids) + '_starsHsml.txt', stars_halo[5][ind_stars])\n",
    "            np.savetxt('../data/particles/halo_' + str(gid) + '_subhalo_' + str(ids) + '_starsVels.txt', stars_halo_v[ind_stars])\n",
    "            if flag_gas:\n",
    "                np.savetxt('../data/particles/halo_' + str(gid) + '_subhalo_' + str(ids) + '_gasCoord.txt', gas_halo_c[ind_gas])\n",
    "                np.savetxt('../data/particles/halo_' + str(gid) + '_subhalo_' + str(ids) + '_gasDens.txt', gas_halo[1][ind_gas])\n",
    "                np.savetxt('../data/particles/halo_' + str(gid) + '_subhalo_' + str(ids) + '_eAbund.txt', gas_halo[2][ind_gas])\n",
    "                np.savetxt('../data/particles/halo_' + str(gid) + '_subhalo_' + str(ids) + '_gasMetal.txt', gas_halo[3][ind_gas])\n",
    "                np.savetxt('../data/particles/halo_' + str(gid) + '_subhalo_' + str(ids) + '_gasHI.txt', gas_halo_HI[ind_gas])\n",
    "                np.savetxt('../data/particles/halo_' + str(gid) + '_subhalo_' + str(ids) + '_intEne.txt', gas_halo[5][ind_gas])\n",
    "                np.savetxt('../data/particles/halo_' + str(gid) + '_subhalo_' + str(ids) + '_gasMasses.txt', gas_halo_m[ind_gas])\n",
    "                np.savetxt('../data/particles/halo_' + str(gid) + '_subhalo_' + str(ids) + '_gasHsml.txt', gas_halo[7][ind_gas])\n",
    "                np.savetxt('../data/particles/halo_' + str(gid) + '_subhalo_' + str(ids) + '_gasVels.txt', gas_halo_v[ind_gas])\n",
    "\n",
    "        # Let's save a flag indicating that everything was done\n",
    "        gr.attrs['done'] = True\n",
    "    \n",
    "# Let's delete from the properties dataset the rows with no info\n",
    "        if (i % 10) == 0:\n",
    "            # After 10 subhalos let's save the data and start again\n",
    "            properties = np.delete(properties, np.where(properties[:,2] == 0)[0], axis = 0)\n",
    "\n",
    "            if len(properties[:,0] > 0):\n",
    "                if flag_MainProps:\n",
    "                    properties = np.vstack((old_MainProps, properties))\n",
    "                    del data['MainProps']\n",
    "                    data.create_dataset('MainProps', data = properties)\n",
    "                else:\n",
    "                    data.create_dataset('MainProps', data = properties)\n",
    "            data.close()\n",
    "            data = h5py.File(file, 'a')\n",
    "            try:\n",
    "                flag_MainProps = True\n",
    "                old_MainProps = data['MainProps'][()]\n",
    "            except:\n",
    "                flag_MainProps = False\n",
    "            properties = np.zeros((nsubhalos, 17))"
   ]
  },
  {
   "cell_type": "code",
   "execution_count": 32,
   "metadata": {},
   "outputs": [],
   "source": [
    "i = 4\n",
    "sub_meta = get(subhalos['results'][i]['url'])"
   ]
  },
  {
   "cell_type": "code",
   "execution_count": 33,
   "metadata": {},
   "outputs": [],
   "source": [
    "center_sub = [(sub_meta['pos_x'] / h),\n",
    "               (sub_meta['pos_y'] / h),\n",
    "               (sub_meta['pos_z'] / h)]\n",
    "\n",
    "velocity = [(sub_meta['vel_x']),\n",
    "               (sub_meta['vel_y']),\n",
    "               (sub_meta['vel_z'])]"
   ]
  },
  {
   "cell_type": "code",
   "execution_count": 13,
   "metadata": {},
   "outputs": [],
   "source": [
    "gid = 0"
   ]
  },
  {
   "cell_type": "code",
   "execution_count": 14,
   "metadata": {},
   "outputs": [],
   "source": [
    "gas_halo = get('http://www.tng-project.org/api/TNG100-1/snapshots/99/halos/' + str(gid) + '/' + 'cutout.hdf5', \n",
    "                       {'gas':'coordinates,density,ElectronAbundance,GFM_Metallicity,GFM_Metals,InternalEnergy,masses,SubfindHsml,velocities'})        \n",
    "       "
   ]
  },
  {
   "cell_type": "code",
   "execution_count": 15,
   "metadata": {},
   "outputs": [
    {
     "data": {
      "text/plain": [
       "(44613679, 3)"
      ]
     },
     "execution_count": 15,
     "metadata": {},
     "output_type": "execute_result"
    }
   ],
   "source": [
    "gas_halo[0].shape"
   ]
  },
  {
   "cell_type": "code",
   "execution_count": 22,
   "metadata": {},
   "outputs": [],
   "source": [
    "gas_halo_c = gas_halo[0] / h\n",
    "gas_halo_m = gas_halo[6] * 1e10 / h\n",
    "gas_halo_v = gas_halo[8]\n",
    "gas_halo_HI = gas_halo[4][:,0]\n",
    "\n",
    "# ---------------------------------------------------------------------------------------\n",
    "\n",
    "# If the halo is near the border let's center it\n",
    "aux_ind = np.where( (gas_halo_c[:, 0] - center_sub[0]) > (box_size / 2) )[0]\n",
    "gas_halo_c[aux_ind, 0] = gas_halo_c[aux_ind, 0] - box_size\n",
    "aux_ind = np.where( (center_sub[0] - gas_halo_c[:, 0]) > (box_size / 2) )[0]\n",
    "gas_halo_c[aux_ind, 0] = gas_halo_c[aux_ind, 0] + box_size\n",
    "aux_ind = np.where( (gas_halo_c[:, 1] - center_sub[1]) > (box_size / 2) )[0]\n",
    "gas_halo_c[aux_ind, 1] = gas_halo_c[aux_ind, 1] - box_size\n",
    "aux_ind = np.where( (center_sub[1] - gas_halo_c[:, 1]) > (box_size / 2) )[0]\n",
    "gas_halo_c[aux_ind, 1] = gas_halo_c[aux_ind, 1] + box_size\n",
    "aux_ind = np.where( (gas_halo_c[:, 2] - center_sub[2]) > (box_size / 2) )[0]\n",
    "gas_halo_c[aux_ind, 2] = gas_halo_c[aux_ind, 2] - box_size\n",
    "aux_ind = np.where( (center_sub[2] - gas_halo_c[:, 2]) > (box_size / 2) )[0]\n",
    "gas_halo_c[aux_ind, 2] = gas_halo_c[aux_ind, 2] + box_size\n",
    "# ----------------------Let's center de coords---------------------\n",
    "gas_halo_c = gas_halo_c - center_sub        \n",
    "gas_halo_v = gas_halo_v - velocity"
   ]
  },
  {
   "cell_type": "code",
   "execution_count": 41,
   "metadata": {},
   "outputs": [
    {
     "data": {
      "text/plain": [
       "[2105.9787422497784, 38886.034839090644, 28109.241216415707]"
      ]
     },
     "execution_count": 41,
     "metadata": {},
     "output_type": "execute_result"
    }
   ],
   "source": [
    "center_sub"
   ]
  },
  {
   "cell_type": "code",
   "execution_count": 25,
   "metadata": {},
   "outputs": [],
   "source": [
    "dist = np.linalg.norm(gas_halo_c, axis=1)\n",
    "M_gas = np.array([np.sum( gas_halo_m[np.where(np.array(dist) < R)[0]] ) for R in R_bins])\n",
    "\n",
    "ind_gas = np.where(np.array(dist) < (3 * sub_meta['halfmassrad'] / h))[0] # Keep only close particles\n"
   ]
  },
  {
   "cell_type": "code",
   "execution_count": 44,
   "metadata": {},
   "outputs": [
    {
     "data": {
      "text/plain": [
       "5565.422503027781"
      ]
     },
     "execution_count": 44,
     "metadata": {},
     "output_type": "execute_result"
    }
   ],
   "source": [
    "np.max(gas_halo_c[:,0] * (1/1000) * 100 * h  + gas_halo_v[:,0])"
   ]
  },
  {
   "cell_type": "code",
   "execution_count": 46,
   "metadata": {},
   "outputs": [
    {
     "data": {
      "text/plain": [
       "5617.63779296875"
      ]
     },
     "execution_count": 46,
     "metadata": {},
     "output_type": "execute_result"
    }
   ],
   "source": [
    "np.max(gas_halo_v[:,0])"
   ]
  },
  {
   "cell_type": "code",
   "execution_count": 38,
   "metadata": {},
   "outputs": [],
   "source": [
    "ind_gas = np.where((np.abs(gas_halo_c[:,0]) < 1002) &\n",
    "                   (np.abs(gas_halo_c[:,1]) < 756.4) &\n",
    "                   (np.abs(gas_halo_c[:,2]) < 780) \n",
    "                  )[0]"
   ]
  },
  {
   "cell_type": "code",
   "execution_count": 40,
   "metadata": {},
   "outputs": [
    {
     "data": {
      "text/plain": [
       "44613679"
      ]
     },
     "execution_count": 40,
     "metadata": {},
     "output_type": "execute_result"
    }
   ],
   "source": [
    "len(gas_halo_c)"
   ]
  },
  {
   "cell_type": "code",
   "execution_count": 39,
   "metadata": {},
   "outputs": [
    {
     "data": {
      "text/plain": [
       "4026752"
      ]
     },
     "execution_count": 39,
     "metadata": {},
     "output_type": "execute_result"
    }
   ],
   "source": [
    "len(ind_gas)"
   ]
  },
  {
   "cell_type": "code",
   "execution_count": 18,
   "metadata": {},
   "outputs": [
    {
     "name": "stdout",
     "output_type": "stream",
     "text": [
      "uhu\n"
     ]
    }
   ],
   "source": [
    "print('uhu')"
   ]
  },
  {
   "cell_type": "code",
   "execution_count": 19,
   "metadata": {},
   "outputs": [],
   "source": [
    "data.close()"
   ]
  },
  {
   "cell_type": "code",
   "execution_count": 29,
   "metadata": {},
   "outputs": [
    {
     "data": {
      "text/plain": [
       "False"
      ]
     },
     "execution_count": 29,
     "metadata": {},
     "output_type": "execute_result"
    }
   ],
   "source": [
    "data['SubID_1'].attrs['done']"
   ]
  },
  {
   "cell_type": "code",
   "execution_count": 81,
   "metadata": {},
   "outputs": [
    {
     "data": {
      "text/plain": [
       "<HDF5 dataset \"V_rot_stars_IT\": shape (19,), type \"<f8\">"
      ]
     },
     "execution_count": 81,
     "metadata": {},
     "output_type": "execute_result"
    }
   ],
   "source": [
    "data['SubID_2/V_rot_stars_IT']"
   ]
  },
  {
   "cell_type": "code",
   "execution_count": 86,
   "metadata": {},
   "outputs": [
    {
     "data": {
      "text/plain": [
       "[<matplotlib.lines.Line2D at 0x7fe4a289c9a0>]"
      ]
     },
     "execution_count": 86,
     "metadata": {},
     "output_type": "execute_result"
    },
    {
     "data": {
      "image/png": "[encoded data removed]",
      "text/plain": [
       "<Figure size 640x480 with 2 Axes>"
      ]
     },
     "metadata": {},
     "output_type": "display_data"
    }
   ],
   "source": [
    "fig,ax = plt.subplots(1,2)\n",
    "\n",
    "ax[0].plot(data['SubID_2/R_bins'][()], data['SubID_2/M_DM'][()], color = 'black', ls = 'solid', label = 'DM')\n",
    "ax[0].plot(data['SubID_2/R_bins'][()], data['SubID_2/M_DM_sub'][()], color = 'black', ls = '--')\n",
    "ax[0].plot(data['SubID_2/R_bins'][()], data['SubID_2/M_gas'][()], color = 'coral', ls = 'solid', label = 'gas')\n",
    "ax[0].plot(data['SubID_2/R_bins'][()], data['SubID_2/M_gas_sub'][()], color = 'coral', ls = '--')\n",
    "ax[0].plot(data['SubID_2/R_bins'][()], data['SubID_2/M_stars'][()], color = 'darkcyan', ls = 'solid', label = 'stars')\n",
    "ax[0].plot(data['SubID_2/R_bins'][()], data['SubID_2/M_stars_sub'][()], color = 'darkcyan', ls = '--')\n",
    "#plt.xscale('log')\n",
    "ax[0].set_yscale('log')\n",
    "ax[0].legend()\n",
    "\n",
    "ax[1].plot(data['SubID_2/R_bins'][()][1:], data['SubID_2/V_rot_gas_AM'][()], color = 'coral', ls = 'solid')\n",
    "ax[1].plot(data['SubID_2/R_bins'][()][1:], data['SubID_2/V_rot_stars_AM'][()], color = 'darkcyan', ls = 'solid')\n",
    "ax[1].plot(data['SubID_2/R_bins'][()][1:], data['SubID_2/V_rot_gas_IT'][()], color = 'coral', ls = '--')\n",
    "ax[1].plot(data['SubID_2/R_bins'][()][1:], data['SubID_2/V_rot_stars_IT'][()], color = 'darkcyan', ls = '--')"
   ]
  },
  {
   "cell_type": "code",
   "execution_count": null,
   "metadata": {},
   "outputs": [],
   "source": []
  }
 ],
 "metadata": {
  "kernelspec": {
   "display_name": "Python 3 (ipykernel)",
   "language": "python",
   "name": "python3"
  },
  "language_info": {
   "codemirror_mode": {
    "name": "ipython",
    "version": 3
   },
   "file_extension": ".py",
   "mimetype": "text/x-python",
   "name": "python",
   "nbconvert_exporter": "python",
   "pygments_lexer": "ipython3",
   "version": "3.9.20"
  }
 },
 "nbformat": 4,
 "nbformat_minor": 4
}
